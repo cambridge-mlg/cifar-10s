{
 "cells": [
  {
   "cell_type": "code",
   "execution_count": 1,
   "id": "e036b947",
   "metadata": {},
   "outputs": [],
   "source": [
    "'''\n",
    "Construct soft labels from elicited individual annotator information \n",
    "'''\n",
    "\n",
    "\n",
    "import pandas as pd\n",
    "import numpy as np\n",
    "import os \n",
    "import itertools\n",
    "import json \n",
    "import importlib \n",
    "import label_construction_utils as utils\n",
    "\n",
    "save_dir = \"./\"\n",
    "\n",
    "if not os.path.isdir(save_dir):\n",
    "    os.makedirs(save_dir)\n",
    "    \n",
    "class_names = ['Airplane', 'Automobile', 'Bird','Cat', 'Deer','Dog', 'Frog', 'Horse', 'Ship', 'Truck']\n",
    "num_classes = len(class_names)\n",
    "class2idx = {class_name: idx for idx, class_name in enumerate(class_names)}\n",
    "idx2class = {idx: class_name for class_name, idx in class2idx.items()}"
   ]
  },
  {
   "cell_type": "code",
   "execution_count": 2,
   "id": "935bf37b",
   "metadata": {},
   "outputs": [],
   "source": [
    "'''\n",
    "Read in processed elicitation data\n",
    "'''\n",
    "\n",
    "elicitation_file = \"human_soft_labels_data.json\"\n",
    "\n",
    "with open(elicitation_file, \"r\") as f: \n",
    "    all_elicitation_per_example = json.load(f)\n"
   ]
  },
  {
   "cell_type": "code",
   "execution_count": 3,
   "id": "47e93b77",
   "metadata": {},
   "outputs": [],
   "source": [
    "'''\n",
    "Create labels for various label varieties\n",
    "\n",
    "The below shows Top 2, Clamp settings\n",
    "Using redist_level = 0.1 like in paper\n",
    "\n",
    "E.g., if an annotator assigns 80% prob to deer and 20% to horse, but says dog and cat are also possible\n",
    "Then 5% mass will be spread to dog and cat, and the others will be dropped s.t. tot sum is 100%\n",
    "\n",
    "This is done b/c, in the above example, if an annotator says a category is possible, it ought to have some non-zero probabilty\n",
    "'''\n",
    "\n",
    "include_top_2 = True # if False, just use Top-1 prob \n",
    "redist = \"clamp\" # could also use \"uniform\"\n",
    "redist_level = 0.1\n",
    "\n",
    "example_idxs = all_elicitation_per_example.keys()\n",
    "\n",
    "soft_labels_per = {example_idx: [] for example_idx in example_idxs}\n",
    "agg_soft_labels_per = {example_idx: [] for example_idx in all_elicitation_per_example.keys()}\n",
    "\n",
    "for example_idx, elic_data in all_elicitation_per_example.items():\n",
    "    soft_labels = []\n",
    "    for single_annotator_info in elic_data: \n",
    "        soft_label = utils.construct_elicited_soft_label(single_annotator_info, class2idx, idx2class, include_top_2 = include_top_2,\n",
    "                                                         redist=redist, redist_factor=redist_level)\n",
    "\n",
    "        soft_labels.append(soft_label)\n",
    "        \n",
    "        soft_labels_per[example_idx].append(list(soft_label))\n",
    "        \n",
    "    # demonstrating an example aggregation over individuals' labels\n",
    "    agg_label = np.mean(soft_labels,axis=0)\n",
    "    agg_soft_labels_per[example_idx] = agg_label\n",
    "\n"
   ]
  },
  {
   "cell_type": "code",
   "execution_count": 4,
   "id": "03bbcb21",
   "metadata": {},
   "outputs": [],
   "source": [
    "'''\n",
    "Save out\n",
    "'''\n",
    "with open(\"cifar10s_t2clamp_redist10.json\", \"w\") as f:\n",
    "    json.dump(soft_labels_per, f)"
   ]
  }
 ],
 "metadata": {
  "kernelspec": {
   "display_name": "Python 3",
   "language": "python",
   "name": "python3"
  },
  "language_info": {
   "codemirror_mode": {
    "name": "ipython",
    "version": 3
   },
   "file_extension": ".py",
   "mimetype": "text/x-python",
   "name": "python",
   "nbconvert_exporter": "python",
   "pygments_lexer": "ipython3",
   "version": "3.8.8"
  }
 },
 "nbformat": 4,
 "nbformat_minor": 5
}
