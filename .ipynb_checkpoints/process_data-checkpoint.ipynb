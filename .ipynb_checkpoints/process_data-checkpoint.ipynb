{
 "cells": [
  {
   "cell_type": "code",
   "execution_count": 4,
   "id": "56d5156b",
   "metadata": {},
   "outputs": [
    {
     "ename": "ModuleNotFoundError",
     "evalue": "No module named 'label_construction_utils'",
     "output_type": "error",
     "traceback": [
      "\u001b[0;31m---------------------------------------------------------------------------\u001b[0m",
      "\u001b[0;31mModuleNotFoundError\u001b[0m                       Traceback (most recent call last)",
      "\u001b[0;32m<ipython-input-4-87c0170cd446>\u001b[0m in \u001b[0;36m<module>\u001b[0;34m\u001b[0m\n\u001b[1;32m     16\u001b[0m \u001b[0;32mimport\u001b[0m \u001b[0mimportlib\u001b[0m\u001b[0;34m\u001b[0m\u001b[0;34m\u001b[0m\u001b[0m\n\u001b[1;32m     17\u001b[0m \u001b[0;32mimport\u001b[0m \u001b[0mscipy\u001b[0m\u001b[0;34m.\u001b[0m\u001b[0mstats\u001b[0m\u001b[0;34m\u001b[0m\u001b[0;34m\u001b[0m\u001b[0m\n\u001b[0;32m---> 18\u001b[0;31m \u001b[0;32mimport\u001b[0m \u001b[0mlabel_construction_utils\u001b[0m \u001b[0;32mas\u001b[0m \u001b[0mutils\u001b[0m\u001b[0;34m\u001b[0m\u001b[0;34m\u001b[0m\u001b[0m\n\u001b[0m\u001b[1;32m     19\u001b[0m \u001b[0;34m\u001b[0m\u001b[0m\n\u001b[1;32m     20\u001b[0m \u001b[0;34m\u001b[0m\u001b[0m\n",
      "\u001b[0;31mModuleNotFoundError\u001b[0m: No module named 'label_construction_utils'"
     ]
    }
   ],
   "source": [
    "'''\n",
    "Analyze per-annotator uncertainty elictiation data\n",
    "'''\n",
    "\n",
    "import pandas as pd\n",
    "import numpy as np\n",
    "import os \n",
    "import seaborn as sns\n",
    "import itertools\n",
    "import json \n",
    "import matplotlib.pyplot as plt \n",
    "from scipy.stats import entropy\n",
    "# extract saved response dict directly \n",
    "# help from: https://stackoverflow.com/questions/988228/convert-a-string-representation-of-a-dictionary-to-a-dictionary\n",
    "import ast\n",
    "import importlib \n",
    "import scipy.stats\n",
    "import label_construction_utils as utils\n",
    "\n",
    "\n",
    "exp_dir = \"/Users/kcollins/per-annotator-uncertainty\"\n",
    "save_dir = \"./per_ann_unc_res/\"\n",
    "\n",
    "if not os.path.isdir(save_dir):\n",
    "    os.makedirs(save_dir)\n",
    "    \n",
    "ax_size = 18\n",
    "title_size = 20\n",
    "\n",
    "most_prob_class_txt = \"Most Probable Class\"\n",
    "second_prob_class_txt = \"Second Most Probable Class\"\n",
    "imposs_txt = \"Impossible Class(es)\"\n",
    "\n",
    "most_prob_txt = f\"{most_prob_class_txt} Prob\"\n",
    "second_prob_txt = f\"{second_prob_class_txt} Prob\"\n",
    "\n",
    "none_option = \"No\" # from second \n",
    "\n",
    "def participant_completed(subj_df): \n",
    "    '''\n",
    "    Check if a participant completed the study\n",
    "    For ours, this is if they filled out the final instructions\n",
    "    Final survey page is the only one of type \"survey-text\"\n",
    "    So we can check if that page was reached \n",
    "    Return True if completed, else False\n",
    "    '''\n",
    "    final_survey_res = subj_df.loc[subj_df.trial_type == \"survey-text\"]\n",
    "    if len(final_survey_res) != 0: \n",
    "        return True\n",
    "    else: return False\n",
    "\n",
    "\n",
    "def process_response(data_entry, subj_id=None): \n",
    "    # return processed human response\n",
    "    # note: messy from to output format used for html inputs to avoid data saving issues\n",
    "    # extract dict directly from: https://stackoverflow.com/questions/988228/convert-a-string-representation-of-a-dictionary-to-a-dictionary\n",
    "    data_entry = ast.literal_eval(data_entry)\n",
    "    most_prob_class = data_entry[\"classSelect\"].split(\"mostProb\")[-1] # needed to store tag to avoid data overlap on saving\n",
    "    if data_entry[\"prob\"] == \"8p\": most_prob = 80 # manually adjust\n",
    "    else: most_prob = float(data_entry[\"prob\"])\n",
    "    if most_prob == 0: print(subj_id)\n",
    "    second_most_prob_class = data_entry[\"classSelect2\"].split(\"secondProb\")[-1]\n",
    "    if \"prob2\" in data_entry and second_most_prob_class != none_option:\n",
    "        if data_entry[\"prob2\"] != \"\": second_prob = float(data_entry[\"prob2\"])\n",
    "        else:\n",
    "            second_prob = None\n",
    "    else: second_prob = None\n",
    "    \n",
    "    # all imposs classes selected had \"improbClassSelect\" as the starter tag, with class name after\n",
    "    save_tag = \"improbClassSelect\"\n",
    "    selected_imposs_classes = [save_txt.split(save_tag)[-1] for save_txt in set(data_entry.keys()) if save_tag in save_txt]\n",
    "    \n",
    "    return {most_prob_class_txt: most_prob_class, most_prob_txt: most_prob,\n",
    "            second_prob_class_txt: second_most_prob_class, second_prob_txt: second_prob,\n",
    "            imposs_txt: selected_imposs_classes} \n",
    "\n",
    "def annotator_accuracy(subj_df, use_top_2=False): \n",
    "    '''\n",
    "    Compute the accuracy of the class(es) selected as most probable against cifar10 \"gold\" labels\n",
    "    '''\n",
    "    score=0\n",
    "    subj_id = subj_df[id_col].iloc[0]\n",
    "    for response, filename in zip(subj_df.response, subj_df.filename): \n",
    "        response = process_response(response, subj_id)\n",
    "        eval_set, example_idx, cifar_label = filename.split(\".png\")[0].split(\"_\")[1:]\n",
    "        if cifar_label == response[most_prob_class_txt]: score += 1 \n",
    "        elif use_top_2 and cifar_label == response[second_prob_class_txt]: score+=1\n",
    "#         if response[most_prob_class_txt] == response[second_prob_class_txt]: print(subj_id, subj_df.prolific_id.iloc[0], response, filename)\n",
    "    return score/len(subj_df.response)\n",
    "    \n",
    "def clean_axes(ax):\n",
    "    # clean axes for display\n",
    "    ax.set_yticks([])\n",
    "    ax.set_xticks([])\n",
    "    \n",
    "# note, classes are alphabetized, as per cifar-10h index matching \n",
    "# note: we add the Other class at the end \n",
    "class_names = ['Airplane', 'Automobile', 'Bird','Cat', 'Deer','Dog', 'Frog', 'Horse', 'Ship', 'Truck']#, 'Other']\n",
    "num_classes = len(class_names)\n",
    "class2idx = {class_name: idx for idx, class_name in enumerate(class_names)}\n",
    "idx2class = {idx: class_name for class_name, idx in class2idx.items()}\n",
    "\n",
    "'''\n",
    "Load in and compare against CIFAR-10H\n",
    "'''\n",
    "cifar10h_data_dir = \"/Users/kcollins/hill_mixup/cifar-10h-master/data/\"\n",
    "cifar10h_data = np.load(f\"{cifar10h_data_dir}cifar10h-probs.npy\")\n",
    "cifar10h_counts = np.load(f\"{cifar10h_data_dir}cifar10h-counts.npy\")\n",
    "\n",
    "data_dir = f\"{exp_dir}/data/\"\n",
    "\n",
    "# data_dir = f\"/Users/kcollins/Downloads/data_backup_june27/\"\n",
    "\n",
    "id_col = \"subject\" # contains an auto-generated, non-identifiable id to protect anonymity \n",
    "\n",
    "exp_res_files = [f\"{data_dir}{filename}\" for filename in os.listdir(data_dir) if \".csv\" in filename]\n",
    "# loop over each participants' results and keep if they finished\n",
    "participant_dfs = []\n",
    "v0_pilot_participants = {\"917992cm7vh0npt\", \"pg1m8tl8gm524bq\", \"xtk7pt02ab5zp19\"}\n",
    "v0_pilot_participants.update({\"76beyvm8f9lvc3b\", \"otftevu56npda79\"}) # second-round elicitation\n",
    "# removing \"kef0nc53fyzf5oo\" b/c they did the \"other probable\" elicitation \n",
    "# removing \"8u0xhskp6d8y3tb\" b/c they specified same most prob and second prob\n",
    "# removing \"pr1f490cywezezo\" b/c they didn't always enter a number for the prob... \n",
    "remove_ids = {\"8u0xhskp6d8y3tb\", \"kef0nc53fyzf5oo\", \"bwqw65lsk5hs3ej\", \"dpxlu3s7v199bu0\", \"pr1f490cywezezo\"} #{\"dpxlu3s7v199bu0\"}#{\"jodm57et1p09f4h\", \"ynf38wj7jmaxe2f\", \"vasf3lrnr7rs4go\", \"pzqmxcbkulcl6fm\"} # keep track of \"problematic\" ids that we want to remove (manually determined) and pilot participants from early\n",
    "# remove_double_click_pids= check_ids\n",
    "for exp_res_file in exp_res_files: \n",
    "    if \".DS_Store\" in exp_res_file: continue\n",
    "#     print(exp_res_file)\n",
    "    subj_df = pd.read_csv(exp_res_file)\n",
    "    if participant_completed(subj_df): \n",
    "        subj_id = subj_df[id_col].iloc[0]\n",
    "        if subj_id not in remove_ids and subj_id not in v0_pilot_participants:\n",
    "            participant_dfs.append(subj_df)        \n",
    "# merge into a full df \n",
    "df = pd.concat(participant_dfs, ignore_index=True)\n",
    "\n",
    "# remove identifying information and re-save\n",
    "remove_cols = ['internal_node_id', 'session_id']#, 'prolific_id']\n",
    "df = df.drop(columns = remove_cols)\n",
    "\n",
    "subj_ids = set(df[id_col])\n",
    "\n",
    "# save the safegaurded data\n",
    "df.to_csv(f\"{save_dir}human_data.csv\")\n",
    "\n",
    "'''\n",
    "Filter to just include main data \n",
    "'''\n",
    "\n",
    "response_df = df[(df.trial_type == 'survey-html-form')].reset_index()\n",
    "\n",
    "# store a mapping from image id to batch number (helping for figuring out which batches to investigate or run extra)\n",
    "image_id2batch = {}\n",
    "for image_id, batch_num in zip(response_df.img_id, response_df.condition): \n",
    "    image_id = int(image_id)\n",
    "    if image_id not in image_id2batch: image_id2batch[image_id] = batch_num\n",
    "\n",
    "response_df.columns\n",
    "\n",
    "'''\n",
    "Extract data from each annotator\n",
    "Save in a format ammenable to label creation \n",
    "\n",
    "To start, create the label as we go\n",
    "For each filename, keep track of annotator \"label\"(s) \n",
    "Place the specified prob mass on the most prob and (possibly) second most prob\n",
    "Have a separate structure which stores \"definitely not\" information\n",
    "Which we can optionally leverage when smoothing\n",
    "'''\n",
    "\n",
    "check_annotators_double_select = {}\n",
    "check_annotators_wrong_prob_scale = {}\n",
    "check_annotators_no_prob = {}\n",
    "\n",
    "filenames = set(response_df.filename)\n",
    "example_idxs = set([int(idx) for idx in set(response_df.img_id)])\n",
    "\n",
    "example_idx2filename = {int(filename.split(\"_\")[2]): filename for filename in filenames}\n",
    "\n",
    "for subj_id in subj_ids: \n",
    "    subj_df = response_df.loc[response_df[id_col] == subj_id]\n",
    "    for (data_entry, filename, example_idx) in zip(subj_df.response, subj_df.filename, subj_df.img_id):\n",
    "        \n",
    "        prolific_id = subj_df.prolific_id.iloc[0]\n",
    "        elicited_data = process_response(data_entry, subj_id)\n",
    "        \n",
    "        most_prob_class = elicited_data[most_prob_class_txt]\n",
    "        second_most_prob_class = elicited_data[second_prob_class_txt]\n",
    "        selected_imposs_classes = elicited_data[imposs_txt]\n",
    "        most_prob = elicited_data[most_prob_txt]\n",
    "        second_prob = elicited_data[second_prob_txt]\n",
    "        \n",
    "#         if subj_id == \"h2ec5hcw0esb3oy\": print(\"checking!!!!!!!!!!!\", prolific_id)\n",
    "        \n",
    "\n",
    "        \n",
    "        # check if need to remove\n",
    "        if most_prob_class in set(selected_imposs_classes) or second_most_prob_class in set(selected_imposs_classes):\n",
    "            if prolific_id not in check_annotators_double_select: check_annotators_double_select[prolific_id] = 1\n",
    "            else: check_annotators_double_select[prolific_id] += 1                \n",
    "#             if prolific_id == \"5e646461698a071f2f15423e\": \n",
    "#                 print(\"HEre\", most_prob_class, second_most_prob_class, selected_imposs_classes)\n",
    "\n",
    "        if (most_prob > 100 or most_prob < 0) or (second_prob is not None and (second_prob > 100 or second_prob <0)):\n",
    "            print(most_prob, second_prob, prolific_id, filename, most_prob_class)\n",
    "            if prolific_id not in check_annotators_wrong_prob_scale: check_annotators_wrong_prob_scale[prolific_id] = 1\n",
    "            else: check_annotators_wrong_prob_scale[prolific_id] += 1\n",
    "                \n",
    "        if most_prob == 0:\n",
    "            print(second_prob, selected_imposs_classes, prolific_id)\n",
    "            if prolific_id not in check_annotators_no_prob: check_annotators_no_prob[prolific_id] = 1\n",
    "            else: check_annotators_no_prob[prolific_id] += 1\n",
    "        "
   ]
  },
  {
   "cell_type": "code",
   "execution_count": 5,
   "id": "d0b7bfef",
   "metadata": {},
   "outputs": [
    {
     "name": "stdout",
     "output_type": "stream",
     "text": [
      "b6at9xq30rdgs60\n",
      "mnvcofkbpnvcscy\n",
      "vtrn5nxg2l5ama3\n",
      "1vhrwafvne58ofc\n",
      "aradn40wyy2wjtb\n",
      "ytq8277qzrd4hds\n",
      "bzb4grr1e1ac9qk\n",
      "bzb4grr1e1ac9qk\n",
      "4e4yer3mvce28up\n",
      "b6at9xq30rdgs60\n",
      "h007jnb54b9udsx\n",
      "mnvcofkbpnvcscy\n",
      "vpudnc88o27z2ob\n",
      "vtrn5nxg2l5ama3\n",
      "1vhrwafvne58ofc\n",
      "aradn40wyy2wjtb\n",
      "ytq8277qzrd4hds\n",
      "bzb4grr1e1ac9qk\n",
      "bzb4grr1e1ac9qk\n",
      "4e4yer3mvce28up\n",
      "puzt8w7vdfs1xgn\n",
      "2ve7f09kxbv2xmm\n",
      "gjsxnarlzy9ukgp\n",
      "Tot rem: 45\n",
      "New rem: {'5f0f18665f351603c353485f', '6277f24d24ba4608b3fa016c', '5c509cad3e4c8400010ac228'}, [('5f0f18665f351603c353485f', 2), ('6277f24d24ba4608b3fa016c', 7), ('5c509cad3e4c8400010ac228', 2)]\n"
     ]
    }
   ],
   "source": [
    "'''\n",
    "Save out and remove any participants who fail exclusion criteria\n",
    "'''\n",
    "max_allowed_offenses = 1\n",
    "double_click_acc_thresh = 0.75\n",
    "\n",
    "keep_bc_accident=\"59dc458f77860e000151240e\"\n",
    "\n",
    "rem_ids = set()\n",
    "for check_id, count_err in check_annotators_double_select.items():\n",
    "    if check_id is None: continue\n",
    "        \n",
    "    subj_df = response_df.loc[response_df.prolific_id == check_id]\n",
    "    annotator_acc = annotator_accuracy(subj_df)\n",
    "    if count_err > max_allowed_offenses or annotator_acc < double_click_acc_thresh: \n",
    "        if check_id is keep_bc_accident: continue\n",
    "        else: rem_ids.add(check_id)\n",
    "        \n",
    "for check_id, count_err in check_annotators_no_prob.items():\n",
    "    if check_id is None: continue\n",
    "    subj_df = response_df.loc[response_df.prolific_id == check_id]\n",
    "    annotator_acc = annotator_accuracy(subj_df)\n",
    "    if count_err > max_allowed_offenses or annotator_acc < double_click_acc_thresh: rem_ids.add(check_id)\n",
    "        \n",
    "rem_ids.update(check_annotators_wrong_prob_scale.keys())\n",
    "\n",
    "prev_rem = {'54af2a48fdf99b09c01b3801',\n",
    " '5a2add709408dc00016f57d3',\n",
    " '5b233660648d5b0001b7de87',\n",
    " '5c0fcccc1f6f150001487111',\n",
    " '5c9293accd8dd00001d0b129',\n",
    " '5d1e5ece2e9ac30016b522c5',\n",
    " '5dcaf5db575da17c63ebb51b',\n",
    " '5dec8925be656d35d4005320',\n",
    " '5e24fbd4e1f467771c234e5f',\n",
    " '5e28e8730fd86a0a19e084cd',\n",
    " '5e3f4c676d06fc1b240e6021',\n",
    " '5e646461698a071f2f15423e',\n",
    " '5e6fd38fe95be7071b5196bf',\n",
    " '5ee7903e80706a01ea855d36',\n",
    " '5f79bca83a2eb65c0983816d',\n",
    " '5fb0a3d6a8e4224b973e750b',\n",
    " '602454a47d0d7d121a1e444b',\n",
    " '615ddab1e4f013092538b6c5',\n",
    " '6172607a932e0b0c3523854d',\n",
    " '622a18cefd7ce4b53ceedeaa',\n",
    " '6272eccadd98507271a651c7',\n",
    " '62748a7051019fc375110a8e',\n",
    " '62865e3456c142785cfad2a7',\n",
    " '62b496ea7c06f67ea068d0d3',\n",
    " '559744acfdf99b590e1e9299', '5dd5c04f86c88658b24d4cde', '62a04b2c50cbce06e24d8eb8', '5e6162fd64d2080671040317', '5d09895e65eb3400189cc207',\n",
    "           '5ee38ef98c0c440172e022ac', '6165ab1d62dc48b90438ea1d', '5d1d13c26ce490001692baa2', '60ff31c5fc87fc400ee2d060', \"5783027f913c71000197300d\",'5b9530390f85f600015705bf', '5b26da1934ffd00001b45d8d', '60bb4ce0772c798d3242a78a', '5ca6bbf13b5fcf00100996e9', '5e9fc65dee2ccf178f0e413f', '62b473736986d2b27c1427d2', '5a0a03fa074b190001251b3c','5ee2916b70aa643be19c0036'}\n",
    "\n",
    "new_rem = rem_ids.difference(prev_rem)\n",
    "\n",
    "print(f\"Tot rem: {len(rem_ids)}\")\n",
    "print(f\"New rem: {new_rem}, {[(subj_id, check_annotators_double_select[subj_id]) for subj_id in new_rem]}\")\n",
    "\n",
    "import json \n",
    "exclusion_file = \"exclusion_criteria_prolific_ids.json\"\n",
    "with open(exclusion_file, \"w\") as f: \n",
    "    json.dump(list(rem_ids), f)"
   ]
  },
  {
   "cell_type": "code",
   "execution_count": 2,
   "id": "3707ffb1",
   "metadata": {},
   "outputs": [
    {
     "ename": "NameError",
     "evalue": "name 'subj_ids' is not defined",
     "output_type": "error",
     "traceback": [
      "\u001b[0;31m---------------------------------------------------------------------------\u001b[0m",
      "\u001b[0;31mNameError\u001b[0m                                 Traceback (most recent call last)",
      "\u001b[0;32m<ipython-input-2-a738a369469e>\u001b[0m in \u001b[0;36m<module>\u001b[0;34m\u001b[0m\n\u001b[0;32m----> 1\u001b[0;31m \u001b[0msubj_ids\u001b[0m\u001b[0;34m.\u001b[0m\u001b[0mintersection\u001b[0m\u001b[0;34m(\u001b[0m\u001b[0mcheck_annotators_double_select\u001b[0m\u001b[0;34m.\u001b[0m\u001b[0mkeys\u001b[0m\u001b[0;34m(\u001b[0m\u001b[0;34m)\u001b[0m\u001b[0;34m)\u001b[0m\u001b[0;34m\u001b[0m\u001b[0;34m\u001b[0m\u001b[0m\n\u001b[0m",
      "\u001b[0;31mNameError\u001b[0m: name 'subj_ids' is not defined"
     ]
    }
   ],
   "source": [
    "subj_ids.intersection(check_annotators_double_select.keys())"
   ]
  },
  {
   "cell_type": "code",
   "execution_count": 3,
   "id": "c23b0e8d",
   "metadata": {},
   "outputs": [
    {
     "ename": "NameError",
     "evalue": "name 'exp_dir' is not defined",
     "output_type": "error",
     "traceback": [
      "\u001b[0;31m---------------------------------------------------------------------------\u001b[0m",
      "\u001b[0;31mNameError\u001b[0m                                 Traceback (most recent call last)",
      "\u001b[0;32m<ipython-input-3-0ead9a719084>\u001b[0m in \u001b[0;36m<module>\u001b[0;34m\u001b[0m\n\u001b[0;32m----> 1\u001b[0;31m \u001b[0mdata_dir\u001b[0m \u001b[0;34m=\u001b[0m \u001b[0;34mf\"{exp_dir}/data/\"\u001b[0m\u001b[0;34m\u001b[0m\u001b[0;34m\u001b[0m\u001b[0m\n\u001b[0m\u001b[1;32m      2\u001b[0m \u001b[0mid_col\u001b[0m \u001b[0;34m=\u001b[0m \u001b[0;34m\"subject\"\u001b[0m \u001b[0;31m# contains an auto-generated, non-identifiable id to protect anonymity\u001b[0m\u001b[0;34m\u001b[0m\u001b[0;34m\u001b[0m\u001b[0m\n\u001b[1;32m      3\u001b[0m \u001b[0;34m\u001b[0m\u001b[0m\n\u001b[1;32m      4\u001b[0m \u001b[0mexp_res_files\u001b[0m \u001b[0;34m=\u001b[0m \u001b[0;34m[\u001b[0m\u001b[0;34mf\"{data_dir}{filename}\"\u001b[0m \u001b[0;32mfor\u001b[0m \u001b[0mfilename\u001b[0m \u001b[0;32min\u001b[0m \u001b[0mos\u001b[0m\u001b[0;34m.\u001b[0m\u001b[0mlistdir\u001b[0m\u001b[0;34m(\u001b[0m\u001b[0mdata_dir\u001b[0m\u001b[0;34m)\u001b[0m \u001b[0;32mif\u001b[0m \u001b[0;34m\".csv\"\u001b[0m \u001b[0;32min\u001b[0m \u001b[0mfilename\u001b[0m\u001b[0;34m]\u001b[0m\u001b[0;34m\u001b[0m\u001b[0;34m\u001b[0m\u001b[0m\n\u001b[1;32m      5\u001b[0m \u001b[0;31m# loop over each participants' results and keep if they finished\u001b[0m\u001b[0;34m\u001b[0m\u001b[0;34m\u001b[0m\u001b[0;34m\u001b[0m\u001b[0m\n",
      "\u001b[0;31mNameError\u001b[0m: name 'exp_dir' is not defined"
     ]
    }
   ],
   "source": [
    "data_dir = f\"{exp_dir}/data/\"\n",
    "id_col = \"subject\" # contains an auto-generated, non-identifiable id to protect anonymity \n",
    "\n",
    "exp_res_files = [f\"{data_dir}{filename}\" for filename in os.listdir(data_dir) if \".csv\" in filename]\n",
    "# loop over each participants' results and keep if they finished\n",
    "participant_dfs = []\n",
    "v0_pilot_participants = {\"917992cm7vh0npt\", \"pg1m8tl8gm524bq\", \"xtk7pt02ab5zp19\"}\n",
    "v0_pilot_participants.update({\"76beyvm8f9lvc3b\", \"otftevu56npda79\"}) # second-round elicitation\n",
    "# removing \"kef0nc53fyzf5oo\" b/c they did the \"other probable\" elicitation \n",
    "# removing \"8u0xhskp6d8y3tb\" b/c they specified same most prob and second prob\n",
    "# removing \"pr1f490cywezezo\" b/c they didn't always enter a number for the prob... \n",
    "remove_ids = {\"8u0xhskp6d8y3tb\", \"kef0nc53fyzf5oo\", \"bwqw65lsk5hs3ej\", \"dpxlu3s7v199bu0\", \"pr1f490cywezezo\"} #{\"dpxlu3s7v199bu0\"}#{\"jodm57et1p09f4h\", \"ynf38wj7jmaxe2f\", \"vasf3lrnr7rs4go\", \"pzqmxcbkulcl6fm\"} # keep track of \"problematic\" ids that we want to remove (manually determined) and pilot participants from early\n",
    "\n",
    "with open(exclusion_file, \"r\") as f: \n",
    "    exclusion_criteria_ids = set(json.load(f))\n",
    "\n",
    "for exp_res_file in exp_res_files: \n",
    "    if \".DS_Store\" in exp_res_file: continue\n",
    "#     print(exp_res_file)\n",
    "    subj_df = pd.read_csv(exp_res_file)\n",
    "    if participant_completed(subj_df): \n",
    "        subj_id = subj_df[id_col].iloc[0]\n",
    "        if subj_df.prolific_id.iloc[0] == \"5e6bdd2a3ea572199bb7f6b6\":\n",
    "            print(\"found!\")\n",
    "#             break\n",
    "        if subj_id not in remove_ids and subj_id not in v0_pilot_participants:        \n",
    "            if subj_df.prolific_id.iloc[0] not in exclusion_criteria_ids: participant_dfs.append(subj_df)\n",
    "        \n",
    "# merge into a full df \n",
    "df = pd.concat(participant_dfs, ignore_index=True)\n",
    "\n",
    "# remove identifying information and re-save\n",
    "remove_cols = ['internal_node_id', 'session_id']#, 'prolific_id']\n",
    "df = df.drop(columns = remove_cols)\n",
    "\n",
    "subj_ids = set(df[id_col])\n",
    "\n",
    "# save the safegaurded data\n",
    "df.to_csv(f\"{save_dir}human_data.csv\")\n",
    "\n",
    "'''\n",
    "Filter to just include main data \n",
    "'''\n",
    "\n",
    "response_df = df[(df.trial_type == 'survey-html-form')].reset_index()\n",
    "\n",
    "# store a mapping from image id to batch number (helping for figuring out which batches to investigate or run extra)\n",
    "image_id2batch = {}\n",
    "for image_id, batch_num in zip(response_df.img_id, response_df.condition): \n",
    "    image_id = int(image_id)\n",
    "    if image_id not in image_id2batch: image_id2batch[image_id] = batch_num\n",
    "\n",
    "response_df.columns\n"
   ]
  },
  {
   "cell_type": "code",
   "execution_count": 9,
   "id": "c859f373",
   "metadata": {},
   "outputs": [
    {
     "name": "stdout",
     "output_type": "stream",
     "text": [
      "Num participants: 248\n",
      "\n"
     ]
    }
   ],
   "source": [
    "'''\n",
    "Count number in each condition\n",
    "'''\n",
    "print(f\"Num participants: {len(subj_ids)}\\n\")\n",
    "\n",
    "num_conditions = 40\n",
    "subjs_per_cond = {cond_num: [] for cond_num in range(num_conditions)}\n",
    "\n",
    "for subj_id in subj_ids: \n",
    "    subj_df = df.loc[df[id_col] == subj_id].reset_index()\n",
    "    cond_num = subj_df.condition.iloc[0]\n",
    "    subjs_per_cond[cond_num].append(subj_id)\n",
    "    \n",
    "for cond_num, subjs in subjs_per_cond.items():\n",
    "    if len(subjs) < 6: print(f\"Condition: {cond_num}, N = {len(subjs)}\")\n",
    "#     print(f\"Condition: {cond_num}, N = {len(subjs)}\")"
   ]
  },
  {
   "cell_type": "code",
   "execution_count": 10,
   "id": "510cfcf0",
   "metadata": {},
   "outputs": [
    {
     "data": {
      "text/plain": [
       "6.2"
      ]
     },
     "execution_count": 10,
     "metadata": {},
     "output_type": "execute_result"
    }
   ],
   "source": [
    "np.mean([len(subjs_per) for subjs_per in subjs_per_cond.values()])"
   ]
  },
  {
   "cell_type": "code",
   "execution_count": 11,
   "id": "0a439630",
   "metadata": {},
   "outputs": [
    {
     "name": "stdout",
     "output_type": "stream",
     "text": [
      "h007jnb54b9udsx\n",
      "mnvcofkbpnvcscy\n",
      "vpudnc88o27z2ob\n",
      "vtrn5nxg2l5ama3\n",
      "puzt8w7vdfs1xgn\n",
      "2ve7f09kxbv2xmm\n"
     ]
    }
   ],
   "source": [
    "'''\n",
    "Extract data from each annotator\n",
    "Save in a format ammenable to label creation \n",
    "\n",
    "To start, create the label as we go\n",
    "For each filename, keep track of annotator \"label\"(s) \n",
    "Place the specified prob mass on the most prob and (possibly) second most prob\n",
    "Have a separate structure which stores \"definitely not\" information\n",
    "Which we can optionally leverage when smoothing\n",
    "'''\n",
    "\n",
    "filenames = set(response_df.filename)\n",
    "example_idxs = set([int(idx) for idx in set(response_df.img_id)])\n",
    "\n",
    "example_idx2filename = {int(filename.split(\"_\")[2]): filename for filename in filenames}\n",
    "\n",
    "# save all elicitation data per sample\n",
    "all_elicitation_per_example = {example_idx: [] for example_idx in example_idxs}  \n",
    "\n",
    "all_probs = []\n",
    "for subj_id in subj_ids: \n",
    "    subj_df = response_df.loc[response_df[id_col] == subj_id]\n",
    "    for (data_entry, filename, example_idx) in zip(subj_df.response, subj_df.filename, subj_df.img_id):\n",
    "        \n",
    "#         if example_idx == 6856: print(\"id: \", subj_id, data_entry, filename)\n",
    "        \n",
    "        prolific_id = subj_df.prolific_id.iloc[0]\n",
    "        elicited_data = process_response(data_entry, subj_id)\n",
    "        \n",
    "        all_elicitation_per_example[example_idx].append(elicited_data)\n",
    "        \n",
    "        most_prob = elicited_data[most_prob_txt]\n",
    "        second_prob = elicited_data[second_prob_txt]\n",
    "        all_probs.append(most_prob)\n",
    "        if second_prob is not None: all_probs.append(second_prob)\n",
    "\n",
    "'''\n",
    "Save out labels for use on HPC\n",
    "'''\n",
    "with open(\"raw_elicitation_data_ours.json\", \"w\") as f:\n",
    "    json.dump(all_elicitation_per_example, f)"
   ]
  },
  {
   "cell_type": "code",
   "execution_count": 11,
   "id": "cce58e6c",
   "metadata": {},
   "outputs": [
    {
     "name": "stdout",
     "output_type": "stream",
     "text": [
      "Percent of probs not divisible by five: 10.4 %\n"
     ]
    }
   ],
   "source": [
    "'''\n",
    "Check how many specified probabilities are *not* multiples of 5\n",
    "'''\n",
    "non_5_divide_prob = []\n",
    "for prob in all_probs: \n",
    "    if prob % 5 != 0: non_5_divide_prob.append(prob)\n",
    "print(\"Percent of probs not divisible by five:\", round(len(non_5_divide_prob)/len(all_probs) * 100,2), \"%\")"
   ]
  },
  {
   "cell_type": "code",
   "execution_count": 12,
   "id": "4a1b4e87",
   "metadata": {},
   "outputs": [
    {
     "name": "stdout",
     "output_type": "stream",
     "text": [
      "mnvcofkbpnvcscy\n",
      "mnvcofkbpnvcscy\n",
      "vpudnc88o27z2ob\n",
      "vpudnc88o27z2ob\n",
      "vtrn5nxg2l5ama3\n",
      "vtrn5nxg2l5ama3\n",
      "h007jnb54b9udsx\n",
      "h007jnb54b9udsx\n",
      "puzt8w7vdfs1xgn\n",
      "puzt8w7vdfs1xgn\n",
      "2ve7f09kxbv2xmm\n",
      "2ve7f09kxbv2xmm\n"
     ]
    },
    {
     "data": {
      "text/plain": [
       "(0.8434886499402628, 0.9196535244922341)"
      ]
     },
     "execution_count": 12,
     "metadata": {},
     "output_type": "execute_result"
    }
   ],
   "source": [
    "accs = []\n",
    "top2_accs = []\n",
    "for subj_id in subj_ids: \n",
    "    subj_df = response_df.loc[response_df[id_col] == subj_id]\n",
    "    acc = annotator_accuracy(subj_df)\n",
    "    acc2 = annotator_accuracy(subj_df, use_top_2 = True)\n",
    "    accs.append(acc)\n",
    "    top2_accs.append(acc2)\n",
    "np.mean(accs), np.mean(top2_accs)"
   ]
  },
  {
   "cell_type": "code",
   "execution_count": 13,
   "id": "117f9ea5",
   "metadata": {},
   "outputs": [
    {
     "data": {
      "text/plain": [
       "(array([ 1.,  0.,  2.,  3.,  4., 17., 24., 35., 63., 99.]),\n",
       " array([0.59259259, 0.63333333, 0.67407407, 0.71481481, 0.75555556,\n",
       "        0.7962963 , 0.83703704, 0.87777778, 0.91851852, 0.95925926,\n",
       "        1.        ]),\n",
       " <BarContainer object of 10 artists>)"
      ]
     },
     "execution_count": 13,
     "metadata": {},
     "output_type": "execute_result"
    },
    {
     "data": {
      "image/png": "[encoded data removed]",
      "text/plain": [
       "<Figure size 432x288 with 1 Axes>"
      ]
     },
     "metadata": {
      "needs_background": "light"
     },
     "output_type": "display_data"
    }
   ],
   "source": [
    "plt.hist(top2_accs)"
   ]
  },
  {
   "cell_type": "code",
   "execution_count": 14,
   "id": "61e2966e",
   "metadata": {},
   "outputs": [
    {
     "data": {
      "text/plain": [
       "Text(0, 0.5, 'Counts')"
      ]
     },
     "execution_count": 14,
     "metadata": {},
     "output_type": "execute_result"
    },
    {
     "data": {
      "image/png": "[encoded data removed]",
      "text/plain": [
       "<Figure size 432x288 with 1 Axes>"
      ]
     },
     "metadata": {
      "needs_background": "light"
     },
     "output_type": "display_data"
    }
   ],
   "source": [
    "len(cifar10h_data)\n",
    "\n",
    "non_zero_class_counts = {\"1\": 0, \"2\": 0, \"3\": 0, \"> 3\": 0}\n",
    "for label in cifar10h_data: \n",
    "    num_non_zero_classes = np.sum(label > 0)\n",
    "    if str(num_non_zero_classes) in non_zero_class_counts:\n",
    "        non_zero_class_counts[str(num_non_zero_classes)] += 1\n",
    "    else: non_zero_class_counts[\"> 3\"] += 1\n",
    "\n",
    "count_vals=sorted(non_zero_class_counts.keys())\n",
    "fig, ax = plt.subplots()\n",
    "ax.bar(count_vals, [non_zero_class_counts[count] for count in non_zero_class_counts])\n",
    "ax.set_xlabel(\"Number of Non-Zero Prob Classes\", fontsize=ax_size)\n",
    "ax.set_ylabel(\"Counts\", fontsize=ax_size)"
   ]
  },
  {
   "cell_type": "code",
   "execution_count": 15,
   "id": "780c2dc1",
   "metadata": {},
   "outputs": [
    {
     "data": {
      "text/plain": [
       "0.7715"
      ]
     },
     "execution_count": 15,
     "metadata": {},
     "output_type": "execute_result"
    }
   ],
   "source": [
    "(4393 + 3322) / np.sum(list(non_zero_class_counts.values()))"
   ]
  },
  {
   "cell_type": "code",
   "execution_count": 16,
   "id": "54b9a990",
   "metadata": {},
   "outputs": [
    {
     "name": "stdout",
     "output_type": "stream",
     "text": [
      "Avg seconds per image: 43.53 sec\n",
      "Median seconds per image: 31.96 sec\n"
     ]
    }
   ],
   "source": [
    "sec_per_img = np.mean(response_df.rt) / (1000)\n",
    "print(f\"Avg seconds per image: {round(sec_per_img,2)} sec\")\n",
    "med_sec_per_img = np.median(response_df.rt) / (1000)\n",
    "print(f\"Median seconds per image: {round(med_sec_per_img,2)} sec\")\n",
    "\n",
    "rts = np.array(response_df.rt) / (1000*60)\n",
    "\n",
    "long_time_idxs = []\n",
    "for idx, rt in enumerate(rts): \n",
    "    if rt > 2.5: long_time_idxs.append([idx, response_df[id_col].iloc[idx], rt])\n",
    "\n",
    "# # print(f\"Expected total time: {} min\")\n",
    "# sns.boxplot(rts)\n",
    "# plt.xlim([0,2])"
   ]
  },
  {
   "cell_type": "code",
   "execution_count": 13,
   "id": "cbe99aa7",
   "metadata": {},
   "outputs": [
    {
     "data": {
      "text/plain": [
       "({'Most Probable Class': 'Ship',\n",
       "  'Most Probable Class Prob': 20.0,\n",
       "  'Second Most Probable Class': 'Truck',\n",
       "  'Second Most Probable Class Prob': 10.0,\n",
       "  'Impossible Class(es)': ['Deer']},\n",
       " {'Most Probable Class': 'Cat',\n",
       "  'Most Probable Class Prob': 100.0,\n",
       "  'Second Most Probable Class': 'No',\n",
       "  'Second Most Probable Class Prob': None,\n",
       "  'Impossible Class(es)': ['Truck',\n",
       "   'Horse',\n",
       "   'Automobile',\n",
       "   'Deer',\n",
       "   'Ship',\n",
       "   'Airplane',\n",
       "   'Bird',\n",
       "   'Dog',\n",
       "   'Frog']})"
      ]
     },
     "execution_count": 13,
     "metadata": {},
     "output_type": "execute_result"
    }
   ],
   "source": [
    "import label_construction_utils as utils\n",
    "\n",
    "all_elicitation_per_example[6157][1], all_elicitation_per_example[0][1]"
   ]
  },
  {
   "cell_type": "code",
   "execution_count": 33,
   "id": "adb9792c",
   "metadata": {},
   "outputs": [],
   "source": [
    "'''\n",
    "Explore the statstics of people's responses depending on whehter the cifar10h img has high/low ent\n",
    "'''\n",
    "ent_thresh= 0.25\n",
    "\n",
    "high_ent_stats = {\"top_prob\": [], \"second_prob\": [], \"n_also_poss\": []}\n",
    "low_ent_stats = {\"top_prob\": [], \"second_prob\": [], \"n_also_poss\": []}\n",
    "\n",
    "for example_idx, elic_data in all_elicitation_per_example.items():\n",
    "    cifar10h_ent = entropy(cifar10h_data[example_idx])\n",
    "    for single_annotator_info in elic_data: \n",
    "        soft_label = utils.construct_elicited_soft_label(single_annotator_info, class2idx,idx2class, include_top_2 = True, redist=\"clamp\",\n",
    "                                redist_factor=0.1)\n",
    "        soft_label = np.array(soft_label)\n",
    "        \n",
    "        top_prob = soft_label.max()\n",
    "        \n",
    "        sorted_probs = sorted(np.unique(soft_label),reverse=True)\n",
    "        if len(sorted_probs) > 1: second_prob = sorted_probs[1]\n",
    "        else: second_prob = sorted_probs[0] # happens if all = 1/10\n",
    "\n",
    "        \n",
    "        n_also_poss = np.sum(soft_label != 0) - 1 # to account for the already spec most prob\n",
    "#         if n_also_poss == -1: print(soft_label, np.sum(soft_label == 0))\n",
    "        \n",
    "        if cifar10h_ent >= ent_thresh: \n",
    "            high_ent_stats[\"top_prob\"].append(top_prob)\n",
    "            high_ent_stats[\"second_prob\"].append(second_prob)\n",
    "            high_ent_stats[\"n_also_poss\"].append(n_also_poss) \n",
    "        else: \n",
    "            low_ent_stats[\"top_prob\"].append(top_prob)\n",
    "            low_ent_stats[\"second_prob\"].append(second_prob)\n",
    "            low_ent_stats[\"n_also_poss\"].append(n_also_poss)  "
   ]
  },
  {
   "cell_type": "code",
   "execution_count": 34,
   "id": "ed5faab7",
   "metadata": {},
   "outputs": [
    {
     "data": {
      "text/plain": [
       "0.09000000000000001"
      ]
     },
     "execution_count": 34,
     "metadata": {},
     "output_type": "execute_result"
    }
   ],
   "source": [
    "sorted(np.unique(soft_label),reverse=True)[1]"
   ]
  },
  {
   "cell_type": "code",
   "execution_count": 35,
   "id": "bbfcb6d0",
   "metadata": {},
   "outputs": [
    {
     "data": {
      "text/plain": [
       "0"
      ]
     },
     "execution_count": 35,
     "metadata": {},
     "output_type": "execute_result"
    }
   ],
   "source": [
    "np.min(high_ent_stats[\"n_also_poss\"])"
   ]
  },
  {
   "cell_type": "code",
   "execution_count": 36,
   "id": "9e20daea",
   "metadata": {},
   "outputs": [
    {
     "data": {
      "text/plain": [
       "6"
      ]
     },
     "execution_count": 36,
     "metadata": {},
     "output_type": "execute_result"
    }
   ],
   "source": [
    "np.sum(soft_label == 0)"
   ]
  },
  {
   "cell_type": "code",
   "execution_count": 46,
   "id": "5c9c2f45",
   "metadata": {},
   "outputs": [
    {
     "data": {
      "text/plain": [
       "(array([0.35383209, 0.31764684, 0.13634753, 0.12907317, 0.0527857 ,\n",
       "        0.06192528, 0.0119374 , 0.01081827, 0.01342958, 0.02331524]),\n",
       " array([0. , 0.9, 1.8, 2.7, 3.6, 4.5, 5.4, 6.3, 7.2, 8.1, 9. ]),\n",
       " <BarContainer object of 10 artists>)"
      ]
     },
     "execution_count": 46,
     "metadata": {},
     "output_type": "execute_result"
    },
    {
     "data": {
      "image/png": "[encoded data removed]",
      "text/plain": [
       "<Figure size 432x288 with 1 Axes>"
      ]
     },
     "metadata": {
      "needs_background": "light"
     },
     "output_type": "display_data"
    }
   ],
   "source": [
    "plt.hist(low_ent_stats[\"n_also_poss\"],alpha=0.5, density=True)\n",
    "plt.hist(high_ent_stats[\"n_also_poss\"],alpha=0.5, density=True,)"
   ]
  },
  {
   "cell_type": "code",
   "execution_count": 21,
   "id": "653b3937",
   "metadata": {},
   "outputs": [
    {
     "data": {
      "text/plain": [
       "0.10069945073424803"
      ]
     },
     "execution_count": 21,
     "metadata": {},
     "output_type": "execute_result"
    }
   ],
   "source": [
    "np.mean(high_ent_stats[\"second_prob\"])"
   ]
  },
  {
   "cell_type": "code",
   "execution_count": 49,
   "id": "08479f41",
   "metadata": {},
   "outputs": [
    {
     "data": {
      "text/plain": [
       "(array([0.02901073, 0.        , 0.01450537, 0.0435161 , 0.20307514,\n",
       "        0.07252683, 0.18856977, 0.42065564, 2.08877285, 8.05047868]),\n",
       " array([0.1 , 0.19, 0.28, 0.37, 0.46, 0.55, 0.64, 0.73, 0.82, 0.91, 1.  ]),\n",
       " <BarContainer object of 10 artists>)"
      ]
     },
     "execution_count": 49,
     "metadata": {},
     "output_type": "execute_result"
    },
    {
     "data": {
      "image/png": "[encoded data removed]",
      "text/plain": [
       "<Figure size 432x288 with 1 Axes>"
      ]
     },
     "metadata": {
      "needs_background": "light"
     },
     "output_type": "display_data"
    }
   ],
   "source": [
    "plt.hist(high_ent_stats[\"top_prob\"],alpha=0.5, density=True)\n",
    "plt.hist(low_ent_stats[\"top_prob\"],alpha=0.5, density=True)\n"
   ]
  },
  {
   "cell_type": "code",
   "execution_count": 68,
   "id": "338e25c9",
   "metadata": {},
   "outputs": [
    {
     "data": {
      "image/png": "[encoded data removed]",
      "text/plain": [
       "<Figure size 1080x360 with 3 Axes>"
      ]
     },
     "metadata": {
      "needs_background": "light"
     },
     "output_type": "display_data"
    }
   ],
   "source": [
    "fig, axs = plt.subplots(1,3, figsize=(15,5))\n",
    "\n",
    "plt.rcParams[\"font.family\"] = \"serif\"\n",
    "\n",
    "display_names = {\"top_prob\": \"Top 1 Prob\", \"second_prob\": \"Top 2 Prob\", \"n_also_poss\": \"Num Possible\"}\n",
    "\n",
    "for ax_idx, stat_name in enumerate([\"top_prob\", \"second_prob\", \"n_also_poss\"]):\n",
    "    \n",
    "    \n",
    "    ax = axs[ax_idx]\n",
    "    \n",
    "    high_ent = high_ent_stats[stat_name]\n",
    "    low_ent = low_ent_stats[stat_name]\n",
    "    \n",
    "    if stat_name == \"n_also_poss\":\n",
    "        # account for category specified as most prob (to get all poss)\n",
    "        high_ent = [x + 1 for x in high_ent]\n",
    "        low_ent = [x + 1 for x in low_ent]\n",
    "    \n",
    "    \n",
    "    ax.hist(low_ent, alpha=0.5, density=True, label=\"Low Ent\", color=\"blue\")\n",
    "    ax.hist(high_ent, alpha=0.5, density=True, label=\"High Ent\", color=\"red\")\n",
    "    \n",
    "    if ax_idx == 2: ax.legend(fontsize=15)\n",
    "        \n",
    "    ax.set_title(display_names[stat_name], fontsize=17)\n",
    "    \n",
    "    if ax_idx == 0: ax.set_ylabel(\"Density\", fontsize=15)\n",
    "        \n",
    "    if \"prob\" in stat_name: ax.set_xlabel(\"Prob\", fontsize=15)\n",
    "    else: ax.set_xlabel(\"Num Categories\", fontsize=15)\n"
   ]
  },
  {
   "cell_type": "code",
   "execution_count": 52,
   "id": "c53ade6d",
   "metadata": {},
   "outputs": [
    {
     "data": {
      "text/plain": [
       "{'whiskers': [<matplotlib.lines.Line2D at 0x7fca3f7dd8b0>,\n",
       "  <matplotlib.lines.Line2D at 0x7fca3f7ddaf0>],\n",
       " 'caps': [<matplotlib.lines.Line2D at 0x7fca3f7ddbb0>,\n",
       "  <matplotlib.lines.Line2D at 0x7fca3f7dd130>],\n",
       " 'boxes': [<matplotlib.lines.Line2D at 0x7fca3f7dde50>],\n",
       " 'medians': [<matplotlib.lines.Line2D at 0x7fca3f7dd160>],\n",
       " 'fliers': [<matplotlib.lines.Line2D at 0x7fca418b5ac0>],\n",
       " 'means': []}"
      ]
     },
     "execution_count": 52,
     "metadata": {},
     "output_type": "execute_result"
    },
    {
     "data": {
      "image/png": "[encoded data removed]",
      "text/plain": [
       "<Figure size 432x288 with 1 Axes>"
      ]
     },
     "metadata": {
      "needs_background": "light"
     },
     "output_type": "display_data"
    }
   ],
   "source": [
    "# plt.boxplot(high_ent_stats[\"top_prob\"])\n",
    "plt.boxplot(low_ent_stats[\"top_prob\"])"
   ]
  },
  {
   "cell_type": "code",
   "execution_count": 48,
   "id": "6a7d9188",
   "metadata": {},
   "outputs": [
    {
     "data": {
      "text/plain": [
       "(array([  46.,   74.,   64.,  224.,  436.,  382.,  490.,  707., 1118.,\n",
       "        2416.]),\n",
       " array([0.1 , 0.19, 0.28, 0.37, 0.46, 0.55, 0.64, 0.73, 0.82, 0.91, 1.  ]),\n",
       " <BarContainer object of 10 artists>)"
      ]
     },
     "execution_count": 48,
     "metadata": {},
     "output_type": "execute_result"
    },
    {
     "data": {
      "image/png": "[encoded data removed]",
      "text/plain": [
       "<Figure size 432x288 with 1 Axes>"
      ]
     },
     "metadata": {
      "needs_background": "light"
     },
     "output_type": "display_data"
    }
   ],
   "source": [
    "plt.hist(low_ent_stats[\"top_prob\"],alpha=0.5)\n",
    "plt.hist(high_ent_stats[\"top_prob\"],alpha=0.5)"
   ]
  },
  {
   "cell_type": "code",
   "execution_count": 44,
   "id": "a2ac2ea5",
   "metadata": {},
   "outputs": [
    {
     "ename": "AttributeError",
     "evalue": "'Rectangle' object has no property 'kde'",
     "output_type": "error",
     "traceback": [
      "\u001b[0;31m---------------------------------------------------------------------------\u001b[0m",
      "\u001b[0;31mAttributeError\u001b[0m                            Traceback (most recent call last)",
      "\u001b[0;32m<ipython-input-44-f7ad5c4af67b>\u001b[0m in \u001b[0;36m<module>\u001b[0;34m\u001b[0m\n\u001b[1;32m      1\u001b[0m \u001b[0mplt\u001b[0m\u001b[0;34m.\u001b[0m\u001b[0mhist\u001b[0m\u001b[0;34m(\u001b[0m\u001b[0mlow_ent_stats\u001b[0m\u001b[0;34m[\u001b[0m\u001b[0;34m\"second_prob\"\u001b[0m\u001b[0;34m]\u001b[0m\u001b[0;34m,\u001b[0m\u001b[0malpha\u001b[0m\u001b[0;34m=\u001b[0m\u001b[0;36m0.5\u001b[0m\u001b[0;34m,\u001b[0m \u001b[0mdensity\u001b[0m\u001b[0;34m=\u001b[0m\u001b[0;32mTrue\u001b[0m\u001b[0;34m)\u001b[0m\u001b[0;34m\u001b[0m\u001b[0;34m\u001b[0m\u001b[0m\n\u001b[0;32m----> 2\u001b[0;31m \u001b[0mplt\u001b[0m\u001b[0;34m.\u001b[0m\u001b[0mhist\u001b[0m\u001b[0;34m(\u001b[0m\u001b[0mhigh_ent_stats\u001b[0m\u001b[0;34m[\u001b[0m\u001b[0;34m\"second_prob\"\u001b[0m\u001b[0;34m]\u001b[0m\u001b[0;34m,\u001b[0m\u001b[0malpha\u001b[0m\u001b[0;34m=\u001b[0m\u001b[0;36m0.5\u001b[0m\u001b[0;34m,\u001b[0m \u001b[0mdensity\u001b[0m\u001b[0;34m=\u001b[0m\u001b[0;32mTrue\u001b[0m\u001b[0;34m,\u001b[0m \u001b[0mkde\u001b[0m\u001b[0;34m=\u001b[0m\u001b[0;32mTrue\u001b[0m\u001b[0;34m)\u001b[0m\u001b[0;34m\u001b[0m\u001b[0;34m\u001b[0m\u001b[0m\n\u001b[0m",
      "\u001b[0;32m~/opt/anaconda3/lib/python3.8/site-packages/matplotlib/pyplot.py\u001b[0m in \u001b[0;36mhist\u001b[0;34m(x, bins, range, density, weights, cumulative, bottom, histtype, align, orientation, rwidth, log, color, label, stacked, data, **kwargs)\u001b[0m\n\u001b[1;32m   2588\u001b[0m         \u001b[0morientation\u001b[0m\u001b[0;34m=\u001b[0m\u001b[0;34m'vertical'\u001b[0m\u001b[0;34m,\u001b[0m \u001b[0mrwidth\u001b[0m\u001b[0;34m=\u001b[0m\u001b[0;32mNone\u001b[0m\u001b[0;34m,\u001b[0m \u001b[0mlog\u001b[0m\u001b[0;34m=\u001b[0m\u001b[0;32mFalse\u001b[0m\u001b[0;34m,\u001b[0m \u001b[0mcolor\u001b[0m\u001b[0;34m=\u001b[0m\u001b[0;32mNone\u001b[0m\u001b[0;34m,\u001b[0m\u001b[0;34m\u001b[0m\u001b[0;34m\u001b[0m\u001b[0m\n\u001b[1;32m   2589\u001b[0m         label=None, stacked=False, *, data=None, **kwargs):\n\u001b[0;32m-> 2590\u001b[0;31m     return gca().hist(\n\u001b[0m\u001b[1;32m   2591\u001b[0m         \u001b[0mx\u001b[0m\u001b[0;34m,\u001b[0m \u001b[0mbins\u001b[0m\u001b[0;34m=\u001b[0m\u001b[0mbins\u001b[0m\u001b[0;34m,\u001b[0m \u001b[0mrange\u001b[0m\u001b[0;34m=\u001b[0m\u001b[0mrange\u001b[0m\u001b[0;34m,\u001b[0m \u001b[0mdensity\u001b[0m\u001b[0;34m=\u001b[0m\u001b[0mdensity\u001b[0m\u001b[0;34m,\u001b[0m \u001b[0mweights\u001b[0m\u001b[0;34m=\u001b[0m\u001b[0mweights\u001b[0m\u001b[0;34m,\u001b[0m\u001b[0;34m\u001b[0m\u001b[0;34m\u001b[0m\u001b[0m\n\u001b[1;32m   2592\u001b[0m         \u001b[0mcumulative\u001b[0m\u001b[0;34m=\u001b[0m\u001b[0mcumulative\u001b[0m\u001b[0;34m,\u001b[0m \u001b[0mbottom\u001b[0m\u001b[0;34m=\u001b[0m\u001b[0mbottom\u001b[0m\u001b[0;34m,\u001b[0m \u001b[0mhisttype\u001b[0m\u001b[0;34m=\u001b[0m\u001b[0mhisttype\u001b[0m\u001b[0;34m,\u001b[0m\u001b[0;34m\u001b[0m\u001b[0;34m\u001b[0m\u001b[0m\n",
      "\u001b[0;32m~/opt/anaconda3/lib/python3.8/site-packages/matplotlib/__init__.py\u001b[0m in \u001b[0;36minner\u001b[0;34m(ax, data, *args, **kwargs)\u001b[0m\n\u001b[1;32m   1410\u001b[0m     \u001b[0;32mdef\u001b[0m \u001b[0minner\u001b[0m\u001b[0;34m(\u001b[0m\u001b[0max\u001b[0m\u001b[0;34m,\u001b[0m \u001b[0;34m*\u001b[0m\u001b[0margs\u001b[0m\u001b[0;34m,\u001b[0m \u001b[0mdata\u001b[0m\u001b[0;34m=\u001b[0m\u001b[0;32mNone\u001b[0m\u001b[0;34m,\u001b[0m \u001b[0;34m**\u001b[0m\u001b[0mkwargs\u001b[0m\u001b[0;34m)\u001b[0m\u001b[0;34m:\u001b[0m\u001b[0;34m\u001b[0m\u001b[0;34m\u001b[0m\u001b[0m\n\u001b[1;32m   1411\u001b[0m         \u001b[0;32mif\u001b[0m \u001b[0mdata\u001b[0m \u001b[0;32mis\u001b[0m \u001b[0;32mNone\u001b[0m\u001b[0;34m:\u001b[0m\u001b[0;34m\u001b[0m\u001b[0;34m\u001b[0m\u001b[0m\n\u001b[0;32m-> 1412\u001b[0;31m             \u001b[0;32mreturn\u001b[0m \u001b[0mfunc\u001b[0m\u001b[0;34m(\u001b[0m\u001b[0max\u001b[0m\u001b[0;34m,\u001b[0m \u001b[0;34m*\u001b[0m\u001b[0mmap\u001b[0m\u001b[0;34m(\u001b[0m\u001b[0msanitize_sequence\u001b[0m\u001b[0;34m,\u001b[0m \u001b[0margs\u001b[0m\u001b[0;34m)\u001b[0m\u001b[0;34m,\u001b[0m \u001b[0;34m**\u001b[0m\u001b[0mkwargs\u001b[0m\u001b[0;34m)\u001b[0m\u001b[0;34m\u001b[0m\u001b[0;34m\u001b[0m\u001b[0m\n\u001b[0m\u001b[1;32m   1413\u001b[0m \u001b[0;34m\u001b[0m\u001b[0m\n\u001b[1;32m   1414\u001b[0m         \u001b[0mbound\u001b[0m \u001b[0;34m=\u001b[0m \u001b[0mnew_sig\u001b[0m\u001b[0;34m.\u001b[0m\u001b[0mbind\u001b[0m\u001b[0;34m(\u001b[0m\u001b[0max\u001b[0m\u001b[0;34m,\u001b[0m \u001b[0;34m*\u001b[0m\u001b[0margs\u001b[0m\u001b[0;34m,\u001b[0m \u001b[0;34m**\u001b[0m\u001b[0mkwargs\u001b[0m\u001b[0;34m)\u001b[0m\u001b[0;34m\u001b[0m\u001b[0;34m\u001b[0m\u001b[0m\n",
      "\u001b[0;32m~/opt/anaconda3/lib/python3.8/site-packages/matplotlib/axes/_axes.py\u001b[0m in \u001b[0;36mhist\u001b[0;34m(self, x, bins, range, density, weights, cumulative, bottom, histtype, align, orientation, rwidth, log, color, label, stacked, **kwargs)\u001b[0m\n\u001b[1;32m   6789\u001b[0m             \u001b[0;32mif\u001b[0m \u001b[0mpatch\u001b[0m\u001b[0;34m:\u001b[0m\u001b[0;34m\u001b[0m\u001b[0;34m\u001b[0m\u001b[0m\n\u001b[1;32m   6790\u001b[0m                 \u001b[0mp\u001b[0m \u001b[0;34m=\u001b[0m \u001b[0mpatch\u001b[0m\u001b[0;34m[\u001b[0m\u001b[0;36m0\u001b[0m\u001b[0;34m]\u001b[0m\u001b[0;34m\u001b[0m\u001b[0;34m\u001b[0m\u001b[0m\n\u001b[0;32m-> 6791\u001b[0;31m                 \u001b[0mp\u001b[0m\u001b[0;34m.\u001b[0m\u001b[0mupdate\u001b[0m\u001b[0;34m(\u001b[0m\u001b[0mkwargs\u001b[0m\u001b[0;34m)\u001b[0m\u001b[0;34m\u001b[0m\u001b[0;34m\u001b[0m\u001b[0m\n\u001b[0m\u001b[1;32m   6792\u001b[0m                 \u001b[0;32mif\u001b[0m \u001b[0mlbl\u001b[0m \u001b[0;32mis\u001b[0m \u001b[0;32mnot\u001b[0m \u001b[0;32mNone\u001b[0m\u001b[0;34m:\u001b[0m\u001b[0;34m\u001b[0m\u001b[0;34m\u001b[0m\u001b[0m\n\u001b[1;32m   6793\u001b[0m                     \u001b[0mp\u001b[0m\u001b[0;34m.\u001b[0m\u001b[0mset_label\u001b[0m\u001b[0;34m(\u001b[0m\u001b[0mlbl\u001b[0m\u001b[0;34m)\u001b[0m\u001b[0;34m\u001b[0m\u001b[0;34m\u001b[0m\u001b[0m\n",
      "\u001b[0;32m~/opt/anaconda3/lib/python3.8/site-packages/matplotlib/artist.py\u001b[0m in \u001b[0;36mupdate\u001b[0;34m(self, props)\u001b[0m\n\u001b[1;32m   1062\u001b[0m                     \u001b[0mfunc\u001b[0m \u001b[0;34m=\u001b[0m \u001b[0mgetattr\u001b[0m\u001b[0;34m(\u001b[0m\u001b[0mself\u001b[0m\u001b[0;34m,\u001b[0m \u001b[0;34mf\"set_{k}\"\u001b[0m\u001b[0;34m,\u001b[0m \u001b[0;32mNone\u001b[0m\u001b[0;34m)\u001b[0m\u001b[0;34m\u001b[0m\u001b[0;34m\u001b[0m\u001b[0m\n\u001b[1;32m   1063\u001b[0m                     \u001b[0;32mif\u001b[0m \u001b[0;32mnot\u001b[0m \u001b[0mcallable\u001b[0m\u001b[0;34m(\u001b[0m\u001b[0mfunc\u001b[0m\u001b[0;34m)\u001b[0m\u001b[0;34m:\u001b[0m\u001b[0;34m\u001b[0m\u001b[0;34m\u001b[0m\u001b[0m\n\u001b[0;32m-> 1064\u001b[0;31m                         raise AttributeError(f\"{type(self).__name__!r} object \"\n\u001b[0m\u001b[1;32m   1065\u001b[0m                                              f\"has no property {k!r}\")\n\u001b[1;32m   1066\u001b[0m                     \u001b[0mret\u001b[0m\u001b[0;34m.\u001b[0m\u001b[0mappend\u001b[0m\u001b[0;34m(\u001b[0m\u001b[0mfunc\u001b[0m\u001b[0;34m(\u001b[0m\u001b[0mv\u001b[0m\u001b[0;34m)\u001b[0m\u001b[0;34m)\u001b[0m\u001b[0;34m\u001b[0m\u001b[0;34m\u001b[0m\u001b[0m\n",
      "\u001b[0;31mAttributeError\u001b[0m: 'Rectangle' object has no property 'kde'"
     ]
    },
    {
     "data": {
      "image/png": "[encoded data removed]",
      "text/plain": [
       "<Figure size 432x288 with 1 Axes>"
      ]
     },
     "metadata": {
      "needs_background": "light"
     },
     "output_type": "display_data"
    }
   ],
   "source": [
    "plt.hist(low_ent_stats[\"second_prob\"],alpha=0.5, density=True)\n",
    "plt.hist(high_ent_stats[\"second_prob\"],alpha=0.5, density=True, kde=True)"
   ]
  },
  {
   "cell_type": "code",
   "execution_count": 43,
   "id": "76b8759f",
   "metadata": {},
   "outputs": [
    {
     "ename": "TypeError",
     "evalue": "'norm' must be an instance of matplotlib.colors.Normalize or None, not a bool",
     "output_type": "error",
     "traceback": [
      "\u001b[0;31m---------------------------------------------------------------------------\u001b[0m",
      "\u001b[0;31mTypeError\u001b[0m                                 Traceback (most recent call last)",
      "\u001b[0;32m<ipython-input-43-e5d5bae2e70e>\u001b[0m in \u001b[0;36m<module>\u001b[0;34m\u001b[0m\n\u001b[0;32m----> 1\u001b[0;31m \u001b[0msns\u001b[0m\u001b[0;34m.\u001b[0m\u001b[0mhistplot\u001b[0m\u001b[0;34m(\u001b[0m\u001b[0mlow_ent_stats\u001b[0m\u001b[0;34m[\u001b[0m\u001b[0;34m\"second_prob\"\u001b[0m\u001b[0;34m]\u001b[0m\u001b[0;34m,\u001b[0m \u001b[0mkde\u001b[0m\u001b[0;34m=\u001b[0m\u001b[0;32mTrue\u001b[0m\u001b[0;34m,\u001b[0m \u001b[0mnorm\u001b[0m\u001b[0;34m=\u001b[0m\u001b[0;32mTrue\u001b[0m\u001b[0;34m)\u001b[0m\u001b[0;34m\u001b[0m\u001b[0;34m\u001b[0m\u001b[0m\n\u001b[0m",
      "\u001b[0;32m~/opt/anaconda3/lib/python3.8/site-packages/seaborn/distributions.py\u001b[0m in \u001b[0;36mhistplot\u001b[0;34m(data, x, y, hue, weights, stat, bins, binwidth, binrange, discrete, cumulative, common_bins, common_norm, multiple, element, fill, shrink, kde, kde_kws, line_kws, thresh, pthresh, pmax, cbar, cbar_ax, cbar_kws, palette, hue_order, hue_norm, color, log_scale, legend, ax, **kwargs)\u001b[0m\n\u001b[1;32m   1460\u001b[0m     \u001b[0;32mif\u001b[0m \u001b[0mp\u001b[0m\u001b[0;34m.\u001b[0m\u001b[0munivariate\u001b[0m\u001b[0;34m:\u001b[0m\u001b[0;34m\u001b[0m\u001b[0;34m\u001b[0m\u001b[0m\n\u001b[1;32m   1461\u001b[0m \u001b[0;34m\u001b[0m\u001b[0m\n\u001b[0;32m-> 1462\u001b[0;31m         p.plot_univariate_histogram(\n\u001b[0m\u001b[1;32m   1463\u001b[0m             \u001b[0mmultiple\u001b[0m\u001b[0;34m=\u001b[0m\u001b[0mmultiple\u001b[0m\u001b[0;34m,\u001b[0m\u001b[0;34m\u001b[0m\u001b[0;34m\u001b[0m\u001b[0m\n\u001b[1;32m   1464\u001b[0m             \u001b[0melement\u001b[0m\u001b[0;34m=\u001b[0m\u001b[0melement\u001b[0m\u001b[0;34m,\u001b[0m\u001b[0;34m\u001b[0m\u001b[0;34m\u001b[0m\u001b[0m\n",
      "\u001b[0;32m~/opt/anaconda3/lib/python3.8/site-packages/seaborn/distributions.py\u001b[0m in \u001b[0;36mplot_univariate_histogram\u001b[0;34m(self, multiple, element, fill, common_norm, common_bins, shrink, kde, kde_kws, color, legend, line_kws, estimate_kws, **plot_kws)\u001b[0m\n\u001b[1;32m    514\u001b[0m                         \u001b[0martist\u001b[0m \u001b[0;34m=\u001b[0m \u001b[0mmpl\u001b[0m\u001b[0;34m.\u001b[0m\u001b[0mpatches\u001b[0m\u001b[0;34m.\u001b[0m\u001b[0mRectangle\u001b[0m\u001b[0;34m\u001b[0m\u001b[0;34m\u001b[0m\u001b[0m\n\u001b[1;32m    515\u001b[0m                         \u001b[0mplot_kws\u001b[0m \u001b[0;34m=\u001b[0m \u001b[0m_normalize_kwargs\u001b[0m\u001b[0;34m(\u001b[0m\u001b[0mplot_kws\u001b[0m\u001b[0;34m,\u001b[0m \u001b[0martist\u001b[0m\u001b[0;34m)\u001b[0m\u001b[0;34m\u001b[0m\u001b[0;34m\u001b[0m\u001b[0m\n\u001b[0;32m--> 516\u001b[0;31m                         \u001b[0mscout\u001b[0m \u001b[0;34m=\u001b[0m \u001b[0mself\u001b[0m\u001b[0;34m.\u001b[0m\u001b[0max\u001b[0m\u001b[0;34m.\u001b[0m\u001b[0mfill_between\u001b[0m\u001b[0;34m(\u001b[0m\u001b[0;34m[\u001b[0m\u001b[0;34m]\u001b[0m\u001b[0;34m,\u001b[0m \u001b[0;34m[\u001b[0m\u001b[0;34m]\u001b[0m\u001b[0;34m,\u001b[0m \u001b[0mcolor\u001b[0m\u001b[0;34m=\u001b[0m\u001b[0mcolor\u001b[0m\u001b[0;34m,\u001b[0m \u001b[0;34m**\u001b[0m\u001b[0mplot_kws\u001b[0m\u001b[0;34m)\u001b[0m\u001b[0;34m\u001b[0m\u001b[0;34m\u001b[0m\u001b[0m\n\u001b[0m\u001b[1;32m    517\u001b[0m                         \u001b[0mdefault_color\u001b[0m \u001b[0;34m=\u001b[0m \u001b[0mtuple\u001b[0m\u001b[0;34m(\u001b[0m\u001b[0mscout\u001b[0m\u001b[0;34m.\u001b[0m\u001b[0mget_facecolor\u001b[0m\u001b[0;34m(\u001b[0m\u001b[0;34m)\u001b[0m\u001b[0;34m.\u001b[0m\u001b[0msqueeze\u001b[0m\u001b[0;34m(\u001b[0m\u001b[0;34m)\u001b[0m\u001b[0;34m)\u001b[0m\u001b[0;34m\u001b[0m\u001b[0;34m\u001b[0m\u001b[0m\n\u001b[1;32m    518\u001b[0m                 \u001b[0;32melse\u001b[0m\u001b[0;34m:\u001b[0m\u001b[0;34m\u001b[0m\u001b[0;34m\u001b[0m\u001b[0m\n",
      "\u001b[0;32m~/opt/anaconda3/lib/python3.8/site-packages/matplotlib/__init__.py\u001b[0m in \u001b[0;36minner\u001b[0;34m(ax, data, *args, **kwargs)\u001b[0m\n\u001b[1;32m   1410\u001b[0m     \u001b[0;32mdef\u001b[0m \u001b[0minner\u001b[0m\u001b[0;34m(\u001b[0m\u001b[0max\u001b[0m\u001b[0;34m,\u001b[0m \u001b[0;34m*\u001b[0m\u001b[0margs\u001b[0m\u001b[0;34m,\u001b[0m \u001b[0mdata\u001b[0m\u001b[0;34m=\u001b[0m\u001b[0;32mNone\u001b[0m\u001b[0;34m,\u001b[0m \u001b[0;34m**\u001b[0m\u001b[0mkwargs\u001b[0m\u001b[0;34m)\u001b[0m\u001b[0;34m:\u001b[0m\u001b[0;34m\u001b[0m\u001b[0;34m\u001b[0m\u001b[0m\n\u001b[1;32m   1411\u001b[0m         \u001b[0;32mif\u001b[0m \u001b[0mdata\u001b[0m \u001b[0;32mis\u001b[0m \u001b[0;32mNone\u001b[0m\u001b[0;34m:\u001b[0m\u001b[0;34m\u001b[0m\u001b[0;34m\u001b[0m\u001b[0m\n\u001b[0;32m-> 1412\u001b[0;31m             \u001b[0;32mreturn\u001b[0m \u001b[0mfunc\u001b[0m\u001b[0;34m(\u001b[0m\u001b[0max\u001b[0m\u001b[0;34m,\u001b[0m \u001b[0;34m*\u001b[0m\u001b[0mmap\u001b[0m\u001b[0;34m(\u001b[0m\u001b[0msanitize_sequence\u001b[0m\u001b[0;34m,\u001b[0m \u001b[0margs\u001b[0m\u001b[0;34m)\u001b[0m\u001b[0;34m,\u001b[0m \u001b[0;34m**\u001b[0m\u001b[0mkwargs\u001b[0m\u001b[0;34m)\u001b[0m\u001b[0;34m\u001b[0m\u001b[0;34m\u001b[0m\u001b[0m\n\u001b[0m\u001b[1;32m   1413\u001b[0m \u001b[0;34m\u001b[0m\u001b[0m\n\u001b[1;32m   1414\u001b[0m         \u001b[0mbound\u001b[0m \u001b[0;34m=\u001b[0m \u001b[0mnew_sig\u001b[0m\u001b[0;34m.\u001b[0m\u001b[0mbind\u001b[0m\u001b[0;34m(\u001b[0m\u001b[0max\u001b[0m\u001b[0;34m,\u001b[0m \u001b[0;34m*\u001b[0m\u001b[0margs\u001b[0m\u001b[0;34m,\u001b[0m \u001b[0;34m**\u001b[0m\u001b[0mkwargs\u001b[0m\u001b[0;34m)\u001b[0m\u001b[0;34m\u001b[0m\u001b[0;34m\u001b[0m\u001b[0m\n",
      "\u001b[0;32m~/opt/anaconda3/lib/python3.8/site-packages/matplotlib/axes/_axes.py\u001b[0m in \u001b[0;36mfill_between\u001b[0;34m(self, x, y1, y2, where, interpolate, step, **kwargs)\u001b[0m\n\u001b[1;32m   5250\u001b[0m     def fill_between(self, x, y1, y2=0, where=None, interpolate=False,\n\u001b[1;32m   5251\u001b[0m                      step=None, **kwargs):\n\u001b[0;32m-> 5252\u001b[0;31m         return self._fill_between_x_or_y(\n\u001b[0m\u001b[1;32m   5253\u001b[0m             \u001b[0;34m\"x\"\u001b[0m\u001b[0;34m,\u001b[0m \u001b[0mx\u001b[0m\u001b[0;34m,\u001b[0m \u001b[0my1\u001b[0m\u001b[0;34m,\u001b[0m \u001b[0my2\u001b[0m\u001b[0;34m,\u001b[0m\u001b[0;34m\u001b[0m\u001b[0;34m\u001b[0m\u001b[0m\n\u001b[1;32m   5254\u001b[0m             where=where, interpolate=interpolate, step=step, **kwargs)\n",
      "\u001b[0;32m~/opt/anaconda3/lib/python3.8/site-packages/matplotlib/axes/_axes.py\u001b[0m in \u001b[0;36m_fill_between_x_or_y\u001b[0;34m(self, ind_dir, ind, dep1, dep2, where, interpolate, step, **kwargs)\u001b[0m\n\u001b[1;32m   5236\u001b[0m             \u001b[0mpolys\u001b[0m\u001b[0;34m.\u001b[0m\u001b[0mappend\u001b[0m\u001b[0;34m(\u001b[0m\u001b[0mpts\u001b[0m\u001b[0;34m)\u001b[0m\u001b[0;34m\u001b[0m\u001b[0;34m\u001b[0m\u001b[0m\n\u001b[1;32m   5237\u001b[0m \u001b[0;34m\u001b[0m\u001b[0m\n\u001b[0;32m-> 5238\u001b[0;31m         \u001b[0mcollection\u001b[0m \u001b[0;34m=\u001b[0m \u001b[0mmcoll\u001b[0m\u001b[0;34m.\u001b[0m\u001b[0mPolyCollection\u001b[0m\u001b[0;34m(\u001b[0m\u001b[0mpolys\u001b[0m\u001b[0;34m,\u001b[0m \u001b[0;34m**\u001b[0m\u001b[0mkwargs\u001b[0m\u001b[0;34m)\u001b[0m\u001b[0;34m\u001b[0m\u001b[0;34m\u001b[0m\u001b[0m\n\u001b[0m\u001b[1;32m   5239\u001b[0m \u001b[0;34m\u001b[0m\u001b[0m\n\u001b[1;32m   5240\u001b[0m         \u001b[0;31m# now update the datalim and autoscale\u001b[0m\u001b[0;34m\u001b[0m\u001b[0;34m\u001b[0m\u001b[0;34m\u001b[0m\u001b[0m\n",
      "\u001b[0;32m~/opt/anaconda3/lib/python3.8/site-packages/matplotlib/collections.py\u001b[0m in \u001b[0;36m__init__\u001b[0;34m(self, verts, sizes, closed, **kwargs)\u001b[0m\n\u001b[1;32m   1185\u001b[0m             \u001b[0mForwarded\u001b[0m \u001b[0mto\u001b[0m\u001b[0;31m \u001b[0m\u001b[0;31m`\u001b[0m\u001b[0;34m.\u001b[0m\u001b[0mCollection\u001b[0m\u001b[0;31m`\u001b[0m\u001b[0;34m.\u001b[0m\u001b[0;34m\u001b[0m\u001b[0;34m\u001b[0m\u001b[0m\n\u001b[1;32m   1186\u001b[0m         \"\"\"\n\u001b[0;32m-> 1187\u001b[0;31m         \u001b[0msuper\u001b[0m\u001b[0;34m(\u001b[0m\u001b[0;34m)\u001b[0m\u001b[0;34m.\u001b[0m\u001b[0m__init__\u001b[0m\u001b[0;34m(\u001b[0m\u001b[0;34m**\u001b[0m\u001b[0mkwargs\u001b[0m\u001b[0;34m)\u001b[0m\u001b[0;34m\u001b[0m\u001b[0;34m\u001b[0m\u001b[0m\n\u001b[0m\u001b[1;32m   1188\u001b[0m         \u001b[0mself\u001b[0m\u001b[0;34m.\u001b[0m\u001b[0mset_sizes\u001b[0m\u001b[0;34m(\u001b[0m\u001b[0msizes\u001b[0m\u001b[0;34m)\u001b[0m\u001b[0;34m\u001b[0m\u001b[0;34m\u001b[0m\u001b[0m\n\u001b[1;32m   1189\u001b[0m         \u001b[0mself\u001b[0m\u001b[0;34m.\u001b[0m\u001b[0mset_verts\u001b[0m\u001b[0;34m(\u001b[0m\u001b[0mverts\u001b[0m\u001b[0;34m,\u001b[0m \u001b[0mclosed\u001b[0m\u001b[0;34m)\u001b[0m\u001b[0;34m\u001b[0m\u001b[0;34m\u001b[0m\u001b[0m\n",
      "\u001b[0;32m~/opt/anaconda3/lib/python3.8/site-packages/matplotlib/collections.py\u001b[0m in \u001b[0;36m__init__\u001b[0;34m(self, edgecolors, facecolors, linewidths, linestyles, capstyle, joinstyle, antialiaseds, offsets, transOffset, norm, cmap, pickradius, hatch, urls, zorder, **kwargs)\u001b[0m\n\u001b[1;32m    159\u001b[0m         \"\"\"\n\u001b[1;32m    160\u001b[0m         \u001b[0martist\u001b[0m\u001b[0;34m.\u001b[0m\u001b[0mArtist\u001b[0m\u001b[0;34m.\u001b[0m\u001b[0m__init__\u001b[0m\u001b[0;34m(\u001b[0m\u001b[0mself\u001b[0m\u001b[0;34m)\u001b[0m\u001b[0;34m\u001b[0m\u001b[0;34m\u001b[0m\u001b[0m\n\u001b[0;32m--> 161\u001b[0;31m         \u001b[0mcm\u001b[0m\u001b[0;34m.\u001b[0m\u001b[0mScalarMappable\u001b[0m\u001b[0;34m.\u001b[0m\u001b[0m__init__\u001b[0m\u001b[0;34m(\u001b[0m\u001b[0mself\u001b[0m\u001b[0;34m,\u001b[0m \u001b[0mnorm\u001b[0m\u001b[0;34m,\u001b[0m \u001b[0mcmap\u001b[0m\u001b[0;34m)\u001b[0m\u001b[0;34m\u001b[0m\u001b[0;34m\u001b[0m\u001b[0m\n\u001b[0m\u001b[1;32m    162\u001b[0m         \u001b[0;31m# list of un-scaled dash patterns\u001b[0m\u001b[0;34m\u001b[0m\u001b[0;34m\u001b[0m\u001b[0;34m\u001b[0m\u001b[0m\n\u001b[1;32m    163\u001b[0m         \u001b[0;31m# this is needed scaling the dash pattern by linewidth\u001b[0m\u001b[0;34m\u001b[0m\u001b[0;34m\u001b[0m\u001b[0;34m\u001b[0m\u001b[0m\n",
      "\u001b[0;32m~/opt/anaconda3/lib/python3.8/site-packages/matplotlib/cm.py\u001b[0m in \u001b[0;36m__init__\u001b[0;34m(self, norm, cmap)\u001b[0m\n\u001b[1;32m    355\u001b[0m         \u001b[0mself\u001b[0m\u001b[0;34m.\u001b[0m\u001b[0m_A\u001b[0m \u001b[0;34m=\u001b[0m \u001b[0;32mNone\u001b[0m\u001b[0;34m\u001b[0m\u001b[0;34m\u001b[0m\u001b[0m\n\u001b[1;32m    356\u001b[0m         \u001b[0mself\u001b[0m\u001b[0;34m.\u001b[0m\u001b[0m_norm\u001b[0m \u001b[0;34m=\u001b[0m \u001b[0;32mNone\u001b[0m  \u001b[0;31m# So that the setter knows we're initializing.\u001b[0m\u001b[0;34m\u001b[0m\u001b[0;34m\u001b[0m\u001b[0m\n\u001b[0;32m--> 357\u001b[0;31m         \u001b[0mself\u001b[0m\u001b[0;34m.\u001b[0m\u001b[0mset_norm\u001b[0m\u001b[0;34m(\u001b[0m\u001b[0mnorm\u001b[0m\u001b[0;34m)\u001b[0m  \u001b[0;31m# The Normalize instance of this ScalarMappable.\u001b[0m\u001b[0;34m\u001b[0m\u001b[0;34m\u001b[0m\u001b[0m\n\u001b[0m\u001b[1;32m    358\u001b[0m         \u001b[0mself\u001b[0m\u001b[0;34m.\u001b[0m\u001b[0mcmap\u001b[0m \u001b[0;34m=\u001b[0m \u001b[0;32mNone\u001b[0m  \u001b[0;31m# So that the setter knows we're initializing.\u001b[0m\u001b[0;34m\u001b[0m\u001b[0;34m\u001b[0m\u001b[0m\n\u001b[1;32m    359\u001b[0m         \u001b[0mself\u001b[0m\u001b[0;34m.\u001b[0m\u001b[0mset_cmap\u001b[0m\u001b[0;34m(\u001b[0m\u001b[0mcmap\u001b[0m\u001b[0;34m)\u001b[0m  \u001b[0;31m# The Colormap instance of this ScalarMappable.\u001b[0m\u001b[0;34m\u001b[0m\u001b[0;34m\u001b[0m\u001b[0m\n",
      "\u001b[0;32m~/opt/anaconda3/lib/python3.8/site-packages/matplotlib/cm.py\u001b[0m in \u001b[0;36mset_norm\u001b[0;34m(self, norm)\u001b[0m\n\u001b[1;32m    587\u001b[0m         \u001b[0mon\u001b[0m \u001b[0mthe\u001b[0m \u001b[0mcolorbar\u001b[0m \u001b[0mto\u001b[0m \u001b[0mdefault\u001b[0m\u001b[0;34m.\u001b[0m\u001b[0;34m\u001b[0m\u001b[0;34m\u001b[0m\u001b[0m\n\u001b[1;32m    588\u001b[0m         \"\"\"\n\u001b[0;32m--> 589\u001b[0;31m         \u001b[0mself\u001b[0m\u001b[0;34m.\u001b[0m\u001b[0mnorm\u001b[0m \u001b[0;34m=\u001b[0m \u001b[0mnorm\u001b[0m\u001b[0;34m\u001b[0m\u001b[0;34m\u001b[0m\u001b[0m\n\u001b[0m\u001b[1;32m    590\u001b[0m \u001b[0;34m\u001b[0m\u001b[0m\n\u001b[1;32m    591\u001b[0m     \u001b[0;32mdef\u001b[0m \u001b[0mautoscale\u001b[0m\u001b[0;34m(\u001b[0m\u001b[0mself\u001b[0m\u001b[0;34m)\u001b[0m\u001b[0;34m:\u001b[0m\u001b[0;34m\u001b[0m\u001b[0;34m\u001b[0m\u001b[0m\n",
      "\u001b[0;32m~/opt/anaconda3/lib/python3.8/site-packages/matplotlib/cm.py\u001b[0m in \u001b[0;36mnorm\u001b[0;34m(self, norm)\u001b[0m\n\u001b[1;32m    555\u001b[0m     \u001b[0;34m@\u001b[0m\u001b[0mnorm\u001b[0m\u001b[0;34m.\u001b[0m\u001b[0msetter\u001b[0m\u001b[0;34m\u001b[0m\u001b[0;34m\u001b[0m\u001b[0m\n\u001b[1;32m    556\u001b[0m     \u001b[0;32mdef\u001b[0m \u001b[0mnorm\u001b[0m\u001b[0;34m(\u001b[0m\u001b[0mself\u001b[0m\u001b[0;34m,\u001b[0m \u001b[0mnorm\u001b[0m\u001b[0;34m)\u001b[0m\u001b[0;34m:\u001b[0m\u001b[0;34m\u001b[0m\u001b[0;34m\u001b[0m\u001b[0m\n\u001b[0;32m--> 557\u001b[0;31m         \u001b[0m_api\u001b[0m\u001b[0;34m.\u001b[0m\u001b[0mcheck_isinstance\u001b[0m\u001b[0;34m(\u001b[0m\u001b[0;34m(\u001b[0m\u001b[0mcolors\u001b[0m\u001b[0;34m.\u001b[0m\u001b[0mNormalize\u001b[0m\u001b[0;34m,\u001b[0m \u001b[0;32mNone\u001b[0m\u001b[0;34m)\u001b[0m\u001b[0;34m,\u001b[0m \u001b[0mnorm\u001b[0m\u001b[0;34m=\u001b[0m\u001b[0mnorm\u001b[0m\u001b[0;34m)\u001b[0m\u001b[0;34m\u001b[0m\u001b[0;34m\u001b[0m\u001b[0m\n\u001b[0m\u001b[1;32m    558\u001b[0m         \u001b[0;32mif\u001b[0m \u001b[0mnorm\u001b[0m \u001b[0;32mis\u001b[0m \u001b[0;32mNone\u001b[0m\u001b[0;34m:\u001b[0m\u001b[0;34m\u001b[0m\u001b[0;34m\u001b[0m\u001b[0m\n\u001b[1;32m    559\u001b[0m             \u001b[0mnorm\u001b[0m \u001b[0;34m=\u001b[0m \u001b[0mcolors\u001b[0m\u001b[0;34m.\u001b[0m\u001b[0mNormalize\u001b[0m\u001b[0;34m(\u001b[0m\u001b[0;34m)\u001b[0m\u001b[0;34m\u001b[0m\u001b[0;34m\u001b[0m\u001b[0m\n",
      "\u001b[0;32m~/opt/anaconda3/lib/python3.8/site-packages/matplotlib/_api/__init__.py\u001b[0m in \u001b[0;36mcheck_isinstance\u001b[0;34m(_types, **kwargs)\u001b[0m\n\u001b[1;32m     91\u001b[0m                 \u001b[0mnames\u001b[0m\u001b[0;34m.\u001b[0m\u001b[0mremove\u001b[0m\u001b[0;34m(\u001b[0m\u001b[0;34m\"None\"\u001b[0m\u001b[0;34m)\u001b[0m\u001b[0;34m\u001b[0m\u001b[0;34m\u001b[0m\u001b[0m\n\u001b[1;32m     92\u001b[0m                 \u001b[0mnames\u001b[0m\u001b[0;34m.\u001b[0m\u001b[0mappend\u001b[0m\u001b[0;34m(\u001b[0m\u001b[0;34m\"None\"\u001b[0m\u001b[0;34m)\u001b[0m\u001b[0;34m\u001b[0m\u001b[0;34m\u001b[0m\u001b[0m\n\u001b[0;32m---> 93\u001b[0;31m             raise TypeError(\n\u001b[0m\u001b[1;32m     94\u001b[0m                 \"{!r} must be an instance of {}, not a {}\".format(\n\u001b[1;32m     95\u001b[0m                     \u001b[0mk\u001b[0m\u001b[0;34m,\u001b[0m\u001b[0;34m\u001b[0m\u001b[0;34m\u001b[0m\u001b[0m\n",
      "\u001b[0;31mTypeError\u001b[0m: 'norm' must be an instance of matplotlib.colors.Normalize or None, not a bool"
     ]
    },
    {
     "data": {
      "image/png": "[encoded data removed]",
      "text/plain": [
       "<Figure size 432x288 with 1 Axes>"
      ]
     },
     "metadata": {
      "needs_background": "light"
     },
     "output_type": "display_data"
    }
   ],
   "source": [
    "sns.histplot(low_ent_stats[\"second_prob\"], kde=True, norm=True)"
   ]
  },
  {
   "cell_type": "code",
   "execution_count": 24,
   "id": "5e016b1b",
   "metadata": {},
   "outputs": [
    {
     "data": {
      "text/plain": [
       "(array([  46.,   74.,   64.,  224.,  436.,  382.,  490.,  707., 1118.,\n",
       "        2416.]),\n",
       " array([0.1 , 0.19, 0.28, 0.37, 0.46, 0.55, 0.64, 0.73, 0.82, 0.91, 1.  ]),\n",
       " <BarContainer object of 10 artists>)"
      ]
     },
     "execution_count": 24,
     "metadata": {},
     "output_type": "execute_result"
    },
    {
     "data": {
      "image/png": "[encoded data removed]",
      "text/plain": [
       "<Figure size 432x288 with 1 Axes>"
      ]
     },
     "metadata": {
      "needs_background": "light"
     },
     "output_type": "display_data"
    }
   ],
   "source": [
    "plt.hist(high_ent_stats[\"top_prob\"])"
   ]
  },
  {
   "cell_type": "code",
   "execution_count": 25,
   "id": "873998c7",
   "metadata": {},
   "outputs": [
    {
     "data": {
      "text/plain": [
       "(array([  2.,   0.,   1.,   3.,  14.,   5.,  13.,  29., 144., 555.]),\n",
       " array([0.1 , 0.19, 0.28, 0.37, 0.46, 0.55, 0.64, 0.73, 0.82, 0.91, 1.  ]),\n",
       " <BarContainer object of 10 artists>)"
      ]
     },
     "execution_count": 25,
     "metadata": {},
     "output_type": "execute_result"
    },
    {
     "data": {
      "image/png": "[encoded data removed]",
      "text/plain": [
       "<Figure size 432x288 with 1 Axes>"
      ]
     },
     "metadata": {
      "needs_background": "light"
     },
     "output_type": "display_data"
    }
   ],
   "source": [
    "plt.hist(low_ent_stats[\"top_prob\"])"
   ]
  },
  {
   "cell_type": "code",
   "execution_count": 26,
   "id": "901fe0f9",
   "metadata": {},
   "outputs": [
    {
     "ename": "NameError",
     "evalue": "name 'a' is not defined",
     "output_type": "error",
     "traceback": [
      "\u001b[0;31m---------------------------------------------------------------------------\u001b[0m",
      "\u001b[0;31mNameError\u001b[0m                                 Traceback (most recent call last)",
      "\u001b[0;32m<ipython-input-26-77ad3615a38f>\u001b[0m in \u001b[0;36m<module>\u001b[0;34m\u001b[0m\n\u001b[1;32m      6\u001b[0m \u001b[0mx\u001b[0m \u001b[0;34m=\u001b[0m \u001b[0;34m[\u001b[0m\u001b[0;34m]\u001b[0m\u001b[0;34m\u001b[0m\u001b[0;34m\u001b[0m\u001b[0m\n\u001b[1;32m      7\u001b[0m \u001b[0;32mfor\u001b[0m \u001b[0m_\u001b[0m \u001b[0;32min\u001b[0m \u001b[0mrange\u001b[0m\u001b[0;34m(\u001b[0m\u001b[0;36m1000\u001b[0m\u001b[0;34m)\u001b[0m\u001b[0;34m:\u001b[0m\u001b[0;34m\u001b[0m\u001b[0;34m\u001b[0m\u001b[0m\n\u001b[0;32m----> 8\u001b[0;31m     \u001b[0mx\u001b[0m\u001b[0;34m.\u001b[0m\u001b[0mappend\u001b[0m\u001b[0;34m(\u001b[0m\u001b[0mnp\u001b[0m\u001b[0;34m.\u001b[0m\u001b[0mrandom\u001b[0m\u001b[0;34m.\u001b[0m\u001b[0mbeta\u001b[0m\u001b[0;34m(\u001b[0m\u001b[0ma\u001b[0m\u001b[0;34m,\u001b[0m \u001b[0mb\u001b[0m\u001b[0;34m)\u001b[0m\u001b[0;34m)\u001b[0m\u001b[0;34m\u001b[0m\u001b[0;34m\u001b[0m\u001b[0m\n\u001b[0m\u001b[1;32m      9\u001b[0m \u001b[0mplt\u001b[0m\u001b[0;34m.\u001b[0m\u001b[0mhist\u001b[0m\u001b[0;34m(\u001b[0m\u001b[0mx\u001b[0m\u001b[0;34m)\u001b[0m\u001b[0;34m\u001b[0m\u001b[0;34m\u001b[0m\u001b[0m\n",
      "\u001b[0;31mNameError\u001b[0m: name 'a' is not defined"
     ]
    },
    {
     "data": {
      "image/png": "[encoded data removed]",
      "text/plain": [
       "<Figure size 432x288 with 1 Axes>"
      ]
     },
     "metadata": {
      "needs_background": "light"
     },
     "output_type": "display_data"
    }
   ],
   "source": [
    "from scipy import stats\n",
    "ae, loce, scalee = stats.skewnorm.fit(high_ent_stats[\"n_also_poss\"])\n",
    "x = stats.skewnorm.pdf(np.linspace(0, 1, 100), ae, loce, scalee)\n",
    "plt.hist(x)\n",
    "\n",
    "x = []\n",
    "for _ in range(1000):\n",
    "    x.append(np.random.beta(a, b))\n",
    "plt.hist(x)"
   ]
  },
  {
   "cell_type": "code",
   "execution_count": 27,
   "id": "3c73de27",
   "metadata": {},
   "outputs": [
    {
     "name": "stdout",
     "output_type": "stream",
     "text": [
      "(10.354560814157495, 0.8786716072117104, 0.0, 0.9900000000000002)\n"
     ]
    },
    {
     "name": "stderr",
     "output_type": "stream",
     "text": [
      "/Users/kcollins/opt/anaconda3/lib/python3.8/site-packages/scipy/stats/_continuous_distns.py:639: RuntimeWarning: invalid value encountered in sqrt\n",
      "  sk = 2*(b-a)*np.sqrt(a + b + 1) / (a + b + 2) / np.sqrt(a*b)\n",
      "/Users/kcollins/opt/anaconda3/lib/python3.8/site-packages/scipy/optimize/minpack.py:175: RuntimeWarning: The iteration is not making good progress, as measured by the \n",
      "  improvement from the last ten iterations.\n",
      "  warnings.warn(msg, RuntimeWarning)\n"
     ]
    },
    {
     "data": {
      "text/plain": [
       "(array([  4.,   8.,  12.,  16.,  31.,  58.,  76., 142., 218., 435.]),\n",
       " array([0.56990885, 0.6129155 , 0.65592216, 0.69892881, 0.74193546,\n",
       "        0.78494211, 0.82794877, 0.87095542, 0.91396207, 0.95696872,\n",
       "        0.99997538]),\n",
       " <BarContainer object of 10 artists>)"
      ]
     },
     "execution_count": 27,
     "metadata": {},
     "output_type": "execute_result"
    },
    {
     "data": {
      "image/png": "[encoded data removed]",
      "text/plain": [
       "<Figure size 432x288 with 1 Axes>"
      ]
     },
     "metadata": {
      "needs_background": "light"
     },
     "output_type": "display_data"
    }
   ],
   "source": [
    "from scipy.stats import beta\n",
    "prob_data = []\n",
    "for x in low_ent_stats[\"top_prob\"]: \n",
    "    if x == 1.0: prob_data.append(x-0.05)\n",
    "    elif x==0.0: prob_data.append(x+0.00001)\n",
    "    else: prob_data.append(x) \n",
    "#     prob_data.append(x)\n",
    "params = beta.fit(prob_data, floc=0.0)#, fscale=1.0) #, fscale=5)\n",
    "\n",
    "a, b, loc, scale = params\n",
    "print(params)\n",
    "\n",
    "x = []\n",
    "for _ in range(1000):\n",
    "    x.append(np.random.beta(a, b))\n",
    "plt.hist(x)"
   ]
  },
  {
   "cell_type": "code",
   "execution_count": 28,
   "id": "9fb39665",
   "metadata": {},
   "outputs": [
    {
     "data": {
      "text/plain": [
       "(array([  4.,   2.,   4.,  14.,  30.,  45.,  76., 147., 246., 432.]),\n",
       " array([0.53544153, 0.58189237, 0.62834322, 0.67479406, 0.7212449 ,\n",
       "        0.76769574, 0.81414659, 0.86059743, 0.90704827, 0.95349912,\n",
       "        0.99994996]),\n",
       " <BarContainer object of 10 artists>)"
      ]
     },
     "execution_count": 28,
     "metadata": {},
     "output_type": "execute_result"
    },
    {
     "data": {
      "image/png": "[encoded data removed]",
      "text/plain": [
       "<Figure size 432x288 with 1 Axes>"
      ]
     },
     "metadata": {
      "needs_background": "light"
     },
     "output_type": "display_data"
    }
   ],
   "source": [
    "x = []\n",
    "for _ in range(1000):\n",
    "    x.append(np.random.beta(a, b))\n",
    "plt.hist(x)"
   ]
  },
  {
   "cell_type": "code",
   "execution_count": 154,
   "id": "9ecd67af",
   "metadata": {},
   "outputs": [
    {
     "data": {
      "text/plain": [
       "(array([4.400e+01, 3.730e+02, 1.981e+03, 4.714e+03, 6.539e+03, 4.325e+03,\n",
       "        1.692e+03, 2.990e+02, 3.100e+01, 2.000e+00]),\n",
       " array([ 27. ,  43.5,  60. ,  76.5,  93. , 109.5, 126. , 142.5, 159. ,\n",
       "        175.5, 192. ]),\n",
       " <BarContainer object of 10 artists>)"
      ]
     },
     "execution_count": 154,
     "metadata": {},
     "output_type": "execute_result"
    },
    {
     "data": {
      "image/png": "[encoded data removed]",
      "text/plain": [
       "<Figure size 432x288 with 1 Axes>"
      ]
     },
     "metadata": {
      "needs_background": "light"
     },
     "output_type": "display_data"
    }
   ],
   "source": [
    "import scipy.stats as ss\n",
    "import numpy as np\n",
    "import matplotlib.pyplot as plt\n",
    "\n",
    "center = 100\n",
    "n = 1001\n",
    "std = 20\n",
    "x = np.arange(0, n)\n",
    "prob = ss.norm.pdf(x,loc=center, scale = std )\n",
    "prob = prob / prob.sum() #normalize the probabilities so their sum is 1    \n",
    "\n",
    "nums = np.random.choice(x, 20000, p=prob)\n",
    "plt.hist(nums)\n",
    "\n"
   ]
  },
  {
   "cell_type": "code",
   "execution_count": 144,
   "id": "ab74e3e3",
   "metadata": {},
   "outputs": [
    {
     "data": {
      "text/plain": [
       "array([0.00000000e+00, 3.04446904e-26, 2.11757119e-22, 3.75603545e-20,\n",
       "       1.48338856e-18, 2.57237824e-17, 2.65054696e-16, 1.90691782e-15,\n",
       "       1.05475869e-14, 4.77287063e-14, 1.84346192e-13, 6.26407483e-13,\n",
       "       1.91491947e-12, 5.35652776e-12, 1.38925932e-11, 3.37591319e-11,\n",
       "       7.75118432e-11, 1.69319998e-10, 3.53909839e-10, 7.11212686e-10,\n",
       "       1.37970830e-09, 2.59272875e-09, 4.73369863e-09, 8.41855190e-09,\n",
       "       1.46165271e-08, 2.48243736e-08, 4.13139095e-08, 6.74791019e-08,\n",
       "       1.08316692e-07, 1.71084203e-07, 2.66191366e-07, 4.08396061e-07,\n",
       "       6.18394401e-07, 9.24917171e-07, 1.36747243e-06, 1.99990745e-06,\n",
       "       2.89500349e-06, 4.15036559e-06, 5.89592771e-06, 8.30346365e-06,\n",
       "       1.15985775e-05, 1.60757473e-05, 2.21171135e-05, 3.02158462e-05,\n",
       "       4.10050915e-05, 5.52936971e-05, 7.41101535e-05, 9.87564669e-05,\n",
       "       1.30874013e-04, 1.72523817e-04, 2.26284163e-04, 2.95369020e-04,\n",
       "       3.83771392e-04, 4.96436530e-04, 6.39470858e-04, 8.20393603e-04,\n",
       "       1.04843947e-03, 1.33492228e-03, 1.69367155e-03, 2.14155622e-03,\n",
       "       2.69911260e-03, 3.39129733e-03, 4.24838993e-03, 5.30707530e-03,\n",
       "       6.61174245e-03, 8.21604416e-03, 1.01847719e-02, 1.25961133e-02,\n",
       "       1.55443743e-02, 1.91432700e-02, 2.35299123e-02, 2.88696558e-02,\n",
       "       3.53620092e-02, 4.32478739e-02, 5.28184487e-02, 6.44262428e-02,\n",
       "       7.84987766e-02, 9.55557430e-02, 1.16230667e-01, 1.41298482e-01,\n",
       "       1.71710985e-01, 2.08642925e-01, 2.53552674e-01, 3.08263234e-01,\n",
       "       3.75072156e-01, 4.56903458e-01, 5.57522043e-01, 6.81843757e-01,\n",
       "       8.36396477e-01, 1.03002860e+00, 1.27504057e+00, 1.58907759e+00,\n",
       "       1.99847891e+00, 2.54463540e+00, 3.29719354e+00, 4.38498437e+00,\n",
       "       6.08195937e+00, 9.11914837e+00, 1.65738667e+01])"
      ]
     },
     "execution_count": 144,
     "metadata": {},
     "output_type": "execute_result"
    }
   ],
   "source": [
    "x = stats.beta.pdf(np.linspace(0, 1, 100), a, b, loc, scale)[:-1]\n",
    "x"
   ]
  },
  {
   "cell_type": "code",
   "execution_count": 157,
   "id": "0ccaa2ec",
   "metadata": {},
   "outputs": [
    {
     "data": {
      "text/plain": [
       "(array([  2.,   2.,   5.,   8.,  10.,  15.,  30.,  59., 107., 762.]),\n",
       " array([0.7029493 , 0.73265437, 0.76235944, 0.79206451, 0.82176958,\n",
       "        0.85147465, 0.88117972, 0.91088479, 0.94058986, 0.97029493,\n",
       "        1.        ]),\n",
       " <BarContainer object of 10 artists>)"
      ]
     },
     "execution_count": 157,
     "metadata": {},
     "output_type": "execute_result"
    },
    {
     "data": {
      "image/png": "[encoded data removed]",
      "text/plain": [
       "<Figure size 432x288 with 1 Axes>"
      ]
     },
     "metadata": {
      "needs_background": "light"
     },
     "output_type": "display_data"
    }
   ],
   "source": []
  },
  {
   "cell_type": "code",
   "execution_count": 140,
   "id": "0dddbeba",
   "metadata": {},
   "outputs": [
    {
     "data": {
      "text/plain": [
       "(array([49., 23., 12.,  6.,  4.,  2.,  1.,  1.,  0.,  1.]),\n",
       " array([0.        , 0.59169557, 1.18339115, 1.77508672, 2.3667823 ,\n",
       "        2.95847787, 3.55017344, 4.14186902, 4.73356459, 5.32526017,\n",
       "        5.91695574]),\n",
       " <BarContainer object of 10 artists>)"
      ]
     },
     "execution_count": 140,
     "metadata": {},
     "output_type": "execute_result"
    },
    {
     "data": {
      "image/png": "[encoded data removed]",
      "text/plain": [
       "<Figure size 432x288 with 1 Axes>"
      ]
     },
     "metadata": {
      "needs_background": "light"
     },
     "output_type": "display_data"
    }
   ],
   "source": [
    "plt.hist(stats.beta.pdf(np.linspace(0, 1, 100), a, b, loc, scale)[:-1])\n",
    "# plt.xlim([0,1])"
   ]
  },
  {
   "cell_type": "code",
   "execution_count": 100,
   "id": "d1d2218a",
   "metadata": {},
   "outputs": [
    {
     "data": {
      "text/plain": [
       "(0.0, 7.084885667052765)"
      ]
     },
     "execution_count": 100,
     "metadata": {},
     "output_type": "execute_result"
    }
   ],
   "source": [
    "preds = stats.beta.pdf(np.linspace(0, 1, 100), a, b, loc, scale)\n",
    "np.min(preds), np.max(preds)"
   ]
  },
  {
   "cell_type": "code",
   "execution_count": 73,
   "id": "0752c705",
   "metadata": {},
   "outputs": [
    {
     "data": {
      "text/plain": [
       "(0.1, 1.0)"
      ]
     },
     "execution_count": 73,
     "metadata": {},
     "output_type": "execute_result"
    }
   ],
   "source": [
    "np.min(low_ent_stats[\"top_prob\"]), np.max(low_ent_stats[\"top_prob\"])"
   ]
  },
  {
   "cell_type": "code",
   "execution_count": 72,
   "id": "9e5317c5",
   "metadata": {},
   "outputs": [
    {
     "data": {
      "text/plain": [
       "(array(0.9995395),\n",
       " array(1.04376015e-06),\n",
       " array(-4.42501904),\n",
       " array(29.29134406))"
      ]
     },
     "execution_count": 72,
     "metadata": {},
     "output_type": "execute_result"
    }
   ],
   "source": [
    "mean, var, skew, kurt = beta.stats(a, b, moments='mvsk')\n",
    "mean, var, skew, kurt"
   ]
  },
  {
   "cell_type": "code",
   "execution_count": 70,
   "id": "d2724a02",
   "metadata": {},
   "outputs": [
    {
     "data": {
      "text/plain": [
       "(0.9469356656337323, 0.11044308313684303)"
      ]
     },
     "execution_count": 70,
     "metadata": {},
     "output_type": "execute_result"
    }
   ],
   "source": [
    "np.mean(low_ent_stats[\"top_prob\"]), np.std(low_ent_stats[\"top_prob\"])"
   ]
  },
  {
   "cell_type": "code",
   "execution_count": 65,
   "id": "023a566a",
   "metadata": {},
   "outputs": [
    {
     "name": "stderr",
     "output_type": "stream",
     "text": [
      "No artists with labels found to put in legend.  Note that artists whose label start with an underscore are ignored when legend() is called with no argument.\n"
     ]
    },
    {
     "data": {
      "image/png": "[encoded data removed]",
      "text/plain": [
       "<Figure size 432x288 with 1 Axes>"
      ]
     },
     "metadata": {
      "needs_background": "light"
     },
     "output_type": "display_data"
    }
   ],
   "source": [
    "plt.hist(low_ent_stats[\"\"])"
   ]
  },
  {
   "cell_type": "code",
   "execution_count": 43,
   "id": "b94499b0",
   "metadata": {},
   "outputs": [
    {
     "data": {
      "text/plain": [
       "[<matplotlib.lines.Line2D at 0x7fea9ffb8040>]"
      ]
     },
     "execution_count": 43,
     "metadata": {},
     "output_type": "execute_result"
    },
    {
     "data": {
      "image/png": "[encoded data removed]",
      "text/plain": [
       "<Figure size 432x288 with 1 Axes>"
      ]
     },
     "metadata": {
      "needs_background": "light"
     },
     "output_type": "display_data"
    }
   ],
   "source": [
    "# Plot the PDF.\n",
    "plt.figure()\n",
    "# plt.hist(low_ent_stats[\"top_prob\"], bins=100, normed=True, alpha=0.6, color='g')\n",
    "xmin, xmax = plt.xlim()\n",
    "x = np.linspace(xmin, xmax, 100)\n",
    "p = stats.skewnorm.pdf(x,ae, loce, scalee)#.rvs(100)\n",
    "plt.plot(x, p, 'k', linewidth=2)"
   ]
  },
  {
   "cell_type": "code",
   "execution_count": 25,
   "id": "21cd8483",
   "metadata": {},
   "outputs": [
    {
     "name": "stdout",
     "output_type": "stream",
     "text": [
      "{'Most Probable Class': 'Deer', 'Most Probable Class Prob': 95.0, 'Second Most Probable Class': 'Horse', 'Second Most Probable Class Prob': 5.0, 'Impossible Class(es)': ['Horse', 'Airplane', 'Dog', 'Deer', 'Automobile', 'Frog', 'Cat', 'Truck', 'Bird', 'Ship']}\n",
      "[0.   0.   0.   0.   0.95 0.   0.   0.05 0.   0.  ]\n",
      "{'Most Probable Class': 'Deer', 'Most Probable Class Prob': 95.0, 'Second Most Probable Class': 'Horse', 'Second Most Probable Class Prob': 5.0, 'Impossible Class(es)': ['Airplane', 'Automobile', 'Frog', 'Truck', 'Bird', 'Ship']}\n",
      "[0.    0.    0.    0.05  0.855 0.05  0.    0.045 0.    0.   ]\n",
      "{'Most Probable Class': 'Deer', 'Most Probable Class Prob': 90.0, 'Second Most Probable Class': 'Horse', 'Second Most Probable Class Prob': 10.0, 'Impossible Class(es)': ['Airplane', 'Automobile', 'Frog', 'Cat', 'Truck', 'Bird', 'Ship']}\n",
      "[0.   0.   0.   0.   0.81 0.1  0.   0.09 0.   0.  ]\n",
      "{'Most Probable Class': 'Deer', 'Most Probable Class Prob': 95.0, 'Second Most Probable Class': 'Horse', 'Second Most Probable Class Prob': 5.0, 'Impossible Class(es)': ['Automobile', 'Airplane', 'Frog', 'Cat', 'Truck', 'Bird', 'Ship']}\n",
      "[0.    0.    0.    0.    0.855 0.1   0.    0.045 0.    0.   ]\n",
      "{'Most Probable Class': 'Deer', 'Most Probable Class Prob': 90.0, 'Second Most Probable Class': 'Horse', 'Second Most Probable Class Prob': 10.0, 'Impossible Class(es)': ['Automobile', 'Airplane', 'Frog', 'Truck', 'Bird', 'Ship']}\n",
      "[0.   0.   0.   0.05 0.81 0.05 0.   0.09 0.   0.  ]\n",
      "{'Most Probable Class': 'Deer', 'Most Probable Class Prob': 95.0, 'Second Most Probable Class': 'No', 'Second Most Probable Class Prob': None, 'Impossible Class(es)': ['Airplane', 'Automobile', 'Frog', 'Truck', 'Cat', 'Bird', 'Ship']}\n",
      "[0.    0.    0.    0.    0.95  0.025 0.    0.025 0.    0.   ]\n"
     ]
    }
   ],
   "source": [
    "elic_data = all_elicitation_per_example[405]\n",
    "for single_annotator_info in elic_data: \n",
    "    soft_label = utils.construct_elicited_soft_label(single_annotator_info, class2idx,idx2class, include_top_2 = True, redist=\"clamp\",\n",
    "                            redist_factor=0.1)\n",
    "    print(single_annotator_info)\n",
    "    print(soft_label)"
   ]
  },
  {
   "cell_type": "code",
   "execution_count": 32,
   "id": "1f69da5c",
   "metadata": {},
   "outputs": [
    {
     "name": "stdout",
     "output_type": "stream",
     "text": [
      "1\n",
      "ZERO:  [0. 0. 0. 0. 0. 0. 0. 0. 0. 0.] ['Truck', 'Frog', 'Ship', 'Bird', 'Deer', 'Dog', 'Airplane', 'Cat', 'Horse']\n",
      "M = 1, dist: 0.032 +/- 0.002, ent corr: 0.312\n",
      "2\n"
     ]
    },
    {
     "name": "stderr",
     "output_type": "stream",
     "text": [
      "/Users/kcollins/hill_mixup/label_construction_utils.py:46: RuntimeWarning: divide by zero encountered in double_scalars\n",
      "  adjusted_prob_labels = current_label - (redist_factor / (n_current_non_zero))\n",
      "/Users/kcollins/hill_mixup/label_construction_utils.py:47: RuntimeWarning: divide by zero encountered in double_scalars\n",
      "  adjustment = (redist_factor / (n_current_non_zero))\n"
     ]
    },
    {
     "name": "stdout",
     "output_type": "stream",
     "text": [
      "ZERO:  [0. 0. 0. 0. 0. 0. 0. 0. 0. 0.] ['Truck', 'Frog', 'Ship', 'Bird', 'Deer', 'Dog', 'Airplane', 'Cat', 'Horse']\n",
      "M = 2, dist: 0.031 +/- 0.002, ent corr: 0.422\n",
      "3\n",
      "ZERO:  [0. 0. 0. 0. 0. 0. 0. 0. 0. 0.] ['Truck', 'Frog', 'Ship', 'Bird', 'Deer', 'Dog', 'Airplane', 'Cat', 'Horse']\n",
      "M = 3, dist: 0.03 +/- 0.002, ent corr: 0.497\n",
      "4\n",
      "ZERO:  [0. 0. 0. 0. 0. 0. 0. 0. 0. 0.] ['Truck', 'Frog', 'Ship', 'Bird', 'Deer', 'Dog', 'Airplane', 'Cat', 'Horse']\n",
      "M = 4, dist: 0.029 +/- 0.002, ent corr: 0.551\n",
      "5\n",
      "ZERO:  [0. 0. 0. 0. 0. 0. 0. 0. 0. 0.] ['Truck', 'Frog', 'Ship', 'Bird', 'Deer', 'Dog', 'Airplane', 'Cat', 'Horse']\n",
      "M = 5, dist: 0.029 +/- 0.001, ent corr: 0.563\n",
      "6\n",
      "ZERO:  [0. 0. 0. 0. 0. 0. 0. 0. 0. 0.] ['Truck', 'Frog', 'Ship', 'Bird', 'Deer', 'Dog', 'Airplane', 'Cat', 'Horse']\n",
      "M = 6, dist: 0.028 +/- 0.001, ent corr: 0.586\n"
     ]
    }
   ],
   "source": [
    "importlib.reload(utils) # reload help from: https://stackoverflow.com/questions/437589/how-do-i-unload-reload-a-python-module\n",
    "\n",
    "idx2soft_label = {example_idx: [] for example_idx in all_elicitation_per_example.keys()}\n",
    "\n",
    "include_top_2=True\n",
    "redist=\"clamp\"\n",
    "redist_level=0.1\n",
    "\n",
    "from scipy.stats import pearsonr\n",
    "import scipy.stats\n",
    "\n",
    "from scipy.special import rel_entr\n",
    "from scipy.stats import wasserstein_distance\n",
    "\n",
    "def mean_confidence_interval(data, confidence=0.95):\n",
    "    '''\n",
    "    Compute confidence interval \n",
    "    From: https://stackoverflow.com/questions/15033511/compute-a-confidence-interval-from-sample-data\n",
    "    '''\n",
    "\n",
    "    a = 1.0 * np.array(data)\n",
    "    n = len(a)\n",
    "    m, se = np.mean(a), scipy.stats.sem(a)\n",
    "    h = se * scipy.stats.t.ppf((1 + confidence) / 2., n-1)\n",
    "    return m, m-h, m+h\n",
    "\n",
    "# get diff b/w dists\n",
    "# rmse -- from: https://stackoverflow.com/questions/21926020/how-to-calculate-rmse-using-ipython-numpy \n",
    "# slight var name change for clarity only \n",
    "def get_rmse(v1, v2):\n",
    "    return np.sqrt(((v1 - v2) ** 2).mean())\n",
    "\n",
    "def get_l1(v1, v2):\n",
    "    return (np.abs(v1 - v2)).mean()\n",
    "\n",
    "def get_wassertstein(v1, v2): \n",
    "    return wasserstein_distance(v1, v2)\n",
    "\n",
    "M_sample=[1,2,3,4,5,6]\n",
    "for M in M_sample:\n",
    "    print(M)\n",
    "    dists = []\n",
    "    our_ents = []\n",
    "    cifar10h_ents = []\n",
    "    for example_idx, elic_data in all_elicitation_per_example.items():\n",
    "        soft_labels = []\n",
    "        for single_annotator_info in elic_data: \n",
    "            soft_label = utils.construct_elicited_soft_label(single_annotator_info, class2idx, include_top_2 = True, redist=\"clamp\",\n",
    "                            redist_factor=0.1, smooth_existing=True)\n",
    "            soft_labels.append(soft_label)\n",
    "        if M > len(soft_labels): M_samp = len(soft_labels)\n",
    "        else: M_samp=M\n",
    "        sel_idxs = np.random.choice(range(len(soft_labels)), M_samp, replace=False)\n",
    "        soft_labels = [soft_label for idx, soft_label in enumerate(soft_labels) if idx in sel_idxs]\n",
    "        our_label = np.mean(soft_labels,axis=0)\n",
    "        \n",
    "        cifar10h_label = cifar10h_data[example_idx]\n",
    "        dists.append(get_wassertstein(our_label, cifar10h_data[example_idx]))\n",
    "        cifar10h_ent = entropy(cifar10h_label)\n",
    "        our_ent = entropy(our_label)\n",
    "        our_ents.append(our_ent)\n",
    "        cifar10h_ents.append(cifar10h_ent)\n",
    "        \n",
    "    m_dist, lb_dist, ub_dist = mean_confidence_interval(dists)\n",
    "    ent_corr = pearsonr(our_ents, cifar10h_ents)[0]\n",
    "\n",
    "    print(f\"M = {M}, dist: {round(m_dist,3)} +/- {round(m_dist-lb_dist,3)}, ent corr: {round(ent_corr,3)}\") #{m_ent} +/- {m_ent-lb_ent}\")\n",
    "    \n",
    "\n",
    "M_sample = 1\n",
    "\n",
    "# for example_idx, elic_data in all_elicitation_per_example.items():\n",
    "#     soft_labels = []\n",
    "#     for single_annotator_info in elic_data: \n",
    "#         soft_label = utils.construct_elicited_soft_label(single_annotator_info, class2idx, include_top_2 = include_top_2, redist=redist,\n",
    "#                             redist_factor=redist_level, smooth_existing=True)\n",
    "#         soft_labels.append(soft_label)\n",
    "#     agg_label = np.mean(soft_labels,axis=0)\n",
    "#     idx2soft_label[example_idx] = agg_label\n",
    "    "
   ]
  },
  {
   "cell_type": "code",
   "execution_count": 33,
   "id": "64afbbde",
   "metadata": {},
   "outputs": [
    {
     "name": "stderr",
     "output_type": "stream",
     "text": [
      "/Users/kcollins/opt/anaconda3/lib/python3.8/site-packages/scipy/stats/stats.py:4023: PearsonRConstantInputWarning: An input array is constant; the correlation coefficient is not defined.\n",
      "  warnings.warn(PearsonRConstantInputWarning())\n"
     ]
    },
    {
     "name": "stdout",
     "output_type": "stream",
     "text": [
      "M = 1, dist: 0.05 +/- 0.0, ent corr: nan\n",
      "M = 2, dist: 0.04 +/- 0.0, ent corr: 0.39\n",
      "M = 3, dist: 0.03 +/- 0.0, ent corr: 0.46\n",
      "M = 4, dist: 0.03 +/- 0.0, ent corr: 0.57\n",
      "M = 8, dist: 0.02 +/- 0.0, ent corr: 0.73\n",
      "M = 16, dist: 0.01 +/- 0.0, ent corr: 0.84\n",
      "M = 32, dist: 0.01 +/- 0.0, ent corr: 0.95\n",
      "M = 42, dist: 0.0 +/- 0.0, ent corr: 0.98\n"
     ]
    }
   ],
   "source": [
    "# simulate samples from peterson\n",
    "M_sample=[1,2,3,4, 8, 16, 32, 42]\n",
    "for M in M_sample:\n",
    "    dists = []\n",
    "    sampled_ents = []\n",
    "    cifar10h_ents = []\n",
    "    for example_idx in all_elicitation_per_example.keys():\n",
    "        counts = cifar10h_counts[example_idx]\n",
    "        n_tot_annotators= np.sum(counts) \n",
    "        # check if we're subsampling (if -1, use all annotations)\n",
    "        if M != -1:\n",
    "            # extract the \"original\" annotators' labels (we know that they're just the hard labels)\n",
    "            # then sample from this\n",
    "            # note: hacky -- find other way to \"reverse engineer\" peterson labelers (alternative is weighted sampling, but this is \"safer\" to start)\n",
    "            annotator_labels = [] \n",
    "            for label_id, num_ann_pred in enumerate(counts):\n",
    "                for _ in range(num_ann_pred): \n",
    "                    annotator_label = np.zeros([num_classes])\n",
    "                    annotator_label[label_id] = 1.0\n",
    "                    annotator_labels.append(annotator_label)\n",
    "            # subsample and optionally aggregate if num_annotators_sample > 1 \n",
    "            sampled_annotator_idxs = np.random.choice(list(range(len(annotator_labels))), M, replace=False)\n",
    "            sampled_annotators = np.array(annotator_labels)[sampled_annotator_idxs]\n",
    "            sampled_label = np.mean(sampled_annotators, axis=0)\n",
    "        \n",
    "            cifar10h_label = cifar10h_data[example_idx]\n",
    "            dists.append(get_l1(sampled_label, cifar10h_data[example_idx]))\n",
    "            cifar10h_ent = entropy(cifar10h_label)\n",
    "            sampled_ent = entropy(sampled_label)\n",
    "            sampled_ents.append(sampled_ent)\n",
    "            cifar10h_ents.append(cifar10h_ent)\n",
    "        \n",
    "    m_dist, lb_dist, ub_dist = mean_confidence_interval(dists)\n",
    "    ent_corr = pearsonr(sampled_ents, cifar10h_ents)[0]\n",
    "\n",
    "    print(f\"M = {M}, dist: {round(m_dist,2)} +/- {round(m_dist-lb_dist,2)}, ent corr: {round(ent_corr,2)}\") #{m_ent} +/- {m_ent-lb_ent}\")\n",
    "\n",
    "    "
   ]
  },
  {
   "cell_type": "code",
   "execution_count": 21,
   "id": "4decc2fe",
   "metadata": {},
   "outputs": [
    {
     "data": {
      "text/plain": [
       "array([0, 2, 1])"
      ]
     },
     "execution_count": 21,
     "metadata": {},
     "output_type": "execute_result"
    }
   ],
   "source": [
    "sel_idxs"
   ]
  },
  {
   "cell_type": "code",
   "execution_count": 22,
   "id": "252fcf7e",
   "metadata": {},
   "outputs": [],
   "source": [
    "for example_idx, soft_label in idx2soft_label.items():\n",
    "    cifar10h_label = cifar10h_label"
   ]
  },
  {
   "cell_type": "code",
   "execution_count": 62,
   "id": "b67a6c50",
   "metadata": {
    "scrolled": true
   },
   "outputs": [
    {
     "name": "stdout",
     "output_type": "stream",
     "text": [
      "ZERO:  [0. 0. 0. 0. 0. 0. 0. 0. 0. 0.] ['Bird', 'Truck', 'Cat', 'Ship', 'Deer', 'Airplane', 'Horse', 'Dog', 'Frog']\n",
      "{'Most Probable Class': 'Dog', 'Most Probable Class Prob': 85.0, 'Second Most Probable Class': 'Horse', 'Second Most Probable Class Prob': 10.0, 'Impossible Class(es)': ['Bird', 'Truck', 'Ship', 'Airplane', 'Automobile', 'Frog']}\n",
      "{'Most Probable Class': 'Truck', 'Most Probable Class Prob': 60.0, 'Second Most Probable Class': 'Automobile', 'Second Most Probable Class Prob': 40.0, 'Impossible Class(es)': ['Bird', 'Ship', 'Cat', 'Deer', 'Airplane', 'Horse', 'Dog', 'Frog']}\n",
      "{'Most Probable Class': 'Frog', 'Most Probable Class Prob': 80.0, 'Second Most Probable Class': 'Deer', 'Second Most Probable Class Prob': 20.0, 'Impossible Class(es)': ['Truck', 'Ship', 'Airplane']}\n",
      "{'Most Probable Class': 'Frog', 'Most Probable Class Prob': 65.0, 'Second Most Probable Class': 'Cat', 'Second Most Probable Class Prob': 35.0, 'Impossible Class(es)': ['Bird', 'Truck', 'Ship', 'Airplane', 'Automobile', 'Horse']}\n",
      "{'Most Probable Class': 'Frog', 'Most Probable Class Prob': 75.0, 'Second Most Probable Class': 'Bird', 'Second Most Probable Class Prob': 15.0, 'Impossible Class(es)': ['Truck', 'Ship', 'Deer', 'Airplane', 'Automobile', 'Horse']}\n",
      "{'Most Probable Class': 'Deer', 'Most Probable Class Prob': 90.0, 'Second Most Probable Class': 'Horse', 'Second Most Probable Class Prob': 10.0, 'Impossible Class(es)': ['Bird', 'Ship', 'Truck', 'Airplane', 'Automobile', 'Frog']}\n",
      "{'Most Probable Class': 'Dog', 'Most Probable Class Prob': 60.0, 'Second Most Probable Class': 'Horse', 'Second Most Probable Class Prob': 5.0, 'Impossible Class(es)': ['Ship', 'Truck', 'Airplane', 'Automobile', 'Frog']}\n",
      "{'Most Probable Class': 'Dog', 'Most Probable Class Prob': 40.0, 'Second Most Probable Class': 'Deer', 'Second Most Probable Class Prob': 35.0, 'Impossible Class(es)': ['Bird', 'Ship', 'Truck', 'Airplane', 'Automobile', 'Frog']}\n"
     ]
    },
    {
     "data": {
      "text/plain": [
       "Text(0, 0.5, 'Counts of Images')"
      ]
     },
     "execution_count": 62,
     "metadata": {},
     "output_type": "execute_result"
    },
    {
     "data": {
      "image/png": "[encoded data removed]",
      "text/plain": [
       "<Figure size 432x288 with 1 Axes>"
      ]
     },
     "metadata": {
      "needs_background": "light"
     },
     "output_type": "display_data"
    }
   ],
   "source": [
    "importlib.reload(utils) # reload help from: https://stackoverflow.com/questions/437589/how-do-i-unload-reload-a-python-module\n",
    "\n",
    "from scipy.special import rel_entr\n",
    "from scipy.stats import wasserstein_distance\n",
    "\n",
    "# get diff b/w dists\n",
    "# rmse -- from: https://stackoverflow.com/questions/21926020/how-to-calculate-rmse-using-ipython-numpy \n",
    "# slight var name change for clarity only \n",
    "def get_rmse(v1, v2):\n",
    "    return np.sqrt(((v1 - v2) ** 2).mean())\n",
    "\n",
    "def get_l1(v1, v2):\n",
    "    return (np.abs(v1 - v2)).mean()\n",
    "\n",
    "def get_wassertstein(v1, v2): \n",
    "    return wasserstein_distance(v1, v2)\n",
    "\n",
    "include_top_2=True\n",
    "redist=\"clamp\"\n",
    "redist_level=0.1\n",
    "\n",
    "# kl divergence help from: https://www.statology.org/kl-divergence-python/\n",
    "div_data = []\n",
    "diff_data = []\n",
    "cifar10h_ents = []\n",
    "our_ents = []\n",
    "equiv = set()\n",
    "example_idxs_ordered = []\n",
    "\n",
    "soft_labels_per = {example_idx: [] for example_idx in all_elicitation_per_example.keys()}\n",
    "for example_idx, elic_data in all_elicitation_per_example.items():\n",
    "    soft_labels = []\n",
    "    neg_val = False\n",
    "    for single_annotator_info in elic_data: \n",
    "#         soft_label = utils.construct_elicited_soft_label(single_annotator_info, class2idx, include_top_2 = True, redist=\"clamp\",\n",
    "#                             redist_factor=0.1, smooth_existing=True)\n",
    "        soft_label = utils.construct_elicited_soft_label(single_annotator_info, class2idx, include_top_2 = include_top_2,\n",
    "                                                         redist=redist,\n",
    "                            redist_factor=redist_level, smooth_existing=False)\n",
    "        if example_idx == 8153: print(single_annotator_info)\n",
    "        soft_labels.append(soft_label)\n",
    "        if np.any(np.array(soft_label) < 0):\n",
    "            print(single_annotator_info)\n",
    "            print(example_idx)\n",
    "            neg_val = True\n",
    "            break\n",
    "        soft_labels_per[example_idx].append(soft_label)\n",
    "    agg_label = np.mean(soft_labels,axis=0)\n",
    "    idx2soft_label[example_idx] = agg_label\n",
    "#     if neg_val == True: break\n",
    "\n",
    "dist_measure = get_wassertstein#get_l1\n",
    "\n",
    "for example_idx, our_label in idx2soft_label.items(): \n",
    "    cifar10h_label = cifar10h_data[example_idx]\n",
    "    if np.all(cifar10h_label == our_label): equiv.add(example_idx)#, unc_label)\n",
    "    div = sum(rel_entr(cifar10h_label, our_label))\n",
    "    div_data.append((div,example_idx))\n",
    "    dist_val = dist_measure(cifar10h_label, our_label)\n",
    "    diff_data.append((dist_val, example_idx))\n",
    "    cifar10h_ent = entropy(cifar10h_label)\n",
    "    cifar10h_ents.append(entropy(cifar10h_label))\n",
    "    our_ent = entropy(our_label)\n",
    "    our_ents.append(our_ent)\n",
    "    example_idxs_ordered.append(example_idx)\n",
    "    \n",
    "    if dist_val > 0.1 and our_ent > 0.3 and cifar10h_ent < 0.3:\n",
    "        if len(soft_labels_per[example_idx]) <= 3: print(example_idx)\n",
    "    \n",
    "cifar10h_ents=np.array(cifar10h_ents)\n",
    "our_ents=np.array(our_ents)\n",
    "example_idxs_ordered=np.array(example_idxs_ordered)\n",
    "diffs = [x[0] for x in diff_data]\n",
    "plt.hist(diffs, bins=20)    \n",
    "plt.xlabel(\"Distance (B/w Our Labels and CIFAR10H)\", fontsize=15)\n",
    "plt.ylabel(\"Counts of Images\", fontsize=15)"
   ]
  },
  {
   "cell_type": "code",
   "execution_count": 49,
   "id": "04dc878f",
   "metadata": {},
   "outputs": [
    {
     "data": {
      "text/plain": [
       "False"
      ]
     },
     "execution_count": 49,
     "metadata": {},
     "output_type": "execute_result"
    }
   ],
   "source": [
    "neg_val"
   ]
  },
  {
   "cell_type": "code",
   "execution_count": 63,
   "id": "43ebae53",
   "metadata": {},
   "outputs": [
    {
     "data": {
      "text/plain": [
       "(array([ 0.        ,  0.        ,  1.66666667, 70.30032468,  2.8030303 ,\n",
       "        21.47997835,  3.125     ,  0.625     ,  0.        ,  0.        ]),\n",
       " array([ 0.        ,  0.        ,  5.88235294, 78.43137255,  0.        ,\n",
       "        13.7254902 ,  1.96078431,  0.        ,  0.        ,  0.        ]),\n",
       " 'cifar10_train_7736_Cat.png')"
      ]
     },
     "execution_count": 63,
     "metadata": {},
     "output_type": "execute_result"
    }
   ],
   "source": [
    "'''\n",
    "Example ent diff (low/high): cifar10_train_3320_Bird.png, cifar10_train_6995_Automobile.png\n",
    "Example high ent: 'cifar10_train_8153_Deer.png'\n",
    "Diff high ent: 'cifar10_train_9555_Deer.png'\n",
    "Similar high ent: cifar10_train_8545_Frog.png\n",
    "High diff: cifar10_train_4701_Airplane, 6897, (bird or plane) 5302, \n",
    "similar: cifar10_train_1453_Dog, cifar10_train_2442_Deer (**), cifar10_train_412_Cat\n",
    "cifar10_train_3774_Dog\n",
    "diff: cifar10_train_2010_Horse (**)\n",
    "converge!! cifar10_train_7736_Cat, (sort of) cifar10_train_8357_Airplane.png\n",
    "\n",
    "\n",
    "example diff: cifar10_train_5437_Airplane\n",
    "example diff: cifar10_train_5302_Airplane (**)\n",
    "cifar10_train_3650_Airplane (**)\n",
    "cifar10_train_2061_Dog (**)\n",
    "cifar10_train_6897_Truck (**)\n",
    "cifar10_train_861_Frog (**)\n",
    "cifar10_train_6849_Deer (noisy case?)\n",
    "cifar10_train_4701_Airplane (**)\n",
    "\n",
    "2047***, cifar10_train_9681_Bird***\n",
    "\n",
    "3238***\n",
    "\n",
    "in fig: 6995, 8545, 8153\n",
    "\n",
    "'''\n",
    "idx= 7736\n",
    "\n",
    "idx2soft_label[idx]*100, cifar10h_data[idx]*100, example_idx2filename[idx]"
   ]
  },
  {
   "cell_type": "code",
   "execution_count": 65,
   "id": "8a729720",
   "metadata": {},
   "outputs": [
    {
     "name": "stdout",
     "output_type": "stream",
     "text": [
      "[ 0.  0.  0. 70.  0. 30.  0.  0.  0.  0.]\n",
      "[ 0.  0.  0. 70.  0. 30.  0.  0.  0.  0.]\n",
      "[ 0.          0.          8.33333333 55.          8.33333333  8.33333333\n",
      " 20.          0.          0.          0.        ]\n",
      "[ 0.  0.  5. 70.  5. 10.  5.  5.  0.  0.]\n",
      "[ 0.          0.          0.         86.36363636  9.09090909  4.54545455\n",
      "  0.          0.          0.          0.        ]\n",
      "[  0.   0.   0. 100.   0.   0.   0.   0.   0.   0.]\n",
      "[ 0.          0.          0.         42.85714286  0.         57.14285714\n",
      "  0.          0.          0.          0.        ]\n",
      "[ 0.          0.          0.         68.18181818  0.         31.81818182\n",
      "  0.          0.          0.          0.        ]\n"
     ]
    }
   ],
   "source": [
    "for soft_label in soft_labels_per[idx]: \n",
    "    print(np.array(soft_label) * 100)"
   ]
  },
  {
   "cell_type": "code",
   "execution_count": 162,
   "id": "e36e2e59",
   "metadata": {},
   "outputs": [
    {
     "data": {
      "text/plain": [
       "({'Most Probable Class': 'Ship',\n",
       "  'Most Probable Class Prob': 40.0,\n",
       "  'Second Most Probable Class': 'Frog',\n",
       "  'Second Most Probable Class Prob': 60.0,\n",
       "  'Impossible Class(es)': ['Horse',\n",
       "   'Automobile',\n",
       "   'Dog',\n",
       "   'Deer',\n",
       "   'Airplane',\n",
       "   'Truck',\n",
       "   'Bird',\n",
       "   'Cat']},\n",
       " array([0. , 0. , 0. , 0. , 0. , 0. , 0.6, 0. , 0.4, 0. ]))"
      ]
     },
     "execution_count": 162,
     "metadata": {},
     "output_type": "execute_result"
    }
   ],
   "source": [
    "# importlib.reload(utils) # reload help from: https://stackoverflow.com/questions/437589/how-do-i-unload-reload-a-python-module\n",
    "\n",
    "# soft_label = utils.construct_elicited_soft_label(single_annotator_info, class2idx, include_top_2 = True, redist=\"clamp\",\n",
    "#                             redist_factor=0.1, smooth_existing=True)\n",
    "# single_annotator_info, soft_label"
   ]
  },
  {
   "cell_type": "code",
   "execution_count": 205,
   "id": "9f8e1f79",
   "metadata": {},
   "outputs": [
    {
     "data": {
      "text/plain": [
       "{'Most Probable Class': 'Automobile',\n",
       " 'Most Probable Class Prob': 60.0,\n",
       " 'Second Most Probable Class': 'Truck',\n",
       " 'Second Most Probable Class Prob': 40.0,\n",
       " 'Impossible Class(es)': ['Horse',\n",
       "  'Dog',\n",
       "  'Deer',\n",
       "  'Airplane',\n",
       "  'Frog',\n",
       "  'Bird',\n",
       "  'Cat',\n",
       "  'Ship']}"
      ]
     },
     "execution_count": 205,
     "metadata": {},
     "output_type": "execute_result"
    }
   ],
   "source": [
    "single_annotator_info"
   ]
  },
  {
   "cell_type": "code",
   "execution_count": 176,
   "id": "7afa2bf0",
   "metadata": {},
   "outputs": [
    {
     "data": {
      "text/plain": [
       "(array([ 0.        ,  0.        ,  3.51190476, 82.61904762,  3.51190476,\n",
       "         5.41666667,  3.51190476,  1.42857143,  0.        ,  0.        ]),\n",
       " array([ 0.        ,  0.        ,  1.72413793, 75.86206897,  0.        ,\n",
       "        20.68965517,  1.72413793,  0.        ,  0.        ,  0.        ]),\n",
       " 'cifar10_train_1871_Cat.png')"
      ]
     },
     "execution_count": 176,
     "metadata": {},
     "output_type": "execute_result"
    }
   ],
   "source": []
  },
  {
   "cell_type": "code",
   "execution_count": 42,
   "id": "c06045a3",
   "metadata": {},
   "outputs": [
    {
     "data": {
      "text/plain": [
       "[array([0.        , 0.        , 0.        , 0.        , 0.90909091,\n",
       "        0.        , 0.        , 0.09090909, 0.        , 0.        ]),\n",
       " array([0.14285714, 0.        , 0.14285714, 0.        , 0.14285714,\n",
       "        0.        , 0.14285714, 0.14285714, 0.14285714, 0.14285714]),\n",
       " array([0.125, 0.125, 0.125, 0.125, 0.125, 0.   , 0.   , 0.125, 0.125,\n",
       "        0.125]),\n",
       " array([0. , 0. , 0. , 0.5, 0. , 0.5, 0. , 0. , 0. , 0. ])]"
      ]
     },
     "execution_count": 42,
     "metadata": {},
     "output_type": "execute_result"
    }
   ],
   "source": [
    "soft_labels_per[2047]"
   ]
  },
  {
   "cell_type": "code",
   "execution_count": 42,
   "id": "05e8b955",
   "metadata": {},
   "outputs": [
    {
     "data": {
      "text/plain": [
       "[(0.1291176470588235, 2047),\n",
       " (0.1230035650623886, 861),\n",
       " (0.1135142401458191, 9681),\n",
       " (0.10772222222222222, 6965),\n",
       " (0.10374768089053803, 4066),\n",
       " (0.10258158508158507, 4701),\n",
       " (0.10074153297682709, 1304),\n",
       " (0.09822727272727272, 7041),\n",
       " (0.09775510204081633, 6897),\n",
       " (0.0960546642899584, 3315),\n",
       " (0.09558641358641357, 8493),\n",
       " (0.09333333333333332, 5645),\n",
       " (0.09303846153846154, 6502),\n",
       " (0.09290710878946172, 5963),\n",
       " (0.09201907790143082, 3321),\n",
       " (0.09107812822098535, 793),\n",
       " (0.09041710555189819, 2613),\n",
       " (0.09013018843901195, 5389),\n",
       " (0.089713182242594, 3238),\n",
       " (0.08843156843156841, 5786),\n",
       " (0.08824175824175823, 6180),\n",
       " (0.08817455601769326, 3707),\n",
       " (0.08763076923076922, 5629),\n",
       " (0.08612745098039215, 1302),\n",
       " (0.0847272727272727, 5207),\n",
       " (0.08461538461538459, 8984),\n",
       " (0.08337535014005601, 9840),\n",
       " (0.08318367346938776, 7874),\n",
       " (0.08160345853607309, 5890),\n",
       " (0.08139956595129008, 5659),\n",
       " (0.08109427609427611, 5931),\n",
       " (0.08039215686274509, 7827),\n",
       " (0.0798663101604278, 4097),\n",
       " (0.07832034632034632, 3650),\n",
       " (0.07831105169340465, 3343),\n",
       " (0.07830303030303032, 7537),\n",
       " (0.07824242424242422, 237),\n",
       " (0.07769104579630894, 6258),\n",
       " (0.07745068387715445, 3557),\n",
       " (0.0774090909090909, 6849),\n",
       " (0.07699465240641712, 6853),\n",
       " (0.07584171122994651, 9529),\n",
       " (0.07429233511586453, 5414),\n",
       " (0.07407264957264956, 5071),\n",
       " (0.07403567021214078, 2496),\n",
       " (0.07378205128205129, 547),\n",
       " (0.07310520167663023, 2943),\n",
       " (0.07287336157818083, 324),\n",
       " (0.07248751248751248, 5563),\n",
       " (0.07223543123543123, 5302),\n",
       " (0.0720550038197097, 5283),\n",
       " (0.07175, 6631),\n",
       " (0.07112205441617206, 9384),\n",
       " (0.07108283313325328, 8958),\n",
       " (0.07090986790986789, 465),\n",
       " (0.07065775401069518, 74),\n",
       " (0.07001426024955437, 6434),\n",
       " (0.06987945387945388, 8637),\n",
       " (0.06954463775218492, 2222),\n",
       " (0.06900099900099899, 4709),\n",
       " (0.06893772893772893, 8318),\n",
       " (0.06879521791563968, 1518),\n",
       " (0.06832436408906997, 7032),\n",
       " (0.06807199935432483, 485),\n",
       " (0.06793939393939394, 5649),\n",
       " (0.06698529411764703, 1962),\n",
       " (0.06685922772879294, 6647),\n",
       " (0.06681456306886988, 863),\n",
       " (0.06593837535014005, 8173),\n",
       " (0.06574638467827323, 5733),\n",
       " (0.06526841579473158, 2540),\n",
       " (0.06471698113207547, 7906),\n",
       " (0.06466259230965112, 1628),\n",
       " (0.06435528756957329, 3914),\n",
       " (0.06431890331890333, 4545),\n",
       " (0.0642651515151515, 2482),\n",
       " (0.06424836601307188, 8354),\n",
       " (0.06421645021645023, 31),\n",
       " (0.06371348076981176, 6903),\n",
       " (0.06349999999999999, 6954),\n",
       " (0.06343589743589742, 2129),\n",
       " (0.06335565237330887, 6118),\n",
       " (0.06324242424242424, 8168),\n",
       " (0.06310764188373297, 346),\n",
       " (0.06235706962210719, 1003),\n",
       " (0.06210338680926914, 4002),\n",
       " (0.061991341991341986, 4639),\n",
       " (0.061988344988345004, 5469),\n",
       " (0.0615997335997336, 928),\n",
       " (0.061419552669552666, 4643),\n",
       " (0.06127767470624612, 6339),\n",
       " (0.06094155844155845, 151),\n",
       " (0.06069696969696969, 8804),\n",
       " (0.06055849056603772, 3307),\n",
       " (0.060342394533570994, 3910),\n",
       " (0.06002648332060097, 223),\n",
       " (0.05991341991341992, 2077),\n",
       " (0.059420944135229845, 2310),\n",
       " (0.05939393939393939, 6995),\n",
       " (0.05938057594579333, 3097),\n",
       " (0.05904931669637552, 9255),\n",
       " (0.058967223252937524, 1211),\n",
       " (0.05861768950004244, 1827),\n",
       " (0.05849999999999999, 5625),\n",
       " (0.057997655366076414, 4904),\n",
       " (0.05794486527496235, 9776),\n",
       " (0.0577947542653425, 9361),\n",
       " (0.05767094017094017, 9039),\n",
       " (0.05761990418512157, 1897),\n",
       " (0.05739606898477867, 7608),\n",
       " (0.057221269296740984, 2329),\n",
       " (0.05697727272727271, 7509),\n",
       " (0.056681818181818194, 9571),\n",
       " (0.0566470588235294, 1368),\n",
       " (0.056301577870205316, 6249),\n",
       " (0.056269064269064265, 953),\n",
       " (0.05625774437539143, 3697),\n",
       " (0.05610132724418436, 9593),\n",
       " (0.05579487179487179, 3863),\n",
       " (0.05570613700025465, 982),\n",
       " (0.05551909184726522, 4452),\n",
       " (0.055448603683897785, 2594),\n",
       " (0.055412953060011885, 3452),\n",
       " (0.05477940686764217, 5511),\n",
       " (0.054762626262626256, 1906),\n",
       " (0.054721568627450985, 1350),\n",
       " (0.05461363636363635, 284),\n",
       " (0.05450649350649352, 2066),\n",
       " (0.054124183006535945, 2061),\n",
       " (0.0536938775510204, 9099),\n",
       " (0.05336363636363636, 2688),\n",
       " (0.05333333333333333, 2584),\n",
       " (0.05312834224598931, 1924),\n",
       " (0.052925278219395876, 9981),\n",
       " (0.05275912470251257, 9934),\n",
       " (0.05237938596491228, 4414),\n",
       " (0.05214085634253702, 7939),\n",
       " (0.051594362745098044, 2324),\n",
       " (0.05152680652680651, 7866),\n",
       " (0.051233918128654965, 5532),\n",
       " (0.05112849414736208, 441),\n",
       " (0.051008039579468145, 1492),\n",
       " (0.0509220779220779, 6851),\n",
       " (0.050700123406005757, 7730),\n",
       " (0.05056235431235432, 480),\n",
       " (0.05052525252525252, 3211),\n",
       " (0.050338468720821664, 6202),\n",
       " (0.05033797729618162, 7481),\n",
       " (0.0500578743894252, 6596),\n",
       " (0.04990909090909089, 213),\n",
       " (0.04973407544836117, 1181),\n",
       " (0.04968831168831168, 9029),\n",
       " (0.04944949494949496, 2415),\n",
       " (0.04934065934065934, 4661),\n",
       " (0.04933155080213904, 9123),\n",
       " (0.04914321230884697, 3491),\n",
       " (0.04908072319837025, 9216),\n",
       " (0.049039365806607185, 6825),\n",
       " (0.04889146567717997, 5339),\n",
       " (0.04875624375624376, 1730),\n",
       " (0.04853977954818289, 0),\n",
       " (0.04852465834818774, 9036),\n",
       " (0.048417366946778714, 5910),\n",
       " (0.04823948022942996, 6983),\n",
       " (0.0480871459694989, 8694),\n",
       " (0.048044947971418575, 5030),\n",
       " (0.04780882352941178, 3113),\n",
       " (0.047777560785079595, 6162),\n",
       " (0.047435897435897434, 7720),\n",
       " (0.04737191240132418, 1858),\n",
       " (0.04708874458874458, 3091),\n",
       " (0.04703296703296703, 4941),\n",
       " (0.046903662375360484, 3053),\n",
       " (0.046778023146444185, 7709),\n",
       " (0.04674496548880784, 9095),\n",
       " (0.046620823620823634, 8667),\n",
       " (0.04662004662004662, 6028),\n",
       " (0.04647596412302295, 4832),\n",
       " (0.046470711168479915, 5986),\n",
       " (0.046452690166975855, 8324),\n",
       " (0.04608808674985145, 1167),\n",
       " (0.046027878683941106, 9919),\n",
       " (0.04573083778966132, 4810),\n",
       " (0.04536412643959813, 8872),\n",
       " (0.04524242424242424, 5994),\n",
       " (0.04518181818181819, 6270),\n",
       " (0.04517188693659282, 9949),\n",
       " (0.04501298701298699, 6174),\n",
       " (0.044945054945054956, 6157),\n",
       " (0.044645920117618226, 2708),\n",
       " (0.04459647495361781, 7545),\n",
       " (0.04454619019324901, 2018),\n",
       " (0.04433566433566433, 2299),\n",
       " (0.04423376623376623, 1837),\n",
       " (0.04416611636950618, 2762),\n",
       " (0.0440686274509804, 2738),\n",
       " (0.04392207792207792, 6088),\n",
       " (0.043721033868092694, 9643),\n",
       " (0.04349038774845226, 4346),\n",
       " (0.04317948717948717, 8162),\n",
       " (0.04312033377250769, 5239),\n",
       " (0.043063725490196075, 6151),\n",
       " (0.04281008646525888, 5694),\n",
       " (0.042647058823529406, 3556),\n",
       " (0.04263806005493984, 1364),\n",
       " (0.04259740259740258, 4617),\n",
       " (0.042573167573167564, 63),\n",
       " (0.04246753246753246, 3962),\n",
       " (0.04219602030535534, 5876),\n",
       " (0.04219047619047619, 9262),\n",
       " (0.042095514080801935, 3593),\n",
       " (0.04191898389526127, 9535),\n",
       " (0.04185383244206772, 4550),\n",
       " (0.04165622612681435, 8481),\n",
       " (0.04141862805728351, 9277),\n",
       " (0.04123191094619665, 5732),\n",
       " (0.0410409982174688, 2380),\n",
       " (0.0407843137254902, 1325),\n",
       " (0.040729423082364255, 645),\n",
       " (0.04072727272727273, 2081),\n",
       " (0.04062165775401071, 8348),\n",
       " (0.04039393939393939, 3012),\n",
       " (0.040132416603004845, 8241),\n",
       " (0.03985849056603774, 8725),\n",
       " (0.039856437267526384, 997),\n",
       " (0.039763905562224894, 117),\n",
       " (0.03972727272727272, 3956),\n",
       " (0.03969542362399506, 2533),\n",
       " (0.0395295831619361, 5167),\n",
       " (0.039509126351231605, 5844),\n",
       " (0.0392222222222222, 787),\n",
       " (0.038942279942279945, 5415),\n",
       " (0.03850775874688918, 1765),\n",
       " (0.03829411764705881, 6308),\n",
       " (0.038129870129870125, 2580),\n",
       " (0.03812710437710437, 811),\n",
       " (0.038045454545454535, 2826),\n",
       " (0.038030303030303025, 8514),\n",
       " (0.0380250686133039, 4952),\n",
       " (0.03801426024955438, 4315),\n",
       " (0.03798323369751941, 7106),\n",
       " (0.0379798761609907, 6826),\n",
       " (0.03762037037037037, 8800),\n",
       " (0.03752280569671874, 853),\n",
       " (0.037412783295136226, 8316),\n",
       " (0.03727272727272726, 4302),\n",
       " (0.03727272727272726, 1260),\n",
       " (0.03708080361331137, 2995),\n",
       " (0.0369532951520529, 640),\n",
       " (0.036939428201222826, 4717),\n",
       " (0.03691142191142192, 6822),\n",
       " (0.0368440082032315, 4864),\n",
       " (0.03680213903743315, 4220),\n",
       " (0.036704545454545455, 1723),\n",
       " (0.03655303030303031, 7109),\n",
       " (0.03645021645021644, 7839),\n",
       " (0.03643428907861897, 5426),\n",
       " (0.03631185807656394, 9968),\n",
       " (0.03606806358907199, 5227),\n",
       " (0.035964945016669136, 1732),\n",
       " (0.03593434343434343, 7637),\n",
       " (0.03588175876411171, 47),\n",
       " (0.035808080808080824, 6401),\n",
       " (0.035666925666925656, 4306),\n",
       " (0.03557635175282234, 3041),\n",
       " (0.035550947651788005, 6994),\n",
       " (0.03551141364136414, 3158),\n",
       " (0.03522298456260721, 5919),\n",
       " (0.035204281712685054, 1545),\n",
       " (0.03519047619047619, 3444),\n",
       " (0.03502564102564101, 1539),\n",
       " (0.03493506493506493, 218),\n",
       " (0.03488930117501546, 6477),\n",
       " (0.03487522281639929, 2267),\n",
       " (0.0348030303030303, 6197),\n",
       " (0.03477466977466977, 9967),\n",
       " (0.03473985134362492, 7843),\n",
       " (0.03459990989402755, 1590),\n",
       " (0.034588401016972456, 9161),\n",
       " (0.03452747252747253, 8635),\n",
       " (0.0345064935064935, 1394),\n",
       " (0.03442424242424243, 9465),\n",
       " (0.03430458430458431, 7040),\n",
       " (0.03426497871876022, 6419),\n",
       " (0.034159812409812404, 8633),\n",
       " (0.034158390628978866, 6161),\n",
       " (0.033975044563279856, 1633),\n",
       " (0.033836163836163835, 1401),\n",
       " (0.03382897803950434, 9448),\n",
       " (0.03365634365634364, 4599),\n",
       " (0.03359492888064315, 3716),\n",
       " (0.03355631789594053, 2961),\n",
       " (0.033547826897749405, 3128),\n",
       " (0.033380952380952386, 8072),\n",
       " (0.0333807486631016, 4301),\n",
       " (0.0332059052059052, 6087),\n",
       " (0.03315829453565303, 2511),\n",
       " (0.03309090909090909, 7619),\n",
       " (0.0330388337153043, 2900),\n",
       " (0.03303280053280053, 1247),\n",
       " (0.03292540792540792, 9034),\n",
       " (0.03277220077220078, 9525),\n",
       " (0.03276168276168276, 1128),\n",
       " (0.03275572047000618, 6204),\n",
       " (0.03267613636363636, 3357),\n",
       " (0.03266935542740346, 4436),\n",
       " (0.032665393430099304, 2987),\n",
       " (0.032545083184789075, 3164),\n",
       " (0.03245084654788158, 4624),\n",
       " (0.032374727668845305, 5717),\n",
       " (0.03232392894461858, 3853),\n",
       " (0.032118639222412815, 6063),\n",
       " (0.032070570938495475, 6418),\n",
       " (0.03200680272108844, 4555),\n",
       " (0.03179220779220779, 9962),\n",
       " (0.031734265734265736, 7347),\n",
       " (0.03172323740817082, 3276),\n",
       " (0.031704545454545444, 6594),\n",
       " (0.031625000000000014, 5721),\n",
       " (0.03130303030303032, 5690),\n",
       " (0.031078431372549026, 6042),\n",
       " (0.031066391679599237, 7172),\n",
       " (0.03088311688311687, 9995),\n",
       " (0.03071548821548821, 5809),\n",
       " (0.03064102564102565, 7589),\n",
       " (0.030615384615384593, 4012),\n",
       " (0.030559440559440543, 9483),\n",
       " (0.03053787878787878, 1001),\n",
       " (0.03050510204081633, 3336),\n",
       " (0.030107030900134356, 1871),\n",
       " (0.0301038961038961, 1373),\n",
       " (0.030066790352504646, 9997),\n",
       " (0.030060606060606072, 8014),\n",
       " (0.030053475935828872, 3442),\n",
       " (0.030033104150751198, 9350),\n",
       " (0.029917582417582425, 1500),\n",
       " (0.029916666666666668, 2362),\n",
       " (0.02982539682539682, 287),\n",
       " (0.02979590017825312, 3668),\n",
       " (0.029722334378429666, 7444),\n",
       " (0.029566893424036275, 7005),\n",
       " (0.029542346542346533, 3399),\n",
       " (0.029529630033831723, 718),\n",
       " (0.029527629233511585, 1408),\n",
       " (0.029524697342580848, 4743),\n",
       " (0.029441776710684278, 3231),\n",
       " (0.02907563025210084, 8944),\n",
       " (0.0290323402088108, 5985),\n",
       " (0.02902377622377622, 7974),\n",
       " (0.02884978229317852, 4055),\n",
       " (0.028849056603773578, 7312),\n",
       " (0.028814756671899536, 1644),\n",
       " (0.028793586400077273, 5586),\n",
       " (0.028770871985157685, 8850),\n",
       " (0.028769325912183067, 4585),\n",
       " (0.02873840445269016, 9528),\n",
       " (0.028720465118624566, 1227),\n",
       " (0.02866666666666667, 4119),\n",
       " (0.02859326018808777, 3463),\n",
       " (0.028571428571428574, 9430),\n",
       " (0.028473304473304477, 4699),\n",
       " (0.028284313725490205, 3390),\n",
       " (0.028282828282828278, 3838),\n",
       " (0.028056848811565786, 357),\n",
       " (0.02804040404040404, 1300),\n",
       " (0.028000000000000008, 1134),\n",
       " (0.02798351158645277, 9606),\n",
       " (0.02787412587412586, 4921),\n",
       " (0.027720137005851297, 6848),\n",
       " (0.027662337662337652, 9755),\n",
       " (0.027659932659932652, 4606),\n",
       " (0.02762809917355371, 2521),\n",
       " (0.027602397602397605, 2175),\n",
       " (0.02758294428882664, 6802),\n",
       " (0.027560606060606067, 4648),\n",
       " (0.027459843354912184, 7344),\n",
       " (0.02745098039215686, 9369),\n",
       " (0.027391138273491204, 2643),\n",
       " (0.02725557461406517, 6966),\n",
       " (0.027222222222222234, 2825),\n",
       " (0.02720098039215686, 5871),\n",
       " (0.02718081918081918, 5488),\n",
       " (0.027180153180153176, 2157),\n",
       " (0.02716017316017316, 5266),\n",
       " (0.02708585858585859, 8166),\n",
       " (0.026840909090909082, 8153),\n",
       " (0.026597402597402606, 923),\n",
       " (0.026596626643796438, 4559),\n",
       " (0.026568270944741523, 121),\n",
       " (0.02652944539736992, 6334),\n",
       " (0.026521044992743097, 7325),\n",
       " (0.02651477507999247, 7702),\n",
       " (0.026454545454545456, 9393),\n",
       " (0.026426136363636363, 3890),\n",
       " (0.026284913965586243, 6856),\n",
       " (0.026196807532457973, 5856),\n",
       " (0.026155844155844148, 8029),\n",
       " (0.02611711711711711, 5857),\n",
       " (0.026000000000000002, 9024),\n",
       " (0.02591595036680227, 2810),\n",
       " (0.025888111888111902, 9189),\n",
       " (0.025835497835497837, 9692),\n",
       " (0.02576923076923076, 8606),\n",
       " (0.025714285714285724, 7463),\n",
       " (0.02566895849248791, 1462),\n",
       " (0.0256474286887828, 2112),\n",
       " (0.025585858585858587, 3558),\n",
       " (0.02551515151515151, 5307),\n",
       " (0.025500000000000002, 8058),\n",
       " (0.025468975468975467, 9832),\n",
       " (0.02537485970819304, 8861),\n",
       " (0.025245098039215683, 1506),\n",
       " (0.02516339869281046, 7855),\n",
       " (0.02511836734693878, 3637),\n",
       " (0.02508066933066933, 2811),\n",
       " (0.0250592885375494, 6306),\n",
       " (0.02505347593582888, 849),\n",
       " (0.025042618540954804, 9678),\n",
       " (0.025040249826509355, 8647),\n",
       " (0.025, 1392),\n",
       " (0.024910618792971736, 9114),\n",
       " (0.024860139860139848, 9186),\n",
       " (0.024833333333333336, 6873),\n",
       " (0.024744548286604336, 3493),\n",
       " (0.02471451355661882, 7496),\n",
       " (0.024681818181818183, 5421),\n",
       " (0.02467532467532467, 2928),\n",
       " (0.024629870129870134, 8020),\n",
       " (0.024606060606060604, 2463),\n",
       " (0.024604205318491026, 8056),\n",
       " (0.024553030303030306, 9753),\n",
       " (0.024505494505494513, 8260),\n",
       " (0.02445750017178589, 9450),\n",
       " (0.02444155844155845, 9464),\n",
       " (0.024393382352941192, 3299),\n",
       " (0.024341729108362662, 5477),\n",
       " (0.024333333333333335, 7413),\n",
       " (0.024285714285714292, 6726),\n",
       " (0.024242424242424242, 603),\n",
       " (0.024222015551938834, 5991),\n",
       " (0.024219114219114213, 689),\n",
       " (0.024147591538895875, 2523),\n",
       " (0.024000000000000007, 3120),\n",
       " (0.023983704974271013, 3799),\n",
       " (0.023946053946053928, 3222),\n",
       " (0.023846970205112977, 2493),\n",
       " (0.023822843822843817, 370),\n",
       " (0.023718861783377915, 1334),\n",
       " (0.02352941176470588, 4108),\n",
       " (0.023355332031802623, 3364),\n",
       " (0.023321195144724558, 1241),\n",
       " (0.02330022918258212, 8351),\n",
       " (0.023193473193473188, 6488),\n",
       " (0.023005565862708723, 1496),\n",
       " (0.022935064935064926, 2722),\n",
       " (0.022927226226458958, 5158),\n",
       " (0.02291919191919191, 5437),\n",
       " (0.022878787878787887, 8759),\n",
       " (0.022831533985807, 8369),\n",
       " (0.02280621339444868, 3907),\n",
       " (0.02277489177489176, 2331),\n",
       " (0.02275796810450276, 1606),\n",
       " (0.022727272727272728, 1903),\n",
       " (0.022701298701298694, 4923),\n",
       " (0.022653061224489804, 9989),\n",
       " (0.02258741258741259, 4855),\n",
       " (0.02254901960784314, 3778),\n",
       " (0.022523809523809526, 309),\n",
       " (0.02244206773618537, 6984),\n",
       " (0.022410776736755754, 1224),\n",
       " (0.022358535290325027, 9319),\n",
       " (0.022356902356902353, 6246),\n",
       " (0.022347848230201167, 4368),\n",
       " (0.022304954304954307, 8728),\n",
       " (0.022220826792255365, 4826),\n",
       " (0.022150349650349642, 1322),\n",
       " (0.022128002716238007, 7084),\n",
       " (0.022097902097902078, 7831),\n",
       " (0.022052457346574992, 2909),\n",
       " (0.02204290807231984, 773),\n",
       " (0.021987179487179487, 2180),\n",
       " (0.02194682675814752, 2408),\n",
       " (0.02189239332096476, 3866),\n",
       " (0.021875111408199636, 502),\n",
       " (0.021857142857142874, 1403),\n",
       " (0.0217768016297428, 7736),\n",
       " (0.02172254760490054, 682),\n",
       " (0.0217142857142857, 8545),\n",
       " (0.021702882483370288, 8064),\n",
       " (0.021651282051282056, 6750),\n",
       " (0.021469696969696965, 6986),\n",
       " (0.02143833290892114, 8774),\n",
       " (0.021412698412698408, 271),\n",
       " (0.021410256410256415, 8765),\n",
       " (0.021406680100140435, 6887),\n",
       " (0.021363211951447244, 3600),\n",
       " (0.02129993815708102, 2937),\n",
       " (0.021272727272727263, 3320),\n",
       " (0.02110847032415659, 5979),\n",
       " (0.021000000000000005, 2958),\n",
       " (0.020995670995670984, 147),\n",
       " (0.02097206604807398, 9426),\n",
       " (0.02088332302618017, 5806),\n",
       " (0.020875423853752025, 412),\n",
       " (0.02081632653061225, 1813),\n",
       " (0.02079786096256684, 9627),\n",
       " (0.020765374331550804, 3607),\n",
       " (0.02074826452320058, 6590),\n",
       " (0.02066448801742919, 9414),\n",
       " (0.020579436902966323, 8677),\n",
       " (0.020505820105820104, 1810),\n",
       " (0.020499999999999997, 2046),\n",
       " (0.020484848484848495, 5621),\n",
       " (0.02042424242424242, 5848),\n",
       " (0.02042016806722689, 1393),\n",
       " (0.020315447710184543, 6013),\n",
       " (0.020088516746411482, 606),\n",
       " (0.02008080808080808, 3624),\n",
       " (0.020060606060606063, 2260),\n",
       " (0.019999999999999993, 7313),\n",
       " (0.019954545454545447, 4310),\n",
       " (0.01983333333333332, 155),\n",
       " (0.019833227230286046, 9073),\n",
       " (0.019751515151515162, 5837),\n",
       " (0.019745254745254747, 2041),\n",
       " (0.01965034965034963, 9093),\n",
       " (0.019600000000000006, 3820),\n",
       " (0.019488249845392703, 9569),\n",
       " (0.019466906259359092, 8735),\n",
       " (0.01946524064171124, 6515),\n",
       " (0.019371021135727015, 2386),\n",
       " (0.01933658008658009, 6900),\n",
       " (0.01932212885154061, 3500),\n",
       " (0.019134399705828267, 6854),\n",
       " (0.0191078431372549, 4526),\n",
       " (0.01895237127682648, 2010),\n",
       " (0.018927482370878605, 2888),\n",
       " (0.018921133838829127, 7617),\n",
       " (0.018915561912096365, 1673),\n",
       " (0.018911373866597747, 5539),\n",
       " (0.018878597592883316, 5419),\n",
       " (0.0186083916083916, 4423),\n",
       " (0.018598124098124103, 6833),\n",
       " (0.01857409257409257, 6962),\n",
       " (0.018453654188948315, 5960),\n",
       " (0.018404379933791695, 3981),\n",
       " (0.018400178253119417, 8364),\n",
       " (0.01838978015448603, 373),\n",
       " (0.018337662337662347, 298),\n",
       " (0.01833460656990069, 9823),\n",
       " (0.018205794205794188, 9751),\n",
       " (0.018172016662582703, 1346),\n",
       " (0.018114203257060396, 3192),\n",
       " (0.018096054888507712, 7478),\n",
       " (0.018087719298245594, 5567),\n",
       " (0.018009998257676275, 4963),\n",
       " (0.01799019607843136, 8275),\n",
       " (0.017865715983363055, 4244),\n",
       " (0.017786461904108965, 2918),\n",
       " (0.01762237762237763, 9316),\n",
       " (0.017569573283858986, 2419),\n",
       " (0.01755493155493154, 3319),\n",
       " (0.017454545454545434, 7726),\n",
       " (0.01745283018867925, 4996),\n",
       " (0.01745045045045044, 352),\n",
       " (0.01743722943722943, 1163),\n",
       " (0.017373315363881408, 2855),\n",
       " (0.01735113942661111, 3375),\n",
       " (0.017289562289562285, 8993),\n",
       " (0.017252100840336126, 9501),\n",
       " (0.017248217468805706, 9422),\n",
       " (0.017214158390628977, 2029),\n",
       " (0.01714285714285714, 7620),\n",
       " (0.017106357694592993, 5932),\n",
       " (0.017059652752423823, 5609),\n",
       " (0.017025401069518723, 8128),\n",
       " (0.017007518796992485, 9314),\n",
       " (0.016994817898035003, 6627),\n",
       " (0.016987012987012995, 8321),\n",
       " (0.016953046953046953, 3851),\n",
       " (0.016947123195291677, 9229),\n",
       " (0.016809523809523802, 7519),\n",
       " (0.016749011857707507, 943),\n",
       " (0.016722402597402593, 6668),\n",
       " (0.01668011988011988, 3052),\n",
       " (0.01663033395176252, 6845),\n",
       " (0.016617052881758767, 1645),\n",
       " (0.01654461279461278, 7288),\n",
       " (0.016464037970062056, 1594),\n",
       " (0.01643901196842374, 755),\n",
       " (0.016411764705882348, 9508),\n",
       " (0.016373626373626375, 3428),\n",
       " (0.016369182460731758, 3049),\n",
       " (0.01630797773654916, 4765),\n",
       " (0.016285714285714275, 7324),\n",
       " (0.016089344828840623, 293),\n",
       " (0.016086017406772124, 4942),\n",
       " (0.016068668173931336, 744),\n",
       " (0.01605306458247634, 6393),\n",
       " (0.016013071895424842, 1391),\n",
       " (0.015999999999999997, 6077),\n",
       " (0.015927750410509034, 4169),\n",
       " (0.015922452383789202, 8886),\n",
       " (0.015882211470446748, 7474),\n",
       " (0.015878662154172368, 4754),\n",
       " (0.015810189810189817, 5238),\n",
       " (0.015805471124620066, 7395),\n",
       " (0.015804195804195807, 9761),\n",
       " (0.015790875790875805, 3181),\n",
       " (0.01575927340633224, 4604),\n",
       " (0.015742296918767492, 2869),\n",
       " (0.01568627450980392, 6090),\n",
       " (0.015686274509803914, 7586),\n",
       " (0.015653170359052726, 7627),\n",
       " (0.015486708517399046, 9555),\n",
       " (0.015485640720934836, 3827),\n",
       " (0.015454545454545453, 1760),\n",
       " (0.01545454545454545, 7310),\n",
       " (0.015310862637065844, 22),\n",
       " (0.015241496598639447, 2997),\n",
       " (0.015217214158390623, 6213),\n",
       " (0.01520602853936188, 2525),\n",
       " (0.015142857142857144, 2854),\n",
       " (0.015081758764111695, 2016),\n",
       " (0.015053475935828868, 4383),\n",
       " (0.014969696969696977, 2549),\n",
       " (0.014954545454545453, 4270),\n",
       " (0.014813852813852823, 4988),\n",
       " (0.014785611214182644, 378),\n",
       " (0.014627472527472526, 1421),\n",
       " (0.014598930481283414, 2794),\n",
       " (0.014565826330532224, 2420),\n",
       " (0.01456543456543457, 5348),\n",
       " (0.01456238859180035, 5642),\n",
       " (0.014529914529914536, 3901),\n",
       " (0.014489510489510497, 165),\n",
       " (0.014468468468468464, 9353),\n",
       " (0.014418946749043843, 8889),\n",
       " (0.014415584415584402, 5517),\n",
       " (0.01436363636363636, 2338),\n",
       " (0.014347557204700073, 2159),\n",
       " (0.01431249999999999, 2557),\n",
       " (0.014285714285714282, 162),\n",
       " (0.014265829408686547, 7214),\n",
       " (0.014233511586452762, 598),\n",
       " (0.014179894179894199, 8386),\n",
       " (0.01407792207792207, 7035),\n",
       " (0.014053030303030309, 9435),\n",
       " (0.013999999999999992, 3253),\n",
       " (0.01392058823529412, 1940),\n",
       " (0.013787878787878786, 6141),\n",
       " (0.013740259740259752, 2664),\n",
       " (0.01366216216216216, 2082),\n",
       " (0.013650657518582056, 5826),\n",
       " (0.013639160839160834, 496),\n",
       " (0.013636363636363637, 8366),\n",
       " (0.013436274509803926, 7168),\n",
       " (0.013425029307382243, 9495),\n",
       " (0.01342179311916154, 7287),\n",
       " (0.013318681318681322, 1210),\n",
       " (0.013267973856209148, 6719),\n",
       " (0.013255102040816326, 464),\n",
       " (0.01319480519480519, 9160),\n",
       " (0.01318181818181817, 8137),\n",
       " (0.013163547237076658, 2473),\n",
       " (0.0131528293135436, 9587),\n",
       " (0.01309625668449197, 1595),\n",
       " (0.013014975654691407, 5620),\n",
       " (0.012962962962962964, 7238),\n",
       " (0.01296296296296295, 2735),\n",
       " (0.012864965443912815, 6398),\n",
       " (0.012861731764170778, 9853),\n",
       " (0.012787878787878779, 9248),\n",
       " (0.012715617715617716, 8289),\n",
       " (0.012695320552463403, 8392),\n",
       " (0.012679245283018857, 5534),\n",
       " (0.012636363636363637, 2769),\n",
       " (0.012623376623376613, 7747),\n",
       " (0.012571428571428577, 7604),\n",
       " (0.012568825510001968, 6671),\n",
       " (0.012564102564102564, 8610),\n",
       " (0.012552447552447554, 3791),\n",
       " (0.012494172494172496, 8357),\n",
       " (0.01248876909254269, 6661),\n",
       " (0.01246969696969697, 884),\n",
       " (0.01246735261761471, 9471),\n",
       " (0.012352941176470587, 8486),\n",
       " (0.012327672327672335, 2034),\n",
       " (0.012249999999999988, 2784),\n",
       " (0.012242424242424235, 6424),\n",
       " (0.012233766233766237, 1771),\n",
       " (0.012180102915951972, 5559),\n",
       " (0.01207792207792206, 9562),\n",
       " (0.012051282051282051, 396),\n",
       " (0.01201960784313725, 4780),\n",
       " (0.012011322011322004, 3789),\n",
       " (0.012000000000000005, 2229),\n",
       " (0.012000000000000004, 977),\n",
       " (0.011871657754010678, 3378),\n",
       " (0.011790170613700024, 1497),\n",
       " (0.011782051282051292, 6705),\n",
       " (0.01177933177933179, 1969),\n",
       " (0.011764705882352943, 6768),\n",
       " (0.011747474747474748, 7248),\n",
       " (0.011666666666666665, 4491),\n",
       " (0.011662846956964602, 5026),\n",
       " (0.011645622895622895, 9452),\n",
       " (0.011578231292517005, 9076),\n",
       " (0.011575091575091569, 4221),\n",
       " (0.011538461538461539, 9170),\n",
       " (0.011519607843137259, 6721),\n",
       " (0.011512605042016805, 8471),\n",
       " (0.011454545454545459, 6958),\n",
       " (0.011433566433566444, 3136),\n",
       " (0.01142857142857143, 2070),\n",
       " (0.011393939393939394, 2490),\n",
       " (0.011383442265795211, 3997),\n",
       " (0.011363636363636371, 2699),\n",
       " (0.01133333333333333, 125),\n",
       " (0.01132075471698114, 7429),\n",
       " (0.01132075471698113, 2120),\n",
       " (0.01130869130869131, 266),\n",
       " (0.011285714285714295, 5037),\n",
       " (0.011272727272727283, 7508),\n",
       " (0.011272727272727278, 6643),\n",
       " (0.011244897959183679, 693),\n",
       " (0.011241805813234378, 9490),\n",
       " (0.011122994652406423, 9595),\n",
       " (0.011103964170001916, 1353),\n",
       " (0.01109956709956711, 9065),\n",
       " (0.01106060606060606, 6405),\n",
       " (0.011008556660730556, 5936),\n",
       " (0.010944444444444442, 4784),\n",
       " (0.0108996336996337, 5773),\n",
       " (0.010889794168096044, 6178),\n",
       " (0.010800653594771255, 910),\n",
       " (0.010749999999999996, 7169),\n",
       " (0.010714285714285702, 5940),\n",
       " (0.010659090909090924, 2941),\n",
       " (0.010658627087198514, 1862),\n",
       " (0.01063576945929887, 1708),\n",
       " (0.010526315789473698, 4933),\n",
       " (0.010501498501498504, 972),\n",
       " (0.01049663425579655, 6100),\n",
       " (0.010463611859838268, 4272),\n",
       " (0.010458874458874447, 9626),\n",
       " (0.01033333333333333, 962),\n",
       " (0.010330158730158742, 1459),\n",
       " (0.01029526029526031, 4523),\n",
       " (0.010115027829313533, 6732),\n",
       " (0.01010101010101011, 9503),\n",
       " (0.010083694083694077, 2011),\n",
       " (0.009999999999999992, 6236),\n",
       " (0.009999999999999992, 5599),\n",
       " (0.009999999999999992, 5708),\n",
       " (0.009973460091107163, 8644),\n",
       " (0.009964674500756991, 3503),\n",
       " (0.009894736842105251, 1620),\n",
       " (0.009871572871572875, 9695),\n",
       " (0.009862150920974457, 6085),\n",
       " (0.009766785502079626, 8618),\n",
       " (0.009740259740259738, 91),\n",
       " (0.00973626373626374, 4678),\n",
       " (0.00970454545454545, 3083),\n",
       " (0.009639794168096056, 4562),\n",
       " (0.009630761395467272, 9977),\n",
       " (0.00962566844919787, 847),\n",
       " (0.009613636363636366, 6079),\n",
       " (0.009538461538461548, 886),\n",
       " (0.00951448551448551, 8266),\n",
       " (0.009450980392156853, 734),\n",
       " (0.009393939393939402, 6756),\n",
       " (0.009393939393939395, 4401),\n",
       " (0.009353705118410988, 5390),\n",
       " (0.009292929292929294, 2442),\n",
       " (0.00924075924075925, 9701),\n",
       " (0.009182817182817164, 7994),\n",
       " (0.009181818181818194, 8934),\n",
       " (0.009167303284950344, 9657),\n",
       " (0.009155679513184599, 4772),\n",
       " (0.009056499056499053, 9931),\n",
       " (0.009036963036963027, 1258),\n",
       " (0.00901960784313726, 4642),\n",
       " (0.00901960784313726, 6709),\n",
       " (0.00893702336122635, 1439),\n",
       " (0.008911564625850351, 3656),\n",
       " (0.008909090909090919, 1161),\n",
       " (0.008892801356718882, 4616),\n",
       " (0.008884135472370769, 7375),\n",
       " (0.008858741258741268, 8698),\n",
       " (0.008833333333333318, 164),\n",
       " (0.008816326530612241, 991),\n",
       " (0.008770150484436186, 6115),\n",
       " (0.008741480741480729, 6143),\n",
       " (0.008699300699300685, 9052),\n",
       " (0.008690909090909096, 1886),\n",
       " (0.008690903591706906, 2676),\n",
       " (0.008671328671328665, 2209),\n",
       " (0.008663101604278075, 6406),\n",
       " (0.008641719466517296, 2269),\n",
       " (0.008601449275362317, 5387),\n",
       " (0.00842424242424241, 7452),\n",
       " (0.008363636363636368, 342),\n",
       " (0.00833333333333333, 5255),\n",
       " (0.008260758848994144, 6284),\n",
       " (0.008241978609625673, 26),\n",
       " (0.008229437229437229, 4222),\n",
       " (0.008129370629370622, 2755),\n",
       " (0.008095238095238095, 6626),\n",
       " (0.00801864801864801, 1577),\n",
       " (0.00801731601731601, 8867),\n",
       " (0.008000000000000007, 4204),\n",
       " (0.008000000000000005, 5941),\n",
       " (0.008000000000000004, 4359),\n",
       " (0.00799999999999999, 7022),\n",
       " (0.007979399910434382, 4438),\n",
       " (0.007967419290948704, 258),\n",
       " (0.00794117647058823, 9434),\n",
       " (0.007869875222816403, 2174),\n",
       " (0.007816326530612245, 3063),\n",
       " (0.007734265734265741, 9902),\n",
       " (0.007725417439703148, 1061),\n",
       " (0.0076610242182997565, 4219),\n",
       " (0.007566433566433564, 6475),\n",
       " (0.007411616161616152, 7601),\n",
       " (0.007392132520295514, 3429),\n",
       " (0.007386274509803933, 746),\n",
       " (0.007374586198115624, 6759),\n",
       " (0.007359307359307361, 4773),\n",
       " (0.0073333333333333375, 2767),\n",
       " (0.007330419580419576, 2164),\n",
       " (0.007326599326599324, 6480),\n",
       " (0.007316433566433566, 8112),\n",
       " (0.00725231910946195, 2191),\n",
       " (0.007219251336898398, 2535),\n",
       " (0.007194805194805192, 9209),\n",
       " (0.007142063633964215, 833),\n",
       " (0.006863636363636361, 4409),\n",
       " (0.006857142857142854, 9704),\n",
       " (0.006779661016949163, 4834),\n",
       " (0.006754763655033188, 7246),\n",
       " (0.00674074074074075, 762),\n",
       " (0.006732026143790862, 3255),\n",
       " (0.006718995290423866, 8752),\n",
       " (0.0066089466089466, 9366),\n",
       " (0.006599999999999995, 5588),\n",
       " (0.006550802139037436, 1250),\n",
       " (0.006545749743892172, 834),\n",
       " (0.006519480519480521, 3106),\n",
       " (0.0065001665001664976, 497),\n",
       " (0.006500000000000016, 4054),\n",
       " (0.00647653000594175, 9561),\n",
       " (0.006410256410256412, 8403),\n",
       " (0.006393939393939384, 8829),\n",
       " (0.006393875732111029, 8455),\n",
       " (0.006363636363636355, 4948),\n",
       " (0.006359582446538966, 58),\n",
       " (0.006285714285714288, 7196),\n",
       " (0.006263736263736266, 4387),\n",
       " (0.006259740259740266, 8222),\n",
       " (0.006249999999999999, 7875),\n",
       " (0.006242820360467429, 4163),\n",
       " (0.006200371057513922, 477),\n",
       " (0.00619143819143819, 2778),\n",
       " (0.0061503759398496075, 1313),\n",
       " (0.006060606060606065, 8943),\n",
       " (0.006022727272727273, 4077),\n",
       " (0.006020499108734402, 1514),\n",
       " (0.006015957898310852, 3897),\n",
       " (0.006000000000000004, 9086),\n",
       " (0.006000000000000002, 3533),\n",
       " (0.005989898989898998, 3472),\n",
       " (0.0059638400814871345, 1573),\n",
       " (0.005924242424242424, 405),\n",
       " (0.005826422115895787, 6389),\n",
       " (0.005773504273504269, 3072),\n",
       " (0.005772727272727283, 295),\n",
       " (0.005744897959183676, 6540),\n",
       " (0.005709290709290719, 8798),\n",
       " (0.005708229237641003, 7376),\n",
       " (0.005704099821746883, 2295),\n",
       " (0.005704099821746874, 5483),\n",
       " (0.005610389610389616, 4357),\n",
       " (0.005514753023811676, 9696),\n",
       " (0.005480519480519473, 2569),\n",
       " (0.00545454545454546, 3050),\n",
       " (0.005402597402597409, 483),\n",
       " (0.005386518243661099, 122),\n",
       " (0.005384615384615385, 2421),\n",
       " (0.005372694532358398, 8456),\n",
       " (0.005253968253968259, 7359),\n",
       " (0.005252525252525248, 9659),\n",
       " (0.00524471606824548, 8876),\n",
       " (0.005232390560259407, 2423),\n",
       " (0.005232101232101238, 1431),\n",
       " (0.005215007215007236, 2666),\n",
       " (0.005194805194805205, 5055),\n",
       " (0.005194805194805202, 4985),\n",
       " (0.005194805194805195, 4426),\n",
       " (0.00515151515151514, 1206),\n",
       " (0.005139631610219842, 9304),\n",
       " (0.0050815850815850785, 6809),\n",
       " (0.00507420958814148, 7491),\n",
       " (0.005063079777365486, 904),\n",
       " (0.005002331002331012, 8280),\n",
       " (0.005000000000000001, 3371),\n",
       " (0.004950937950937937, 1714),\n",
       " (0.00490909090909092, 51),\n",
       " (0.004882154882154896, 7065),\n",
       " (0.004857142857142865, 4673),\n",
       " (0.004857142857142864, 376),\n",
       " (0.004847529921059335, 9102),\n",
       " (0.004820247138306443, 6484),\n",
       " (0.004705755029284445, 4567),\n",
       " (0.004696969696969701, 6093),\n",
       " (0.004696969696969693, 8859),\n",
       " (0.004696969696969692, 6166),\n",
       " (0.004661913250148532, 2554),\n",
       " (0.004555555555555563, 6993),\n",
       " (0.0045454545454545504, 9641),\n",
       " (0.004481437154704478, 3655),\n",
       " (0.004337662337662352, 4268),\n",
       " (0.004313725490196072, 5181),\n",
       " (0.004242424242424233, 9957),\n",
       " (0.004206349206349217, 9722),\n",
       " (0.004126439598137717, 351),\n",
       " (0.004081632653061226, 138),\n",
       " (0.004059052059052057, 8777),\n",
       " (0.004000000000000001, 2513),\n",
       " (0.004000000000000001, 9573),\n",
       " (0.003961038961038957, 8858),\n",
       " (0.003921568627450989, 6264),\n",
       " (0.003921568627450984, 2659),\n",
       " (0.003921568627450984, 6770),\n",
       " (0.003921568627450984, 1251),\n",
       " (0.0038571585058604484, 1608),\n",
       " (0.0038461538461538516, 2564),\n",
       " (0.00384615384615385, 9543),\n",
       " (0.00384615384615385, 1930),\n",
       " (0.00384615384615385, 1960),\n",
       " (0.003812664277180407, 1319),\n",
       " (0.0038095238095238095, 6183),\n",
       " (0.0037828337076457378, 6494),\n",
       " (0.003760461760461756, 7520),\n",
       " (0.0037360269360269377, 3774),\n",
       " (0.003671568627450986, 8730),\n",
       " (0.0036363636363636364, 5937),\n",
       " (0.003555555555555555, 2213),\n",
       " (0.0035323826500297177, 1560),\n",
       " (0.0034462444771723166, 409),\n",
       " (0.0034074074074074232, 2729),\n",
       " (0.003333333333333326, 9094),\n",
       " (0.0032323232323232367, 665),\n",
       " (0.0032104059462549957, 2467),\n",
       " (0.0031428571428571386, 6714),\n",
       " (0.003116034292504865, 8549),\n",
       " (0.0030704099821746954, 3773),\n",
       " (0.003030303030303043, 3208),\n",
       " (0.003030303030303028, 4110),\n",
       " (0.003030303030303028, 5323),\n",
       " (0.003030303030303028, 4028),\n",
       " (0.002982202982202976, 5425),\n",
       " (0.0029610389610389637, 3450),\n",
       " (0.0028160246533127653, 8848),\n",
       " (0.0027756557168321784, 4071),\n",
       " (0.002765300059417697, 332),\n",
       " (0.002752966348959354, 9340),\n",
       " (0.0027012987012987027, 877),\n",
       " (0.002666666666666675, 1025),\n",
       " (0.0025988455988456088, 1558),\n",
       " (0.002597402597402598, 573),\n",
       " (0.0025974025974025974, 4535),\n",
       " (0.0025974025974025974, 584),\n",
       " (0.0025900514579759813, 1453),\n",
       " (0.002272727272727271, 6194),\n",
       " (0.002181818181818169, 8775),\n",
       " (0.0021288515406162486, 6712),\n",
       " (0.002128205128205128, 6129),\n",
       " (0.002060606060606057, 154),\n",
       " (0.002060606060606054, 1854),\n",
       " (0.0020512820512820383, 4806),\n",
       " (0.0020000000000000118, 2674),\n",
       " (0.0019999999999999987, 5374),\n",
       " (0.0016956327985739672, 394),\n",
       " (0.0014999999999999955, 5057),\n",
       " (0.0014561403508771974, 1642),\n",
       " (0.0014025974025974038, 6703),\n",
       " (0.000993265993265992, 4371),\n",
       " (0.0008622908622908513, 2634),\n",
       " (0.0007142857142857039, 5617),\n",
       " (0.0004126984126984266, 4025),\n",
       " (0.000333333333333326, 240),\n",
       " (0.0002922077922077964, 6092),\n",
       " (0.00022675736961450885, 490),\n",
       " (0.0, 2332),\n",
       " (0.0, 8543),\n",
       " (0.0, 9271),\n",
       " (0.0, 7321),\n",
       " (0.0, 5386),\n",
       " (0.0, 3758)]"
      ]
     },
     "execution_count": 42,
     "metadata": {},
     "output_type": "execute_result"
    }
   ],
   "source": [
    "sorted(diff_data, key=lambda x: x[0], reverse=True)"
   ]
  },
  {
   "cell_type": "code",
   "execution_count": 127,
   "id": "a24b5beb",
   "metadata": {},
   "outputs": [
    {
     "data": {
      "text/plain": [
       "'cifar10_train_861_Frog.png'"
      ]
     },
     "execution_count": 127,
     "metadata": {},
     "output_type": "execute_result"
    }
   ],
   "source": [
    "example_idx2filename[861]#example_idxs_ordered[4401]]"
   ]
  },
  {
   "cell_type": "code",
   "execution_count": 25,
   "id": "c5c9b390",
   "metadata": {},
   "outputs": [
    {
     "data": {
      "text/plain": [
       "(array([0.19851524, 0.        , 0.17320521, 0.25274259, 0.2710354 ,\n",
       "        0.18276516, 0.08476608, 0.        , 0.        , 0.68054024]),\n",
       " array([6166, 2070, 4773, 8859, 8829, 4028, 2674,  490, 4110,  603]))"
      ]
     },
     "execution_count": 25,
     "metadata": {},
     "output_type": "execute_result"
    }
   ],
   "source": [
    "cifar10h_ents_sorted = np.argsort(cifar10h_ents)\n",
    "our_ents[cifar10h_ents_sorted[40:50]], example_idxs_ordered[cifar10h_ents_sorted[40:50]]"
   ]
  },
  {
   "cell_type": "code",
   "execution_count": 103,
   "id": "6025cd88",
   "metadata": {},
   "outputs": [
    {
     "data": {
      "text/plain": [
       "[(0.03035390946502059, 8020),\n",
       " (0.03048626858150668, 3336),\n",
       " (0.030583173440316296, 378),\n",
       " (0.03064633260711694, 718),\n",
       " (0.030769230769230764, 3655),\n",
       " (0.030784330513998336, 2525),\n",
       " (0.030797352611078098, 6856),\n",
       " (0.0309873949579832, 8351),\n",
       " (0.031030261857329516, 7831),\n",
       " (0.03103313840155946, 7608)]"
      ]
     },
     "execution_count": 103,
     "metadata": {},
     "output_type": "execute_result"
    }
   ],
   "source": [
    "sorted_diffs = sorted(diff_data, key=lambda x:x[0])\n",
    "sorted_diffs[450:460]"
   ]
  },
  {
   "cell_type": "code",
   "execution_count": 109,
   "id": "2bf639b8",
   "metadata": {},
   "outputs": [
    {
     "data": {
      "text/plain": [
       "(array([0.51880431, 0.79958306, 1.28912887, 0.54905089, 1.31437384,\n",
       "        0.49734898, 0.9385526 , 1.03649897, 0.55041454, 1.34440815,\n",
       "        1.12961334, 0.18276516, 0.92337939, 2.13965858, 1.2901473 ,\n",
       "        0.77589017, 1.4799569 , 1.43523281, 0.        , 1.33984516,\n",
       "        1.06386931, 1.09715767, 0.9929482 , 1.09861229, 1.29152675,\n",
       "        1.22547937, 0.63360464, 1.16941691, 1.06972479, 1.19503384,\n",
       "        0.40718051, 0.58757951, 1.14359943, 1.40762515, 0.71445207,\n",
       "        1.3183061 , 1.41254246, 1.350224  , 1.98731167, 1.86890167,\n",
       "        1.52229853, 1.94881268, 1.28356047, 1.45481497, 1.6260938 ,\n",
       "        1.36925983, 1.45614647, 1.41157852, 1.40595558, 2.0476261 ]),\n",
       " array([8058, 9832, 8637, 4754, 2549, 8354, 2010, 9989, 4661, 4559, 8647,\n",
       "         982, 3299, 8872, 1167, 6515, 5207, 1594, 2066, 9422, 3049, 9555,\n",
       "         441, 2324, 6162, 3716, 3956, 5266, 3624, 3444, 5910, 6202, 8545,\n",
       "        5158,  357, 9643, 3799, 2180, 3910, 1924, 3113, 5837, 2855, 7238,\n",
       "        3357, 5227, 6197, 3463, 8153, 6750]))"
      ]
     },
     "execution_count": 109,
     "metadata": {},
     "output_type": "execute_result"
    }
   ],
   "source": [
    "cifar10h_ents_sorted = np.argsort(cifar10h_ents)\n",
    "our_ents[cifar10h_ents_sorted[-50:]], example_idxs_ordered[cifar10h_ents_sorted[-50:]]"
   ]
  },
  {
   "cell_type": "code",
   "execution_count": 105,
   "id": "e06cac6e",
   "metadata": {},
   "outputs": [
    {
     "data": {
      "text/plain": [
       "(array([0.00151959, 0.00151959, 0.00151959, 0.00151959, 0.00151959,\n",
       "        0.98632372, 0.00151959, 0.00151959, 0.00151959, 0.00151959]),\n",
       " array([0.06, 0.  , 0.06, 0.  , 0.  , 0.84, 0.  , 0.02, 0.02, 0.  ]),\n",
       " 'cifar10_train_2525_Dog.png')"
      ]
     },
     "execution_count": 105,
     "metadata": {},
     "output_type": "execute_result"
    }
   ],
   "source": [
    "'''\n",
    "Example ent diff (low/high): cifar10_train_3320_Bird.png, cifar10_train_6995_Automobile.png\n",
    "Example high ent: 'cifar10_train_8153_Deer.png'\n",
    "Diff high ent: 'cifar10_train_9555_Deer.png'\n",
    "Similar high ent: cifar10_train_8545_Frog.png\n",
    "High diff: cifar10_train_4701_Airplane, 6897, (bird or plane) 5302, \n",
    "similar: cifar10_train_1453_Dog, cifar10_train_2442_Deer (**), cifar10_train_412_Cat\n",
    "cifar10_train_3774_Dog\n",
    "diff: cifar10_train_2010_Horse (**)\n",
    "Compare create -- 2511\n",
    "'''\n",
    "idx= 2525\n",
    "idx2soft_label[idx], cifar10h_data[idx], example_idx2filename[idx]"
   ]
  },
  {
   "cell_type": "code",
   "execution_count": 87,
   "id": "27e7cdfc",
   "metadata": {},
   "outputs": [
    {
     "data": {
      "text/plain": [
       "['Airplane',\n",
       " 'Automobile',\n",
       " 'Bird',\n",
       " 'Cat',\n",
       " 'Deer',\n",
       " 'Dog',\n",
       " 'Frog',\n",
       " 'Horse',\n",
       " 'Ship',\n",
       " 'Truck']"
      ]
     },
     "execution_count": 87,
     "metadata": {},
     "output_type": "execute_result"
    }
   ],
   "source": [
    "class_names"
   ]
  },
  {
   "cell_type": "code",
   "execution_count": 88,
   "id": "3cfade0d",
   "metadata": {},
   "outputs": [
    {
     "data": {
      "text/plain": [
       "<BarContainer object of 10 artists>"
      ]
     },
     "execution_count": 88,
     "metadata": {},
     "output_type": "execute_result"
    },
    {
     "data": {
      "image/png": "[encoded data removed]",
      "text/plain": [
       "<Figure size 432x288 with 1 Axes>"
      ]
     },
     "metadata": {
      "needs_background": "light"
     },
     "output_type": "display_data"
    }
   ],
   "source": [
    "plt.bar(range(10), idx2soft_label[idx])\n",
    "plt.bar(range(10), cifar10h_data[idx])"
   ]
  },
  {
   "cell_type": "code",
   "execution_count": 102,
   "id": "ee757a49",
   "metadata": {},
   "outputs": [
    {
     "name": "stdout",
     "output_type": "stream",
     "text": [
      "[ 1.96078431  1.96078431  1.96078431  1.96078431  1.96078431  1.96078431\n",
      "  1.96078431  1.96078431 82.35294118  1.96078431]\n",
      "[100.   0.   0.   0.   0.   0.   0.   0.   0.   0.]\n",
      "[ 0.58479532  0.58479532  0.58479532  0.58479532  0.58479532  0.58479532\n",
      "  0.58479532  0.58479532 94.73684211  0.58479532]\n"
     ]
    }
   ],
   "source": [
    "idx=2511\n",
    "for labeler in soft_labels_per[idx]:\n",
    "    print(labeler * 100)"
   ]
  },
  {
   "cell_type": "code",
   "execution_count": 82,
   "id": "9cc1cb24",
   "metadata": {},
   "outputs": [
    {
     "data": {
      "text/plain": [
       "(array([0.5       , 0.05555556, 0.05555556, 0.05555556, 0.05555556,\n",
       "        0.05555556, 0.05555556, 0.05555556, 0.05555556, 0.05555556]),\n",
       " 1.0)"
      ]
     },
     "execution_count": 82,
     "metadata": {},
     "output_type": "execute_result"
    }
   ],
   "source": [
    "\n",
    "\n",
    "importlib.reload(utils) # reload help from: https://stackoverflow.com/questions/437589/how-do-i-unload-reload-a-python-module\n",
    "\n",
    "single_annotator_info = all_elicitation_per_example[6157][1]\n",
    "include_top_2=False\n",
    "redist=\"uniform\"\n",
    "redist_level=0.1\n",
    "vec = utils.construct_elicited_soft_label(single_annotator_info, class2idx, include_top_2 = include_top_2, redist=redist,\n",
    "                            redist_factor=redist_level, smooth_existing=False)\n",
    "# utils.create_cifar10h_sim2(single_annotator_info, class2idx)\n",
    "vec, np.sum(vec)"
   ]
  },
  {
   "cell_type": "code",
   "execution_count": 45,
   "id": "a1f3a605",
   "metadata": {},
   "outputs": [
    {
     "name": "stdout",
     "output_type": "stream",
     "text": [
      "0.09999999999999998\n",
      "0.5\n",
      "0.8\n"
     ]
    },
    {
     "data": {
      "text/plain": [
       "array([0.5       , 0.07222222, 0.03333333, 0.06111111, 0.02777778,\n",
       "       0.03333333, 0.03333333, 0.06111111, 0.10555556, 0.07222222])"
      ]
     },
     "execution_count": 45,
     "metadata": {},
     "output_type": "execute_result"
    }
   ],
   "source": [
    "vecs = []\n",
    "include_top_2=False\n",
    "redist=\"clamp\"\n",
    "redist_level=0.1\n",
    "for single_annotator_info in all_elicitation_per_example[6157]: \n",
    "    vecs.append(utils.construct_elicited_soft_label(single_annotator_info, class2idx, include_top_2 = include_top_2, redist=redist,\n",
    "                            redist_factor=redist_level, smooth_existing=False))\n",
    "vecs = np.array(vecs)\n",
    "np.mean(vecs,axis=0)"
   ]
  },
  {
   "cell_type": "code",
   "execution_count": 46,
   "id": "fe07bd59",
   "metadata": {},
   "outputs": [
    {
     "data": {
      "text/plain": [
       "0.9999"
      ]
     },
     "execution_count": 46,
     "metadata": {},
     "output_type": "execute_result"
    }
   ],
   "source": [
    "0.9 + 0.0333 + 0.0333+ 0.0333"
   ]
  },
  {
   "cell_type": "code",
   "execution_count": 47,
   "id": "af2dc30d",
   "metadata": {},
   "outputs": [
    {
     "data": {
      "text/plain": [
       "['Airplane',\n",
       " 'Automobile',\n",
       " 'Bird',\n",
       " 'Cat',\n",
       " 'Deer',\n",
       " 'Dog',\n",
       " 'Frog',\n",
       " 'Horse',\n",
       " 'Ship',\n",
       " 'Truck']"
      ]
     },
     "execution_count": 47,
     "metadata": {},
     "output_type": "execute_result"
    }
   ],
   "source": [
    "class_names"
   ]
  },
  {
   "cell_type": "code",
   "execution_count": 48,
   "id": "ce846594",
   "metadata": {},
   "outputs": [
    {
     "ename": "NameError",
     "evalue": "name 'agg_labels' is not defined",
     "output_type": "error",
     "traceback": [
      "\u001b[0;31m---------------------------------------------------------------------------\u001b[0m",
      "\u001b[0;31mNameError\u001b[0m                                 Traceback (most recent call last)",
      "\u001b[0;32m<ipython-input-48-0e9f023243e4>\u001b[0m in \u001b[0;36m<module>\u001b[0;34m\u001b[0m\n\u001b[1;32m      1\u001b[0m \u001b[0mnon_zero_class_counts_ours\u001b[0m \u001b[0;34m=\u001b[0m \u001b[0;34m{\u001b[0m\u001b[0;34m\"1\"\u001b[0m\u001b[0;34m:\u001b[0m \u001b[0;36m0\u001b[0m\u001b[0;34m,\u001b[0m \u001b[0;34m\"2\"\u001b[0m\u001b[0;34m:\u001b[0m \u001b[0;36m0\u001b[0m\u001b[0;34m,\u001b[0m \u001b[0;34m\"3\"\u001b[0m\u001b[0;34m:\u001b[0m \u001b[0;36m0\u001b[0m\u001b[0;34m,\u001b[0m \u001b[0;34m\"> 3\"\u001b[0m\u001b[0;34m:\u001b[0m \u001b[0;36m0\u001b[0m\u001b[0;34m}\u001b[0m\u001b[0;34m\u001b[0m\u001b[0;34m\u001b[0m\u001b[0m\n\u001b[0;32m----> 2\u001b[0;31m \u001b[0mrun_ids\u001b[0m \u001b[0;34m=\u001b[0m \u001b[0mset\u001b[0m\u001b[0;34m(\u001b[0m\u001b[0magg_labels\u001b[0m\u001b[0;34m.\u001b[0m\u001b[0mkeys\u001b[0m\u001b[0;34m(\u001b[0m\u001b[0;34m)\u001b[0m\u001b[0;34m)\u001b[0m\u001b[0;34m\u001b[0m\u001b[0;34m\u001b[0m\u001b[0m\n\u001b[0m\u001b[1;32m      3\u001b[0m \u001b[0;34m\u001b[0m\u001b[0m\n\u001b[1;32m      4\u001b[0m \u001b[0;31m# for label in agg_labels_smoothed.values():\u001b[0m\u001b[0;34m\u001b[0m\u001b[0;34m\u001b[0m\u001b[0;34m\u001b[0m\u001b[0m\n\u001b[1;32m      5\u001b[0m \u001b[0;32mfor\u001b[0m \u001b[0mlabel\u001b[0m \u001b[0;32min\u001b[0m \u001b[0magg_top2_w_probs\u001b[0m\u001b[0;34m.\u001b[0m\u001b[0mvalues\u001b[0m\u001b[0;34m(\u001b[0m\u001b[0;34m)\u001b[0m\u001b[0;34m:\u001b[0m\u001b[0;34m\u001b[0m\u001b[0;34m\u001b[0m\u001b[0m\n",
      "\u001b[0;31mNameError\u001b[0m: name 'agg_labels' is not defined"
     ]
    }
   ],
   "source": [
    "non_zero_class_counts_ours = {\"1\": 0, \"2\": 0, \"3\": 0, \"> 3\": 0}\n",
    "run_ids = set(agg_labels.keys())\n",
    "\n",
    "# for label in agg_labels_smoothed.values():\n",
    "for label in agg_top2_w_probs.values(): \n",
    "    num_non_zero_classes = np.sum(label > 0)\n",
    "    if str(num_non_zero_classes) in non_zero_class_counts_ours:\n",
    "        non_zero_class_counts_ours[str(num_non_zero_classes)] += 1\n",
    "    else: non_zero_class_counts_ours[\"> 3\"] += 1\n",
    "\n",
    "count_vals=sorted(non_zero_class_counts_ours.keys())\n",
    "fig, ax = plt.subplots()\n",
    "ax.bar(count_vals, [non_zero_class_counts_ours[count] for count in non_zero_class_counts_ours])\n",
    "ax.set_xlabel(\"Number of Non-Zero Prob Classes\", fontsize=ax_size)\n",
    "ax.set_ylabel(\"Counts\", fontsize=ax_size)\n",
    "ax.set_ylim([0, len(run_ids)])"
   ]
  },
  {
   "cell_type": "code",
   "execution_count": 49,
   "id": "ada5cec7",
   "metadata": {},
   "outputs": [
    {
     "ename": "NameError",
     "evalue": "name 'peterson_ents' is not defined",
     "output_type": "error",
     "traceback": [
      "\u001b[0;31m---------------------------------------------------------------------------\u001b[0m",
      "\u001b[0;31mNameError\u001b[0m                                 Traceback (most recent call last)",
      "\u001b[0;32m<ipython-input-49-5d6393966092>\u001b[0m in \u001b[0;36m<module>\u001b[0;34m\u001b[0m\n\u001b[1;32m      1\u001b[0m \u001b[0;32mfrom\u001b[0m \u001b[0mscipy\u001b[0m\u001b[0;34m.\u001b[0m\u001b[0mstats\u001b[0m \u001b[0;32mimport\u001b[0m \u001b[0mspearmanr\u001b[0m\u001b[0;34m,\u001b[0m \u001b[0mpearsonr\u001b[0m\u001b[0;34m\u001b[0m\u001b[0;34m\u001b[0m\u001b[0m\n\u001b[1;32m      2\u001b[0m \u001b[0;34m\u001b[0m\u001b[0m\n\u001b[0;32m----> 3\u001b[0;31m \u001b[0mprint\u001b[0m\u001b[0;34m(\u001b[0m\u001b[0mpearsonr\u001b[0m\u001b[0;34m(\u001b[0m\u001b[0mpeterson_ents\u001b[0m\u001b[0;34m,\u001b[0m \u001b[0mdiffs\u001b[0m\u001b[0;34m)\u001b[0m\u001b[0;34m[\u001b[0m\u001b[0;36m0\u001b[0m\u001b[0;34m]\u001b[0m\u001b[0;34m)\u001b[0m\u001b[0;34m\u001b[0m\u001b[0;34m\u001b[0m\u001b[0m\n\u001b[0m\u001b[1;32m      4\u001b[0m \u001b[0;34m\u001b[0m\u001b[0m\n\u001b[1;32m      5\u001b[0m \u001b[0mprint\u001b[0m\u001b[0;34m(\u001b[0m\u001b[0mpearsonr\u001b[0m\u001b[0;34m(\u001b[0m\u001b[0mpeterson_ents\u001b[0m\u001b[0;34m,\u001b[0m \u001b[0mour_ents\u001b[0m\u001b[0;34m)\u001b[0m\u001b[0;34m)\u001b[0m\u001b[0;34m\u001b[0m\u001b[0;34m\u001b[0m\u001b[0m\n",
      "\u001b[0;31mNameError\u001b[0m: name 'peterson_ents' is not defined"
     ]
    }
   ],
   "source": [
    "from scipy.stats import spearmanr, pearsonr\n",
    "\n",
    "print(pearsonr(peterson_ents, diffs)[0])\n",
    "\n",
    "print(pearsonr(peterson_ents, our_ents))\n",
    "\n",
    "plt.figure()\n",
    "plt.scatter(peterson_ents, diffs)\n",
    "plt.ylabel(\"Distribution Distance\", fontsize=15)\n",
    "plt.xlabel(\"Entropy of CIFAR10H\", fontsize=15)\n",
    "\n",
    "plt.figure()\n",
    "plt.scatter(peterson_ents, our_ents)\n",
    "plt.ylabel(\"Entropy of Our Labels\", fontsize=15)\n",
    "plt.xlabel(\"Entropy of CIFAR10H\", fontsize=15)"
   ]
  },
  {
   "cell_type": "code",
   "execution_count": 50,
   "id": "cda7bf42",
   "metadata": {},
   "outputs": [
    {
     "ename": "NameError",
     "evalue": "name 'diff_data' is not defined",
     "output_type": "error",
     "traceback": [
      "\u001b[0;31m---------------------------------------------------------------------------\u001b[0m",
      "\u001b[0;31mNameError\u001b[0m                                 Traceback (most recent call last)",
      "\u001b[0;32m<ipython-input-50-94236467ebd9>\u001b[0m in \u001b[0;36m<module>\u001b[0;34m\u001b[0m\n\u001b[0;32m----> 1\u001b[0;31m \u001b[0msorted_diffs\u001b[0m \u001b[0;34m=\u001b[0m \u001b[0msorted\u001b[0m\u001b[0;34m(\u001b[0m\u001b[0mdiff_data\u001b[0m\u001b[0;34m,\u001b[0m \u001b[0mkey\u001b[0m\u001b[0;34m=\u001b[0m\u001b[0;32mlambda\u001b[0m \u001b[0mx\u001b[0m\u001b[0;34m:\u001b[0m \u001b[0mx\u001b[0m\u001b[0;34m[\u001b[0m\u001b[0;36m0\u001b[0m\u001b[0;34m]\u001b[0m\u001b[0;34m,\u001b[0m \u001b[0mreverse\u001b[0m\u001b[0;34m=\u001b[0m\u001b[0;32mTrue\u001b[0m\u001b[0;34m)\u001b[0m\u001b[0;34m\u001b[0m\u001b[0;34m\u001b[0m\u001b[0m\n\u001b[0m\u001b[1;32m      2\u001b[0m \u001b[0msorted_diffs\u001b[0m\u001b[0;34m[\u001b[0m\u001b[0;34m:\u001b[0m\u001b[0;36m10\u001b[0m\u001b[0;34m]\u001b[0m\u001b[0;34m\u001b[0m\u001b[0;34m\u001b[0m\u001b[0m\n",
      "\u001b[0;31mNameError\u001b[0m: name 'diff_data' is not defined"
     ]
    }
   ],
   "source": [
    "sorted_diffs = sorted(diff_data, key=lambda x: x[0], reverse=True)\n",
    "sorted_diffs[:10]\n"
   ]
  },
  {
   "cell_type": "code",
   "execution_count": 51,
   "id": "bd13641e",
   "metadata": {},
   "outputs": [
    {
     "ename": "NameError",
     "evalue": "name 'cifar10h_data' is not defined",
     "output_type": "error",
     "traceback": [
      "\u001b[0;31m---------------------------------------------------------------------------\u001b[0m",
      "\u001b[0;31mNameError\u001b[0m                                 Traceback (most recent call last)",
      "\u001b[0;32m<ipython-input-51-1f463be91e4e>\u001b[0m in \u001b[0;36m<module>\u001b[0;34m\u001b[0m\n\u001b[1;32m      8\u001b[0m \u001b[0mexample_idx\u001b[0m \u001b[0;34m=\u001b[0m \u001b[0;36m5239\u001b[0m\u001b[0;34m\u001b[0m\u001b[0;34m\u001b[0m\u001b[0m\n\u001b[1;32m      9\u001b[0m \u001b[0;34m\u001b[0m\u001b[0m\n\u001b[0;32m---> 10\u001b[0;31m \u001b[0mprob_dists\u001b[0m \u001b[0;34m=\u001b[0m \u001b[0;34m[\u001b[0m\u001b[0mcifar10h_data\u001b[0m\u001b[0;34m[\u001b[0m\u001b[0mexample_idx\u001b[0m\u001b[0;34m]\u001b[0m\u001b[0;34m,\u001b[0m \u001b[0magg_top2_w_probs\u001b[0m\u001b[0;34m[\u001b[0m\u001b[0mexample_idx\u001b[0m\u001b[0;34m]\u001b[0m\u001b[0;34m,\u001b[0m \u001b[0magg_labels_smoothed\u001b[0m\u001b[0;34m[\u001b[0m\u001b[0mexample_idx\u001b[0m\u001b[0;34m]\u001b[0m\u001b[0;34m]\u001b[0m\u001b[0;34m\u001b[0m\u001b[0;34m\u001b[0m\u001b[0m\n\u001b[0m\u001b[1;32m     11\u001b[0m \u001b[0mmethod_names\u001b[0m \u001b[0;34m=\u001b[0m \u001b[0;34m[\u001b[0m\u001b[0;34m\"Peterson\"\u001b[0m\u001b[0;34m,\u001b[0m \u001b[0;34m\"Ours (Top 2)\"\u001b[0m\u001b[0;34m,\u001b[0m \u001b[0;34m\"Ours (Redist)\"\u001b[0m\u001b[0;34m]\u001b[0m\u001b[0;34m\u001b[0m\u001b[0;34m\u001b[0m\u001b[0m\n\u001b[1;32m     12\u001b[0m \u001b[0;34m\u001b[0m\u001b[0m\n",
      "\u001b[0;31mNameError\u001b[0m: name 'cifar10h_data' is not defined"
     ]
    }
   ],
   "source": [
    "# extract to make a dataframe for plotting\n",
    "all_methods = []\n",
    "all_probs = []\n",
    "all_categories = []\n",
    "\n",
    "example_idx = 3253#5239#3357\n",
    "example_idx = 6822#5239\n",
    "example_idx = 5239\n",
    "\n",
    "prob_dists = [cifar10h_data[example_idx], agg_top2_w_probs[example_idx], agg_labels_smoothed[example_idx]]\n",
    "method_names = [\"Peterson\", \"Ours (Top 2)\", \"Ours (Redist)\"]\n",
    "\n",
    "for prob_dist, method_name in zip(prob_dists, method_names):\n",
    "    for cat_idx, prob in enumerate(prob_dist): \n",
    "        all_categories.append(idx2class[cat_idx])\n",
    "        all_probs.append(prob)\n",
    "        all_methods.append(method_name)\n",
    "        \n",
    "eval_df = pd.DataFrame({\"Method\": all_methods, \"Probability\": all_probs, \"Category\": all_categories})\n",
    "\n",
    "\n",
    "# fig, ax = plt.subplots(figsize=(13,8))\n",
    "fig, ax = plt.subplots(figsize=(10,6))\n",
    "show_df = eval_df\n",
    "x = \"Category\"\n",
    "y = \"Probability\"\n",
    "hue =\"Method\"\n",
    "\n",
    "sns.barplot(x=x, y=y, hue = hue, data=show_df,ax=ax,\n",
    "           )#order = order)\n",
    "ax.set_xlabel(x, fontsize=ax_size)\n",
    "ax.set_ylabel(y, fontsize=ax_size)\n",
    "# ax.set_ylim([0,1.1])\n",
    "# for p in ax.patches:\n",
    "#     ax.annotate(format(p.get_height(), '.2f'), #+ \"%\", \n",
    "#                    (p.get_x() + p.get_width() / 2., p.get_height()), \n",
    "#                    ha = 'center', va = 'center', \n",
    "#                    xytext = (0, 9), \n",
    "#                    textcoords = 'offset points')\n",
    "# ax.set_title(f\"Comparing Elicited Label Distributions [ID: {example_idx}]\", fontsize=title_size)\n",
    "ax.set_title(f\"Comparing Elicited Label Distributions\", fontsize=title_size)\n",
    "\n",
    "# legend moving help from: https://stackoverflow.com/questions/4700614/how-to-put-the-legend-outside-the-plot-in-matplotlib\n",
    "box = ax.get_position()\n",
    "ax.set_position([box.x0, box.y0 + box.height * 0.1,\n",
    "                 box.width, box.height * 0.95])\n",
    "# Put a legend below current axis\n",
    "ax.legend(loc='upper center', bbox_to_anchor=(0.5, -0.12),\n",
    "          fancybox=True, shadow=True, ncol=3, fontsize=12)\n",
    "\n",
    "plt.savefig(f\"compare_probs.png\",dpi=400, bbox_inches=\"tight\")\n",
    "# plt.savefig(f\"{save_dir}best_class_eval_res_{alg_seed}.png\",dpi=400, bbox_inches=\"tight\")"
   ]
  },
  {
   "cell_type": "code",
   "execution_count": 52,
   "id": "3d7d777e",
   "metadata": {},
   "outputs": [],
   "source": [
    "repeat_diffs = []\n",
    "prob_diffs = []\n",
    "all_prob_diffs = []\n",
    "tot_entries = 0\n",
    "for subj_id in subj_ids: \n",
    "    subj_df = response_df[response_df[id_col] == subj_id].reset_index()\n",
    "    check_task_txt = \"rerun_spec_conf\"\n",
    "    check_res = subj_df.loc[subj_df.task == check_task_txt]\n",
    "    for filename in check_res.filename:\n",
    "        img_df = subj_df.loc[subj_df.filename==filename]\n",
    "                \n",
    "        elicited_data_orig = process_response(img_df.response.iloc[0])\n",
    "        elicited_data_repeat = process_response(img_df.response.iloc[1])\n",
    "        \n",
    "        most_prob_class = elicited_data_orig[most_prob_class_txt]\n",
    "        prob = elicited_data_orig[most_prob_txt]\n",
    "        \n",
    "        most_prob_class_r = elicited_data_repeat[most_prob_class_txt]\n",
    "        prob_r = elicited_data_repeat[most_prob_txt]\n",
    "        \n",
    "        if most_prob_class != most_prob_class_r: repeat_diffs.append([elicited_data_orig, elicited_data_repeat, subj_id, filename])\n",
    "        else: \n",
    "            if prob != prob_r:\n",
    "                prob_diffs.append(np.abs(prob - prob_r))\n",
    "            all_prob_diffs.append(np.abs(prob - prob_r))\n",
    "        tot_entries+= 1"
   ]
  },
  {
   "cell_type": "code",
   "execution_count": 53,
   "id": "088c1056",
   "metadata": {},
   "outputs": [
    {
     "data": {
      "text/plain": [
       "(0.07258064516129033, 6.091304347826087, 10.030189778579912, 0.5)"
      ]
     },
     "execution_count": 53,
     "metadata": {},
     "output_type": "execute_result"
    }
   ],
   "source": [
    "len(repeat_diffs)/tot_entries, np.mean(all_prob_diffs), np.std(all_prob_diffs), np.median(all_prob_diffs)"
   ]
  },
  {
   "cell_type": "code",
   "execution_count": 54,
   "id": "040e7564",
   "metadata": {},
   "outputs": [
    {
     "data": {
      "text/plain": [
       "<AxesSubplot:ylabel='Count'>"
      ]
     },
     "execution_count": 54,
     "metadata": {},
     "output_type": "execute_result"
    },
    {
     "data": {
      "image/png": "[encoded data removed]",
      "text/plain": [
       "<Figure size 432x288 with 1 Axes>"
      ]
     },
     "metadata": {
      "needs_background": "light"
     },
     "output_type": "display_data"
    }
   ],
   "source": [
    "sns.histplot(all_prob_diffs, bins=15)#, kde=True)"
   ]
  },
  {
   "cell_type": "code",
   "execution_count": 55,
   "id": "df4a4d86",
   "metadata": {},
   "outputs": [
    {
     "data": {
      "text/plain": [
       "0.5"
      ]
     },
     "execution_count": 55,
     "metadata": {},
     "output_type": "execute_result"
    }
   ],
   "source": [
    "np.sum(np.array(all_prob_diffs) == 0)/len(all_prob_diffs)"
   ]
  },
  {
   "cell_type": "code",
   "execution_count": 56,
   "id": "fbe176d2",
   "metadata": {
    "scrolled": true
   },
   "outputs": [
    {
     "name": "stdout",
     "output_type": "stream",
     "text": [
      "Avg seconds per image: 38.65 sec\n",
      "Median seconds per image: 30.43 sec\n"
     ]
    }
   ],
   "source": [
    "sec_per_img = np.mean(response_df.rt) / (1000)\n",
    "print(f\"Avg seconds per image: {round(sec_per_img,2)} sec\")\n",
    "med_sec_per_img = np.median(response_df.rt) / (1000)\n",
    "print(f\"Median seconds per image: {round(med_sec_per_img,2)} sec\")\n",
    "\n",
    "rts = np.array(response_df.rt) / (1000*60)\n",
    "\n",
    "long_time_idxs = []\n",
    "for idx, rt in enumerate(rts): \n",
    "    if rt > 2.5: long_time_idxs.append([idx, response_df[id_col].iloc[idx], rt])\n",
    "\n",
    "# # print(f\"Expected total time: {} min\")\n",
    "# sns.boxplot(rts)\n",
    "# plt.xlim([0,2])"
   ]
  },
  {
   "cell_type": "code",
   "execution_count": 57,
   "id": "f0e29a5c",
   "metadata": {},
   "outputs": [
    {
     "name": "stdout",
     "output_type": "stream",
     "text": [
      "onsl2fo327pf1s0 21 5d42486206811e001ada5b4b\n",
      "mtpa2uwy8g4mh3a 5 57864d24900cc80001d2de56\n",
      "lvu6hnq8fbh6pua 13 5d012930cfeb82001817c9c9\n",
      "8hw0kbgrl5j664g 3 5c8808098d2bbf0017e4b527\n",
      "vpudnc88o27z2ob\n",
      "vpudnc88o27z2ob\n",
      "lt29gdb37pds0mn 0 60bff9298f56d55c8ecd9adf\n",
      "puzt8w7vdfs1xgn\n",
      "puzt8w7vdfs1xgn\n",
      "g8sz6r4gx42nnd8 29 55b42b7cfdf99b5244217cf4\n",
      "2ve7f09kxbv2xmm\n",
      "2ve7f09kxbv2xmm\n",
      "Stats:  0.8366188769414575 0.16855090391458796 0.9169653524492235 0.13382723065291013\n"
     ]
    },
    {
     "data": {
      "text/plain": [
       "(0.5, 1.0)"
      ]
     },
     "execution_count": 57,
     "metadata": {},
     "output_type": "execute_result"
    },
    {
     "data": {
      "image/png": "[encoded data removed]",
      "text/plain": [
       "<Figure size 432x288 with 1 Axes>"
      ]
     },
     "metadata": {
      "needs_background": "light"
     },
     "output_type": "display_data"
    },
    {
     "data": {
      "image/png": "[encoded data removed]",
      "text/plain": [
       "<Figure size 432x288 with 1 Axes>"
      ]
     },
     "metadata": {
      "needs_background": "light"
     },
     "output_type": "display_data"
    }
   ],
   "source": [
    "annotator_accs = []\n",
    "annotator_top2_accs = []\n",
    "for subj_id in subj_ids: \n",
    "    subj_df = response_df.loc[response_df[id_col] == subj_id]\n",
    "    acc = annotator_accuracy(subj_df)\n",
    "    annotator_accs.append(acc)\n",
    "    if acc < 0.7: print(subj_id, subj_df.condition.iloc[0], subj_df.prolific_id.iloc[0])\n",
    "        \n",
    "        \n",
    "#     if subj_id == \"hc8gfwjd0npbw6v\": print(acc)    \n",
    "    annotator_top2_accs.append(annotator_accuracy(subj_df, use_top_2=True))\n",
    "    \n",
    "print(\"Stats: \", np.mean(annotator_accs), np.std(annotator_accs) * 2, np.mean(annotator_top2_accs), np.std(annotator_top2_accs) * 2)\n",
    "\n",
    "plt.figure()\n",
    "plt.hist(annotator_accs)\n",
    "plt.xlim([0.5, 1.0])\n",
    "plt.figure()\n",
    "plt.hist(annotator_top2_accs)\n",
    "plt.xlim([0.5, 1.0])"
   ]
  },
  {
   "cell_type": "code",
   "execution_count": 58,
   "id": "975d78a1",
   "metadata": {},
   "outputs": [
    {
     "data": {
      "text/plain": [
       "[({'Q0': '9',\n",
       "   'Q1': '2',\n",
       "   'Q2': 'yes.  I looked at the image.  only two were difficult to see.  most were clear.',\n",
       "   'Q3': 'no',\n",
       "   'Q4': 'this question is not related to this task',\n",
       "   'Q5': 'none'},\n",
       "  'zfbnaya0jb2hsy8'),\n",
       " ({'Q0': '10',\n",
       "   'Q1': '7',\n",
       "   'Q2': \"scrolled up and down and checked out just parts of the photo instead of whole thing when I wasn't too sure\",\n",
       "   'Q3': 'yes there were',\n",
       "   'Q4': 'looking for an animal versus a vehicle usually at first',\n",
       "   'Q5': 'unusual hit, interesting. thank you!'},\n",
       "  '1xxt66gsgcu88uv'),\n",
       " ({'Q0': '8',\n",
       "   'Q1': '5',\n",
       "   'Q2': 'no strategy but just my own fellings but I did look for a possible alternative.',\n",
       "   'Q3': 'no',\n",
       "   'Q4': 'Color and shape were most considered',\n",
       "   'Q5': 'thank you'},\n",
       "  '7vxrker6fbhmwpg'),\n",
       " ({'Q0': '10',\n",
       "   'Q1': '3',\n",
       "   'Q2': 'None',\n",
       "   'Q3': 'No',\n",
       "   'Q4': 'Not really',\n",
       "   'Q5': ''},\n",
       "  'em6xtf6m1ka8yfw'),\n",
       " ({'Q0': '10',\n",
       "   'Q1': '7',\n",
       "   'Q2': 'no',\n",
       "   'Q3': 'yes',\n",
       "   'Q4': 'They were all fuzzy',\n",
       "   'Q5': 'Thanks'},\n",
       "  'jzydj6mawkwad9u'),\n",
       " ({'Q0': '8',\n",
       "   'Q1': '9',\n",
       "   'Q2': 'No.',\n",
       "   'Q3': 'No.',\n",
       "   'Q4': 'I used the shape first to eliminate possibilities before reevaluating the image against the smaller group of remaining possibilities',\n",
       "   'Q5': ''},\n",
       "  'aog69erc4f9vht1'),\n",
       " ({'Q0': '10',\n",
       "   'Q1': '2',\n",
       "   'Q2': 'No just what it seemed to me.',\n",
       "   'Q3': 'Just one -- dog/deer at the end',\n",
       "   'Q4': 'No just gut sense',\n",
       "   'Q5': 'No, thanks ... Interesting!'},\n",
       "  'kkb7yr3ds46o0h2'),\n",
       " ({'Q0': '10',\n",
       "   'Q1': '4',\n",
       "   'Q2': 'I often took my first instinct, or squinted my eyes to see if I could see something different',\n",
       "   'Q3': 'Occasionally',\n",
       "   'Q4': 'The better the quality the more sure I was that the group would get that answer.',\n",
       "   'Q5': ''},\n",
       "  '7b6z75u7zbcndsz'),\n",
       " ({'Q0': '10',\n",
       "   'Q1': '1',\n",
       "   'Q2': 'I looked for identifiable traits',\n",
       "   'Q3': 'No',\n",
       "   'Q4': 'No',\n",
       "   'Q5': 'No'},\n",
       "  '0t5nynks594x8wb'),\n",
       " ({'Q0': '10',\n",
       "   'Q1': '2',\n",
       "   'Q2': 'No strategy specifically, I just made the best judgment on what I felt others would think. A lot of them were very clear as to what they were.',\n",
       "   'Q3': \"There are a few tweaks I could make on the exact percentage/probability to better get my main choice/alternative up to 100 since I'm more confident on it now, but that's all.\",\n",
       "   'Q4': 'I considered the background heavily when it came to animal-based photographs.',\n",
       "   'Q5': 'Thank you for letting me participate!'},\n",
       "  't27ngphmj7c1y27'),\n",
       " ({'Q0': '10', 'Q1': '2', 'Q2': 'no', 'Q3': 'no', 'Q4': 'no', 'Q5': 'none'},\n",
       "  '81lg2oat0uj18lq'),\n",
       " ({'Q0': '9',\n",
       "   'Q1': '2',\n",
       "   'Q2': 'Not really, just compared the image to the categories',\n",
       "   'Q3': 'no',\n",
       "   'Q4': 'no',\n",
       "   'Q5': 'represented was misspelled on the question'},\n",
       "  'kmfq4fdqxso47u4'),\n",
       " ({'Q0': '10',\n",
       "   'Q1': '5',\n",
       "   'Q2': 'i just tried to picture what was in the pictures shown',\n",
       "   'Q3': 'no',\n",
       "   'Q4': 'i tried imagine what the animal was if the picture was clear',\n",
       "   'Q5': 'everything was good in the study i enjoyed taking it'},\n",
       "  'onsl2fo327pf1s0'),\n",
       " ({'Q0': '10',\n",
       "   'Q1': '6',\n",
       "   'Q2': 'nothing specific',\n",
       "   'Q3': 'no',\n",
       "   'Q4': 'no',\n",
       "   'Q5': 'no'},\n",
       "  '6bug04wx5l14wf6'),\n",
       " ({'Q0': 'Yes',\n",
       "   'Q1': '4',\n",
       "   'Q2': 'No',\n",
       "   'Q3': 'Yes',\n",
       "   'Q4': 'Mostly animal pictures',\n",
       "   'Q5': 'None'},\n",
       "  'vy7lfjafp0wmc3j'),\n",
       " ({'Q0': '10', 'Q1': '3', 'Q2': '', 'Q3': '', 'Q4': '', 'Q5': ''},\n",
       "  '5tl6fkk8vjujgy1'),\n",
       " ({'Q0': '9', 'Q1': '7', 'Q2': 'No', 'Q3': 'No', 'Q4': 'No', 'Q5': 'No'},\n",
       "  'mx0oal2fq5n157d'),\n",
       " ({'Q0': '10', 'Q1': '5', 'Q2': '', 'Q3': '', 'Q4': '', 'Q5': ''},\n",
       "  'mbd9man7vqvp8u7'),\n",
       " ({'Q0': '9',\n",
       "   'Q1': '8',\n",
       "   'Q2': 'For many I just thought it was clear what it would be then I put 100 percent',\n",
       "   'Q3': 'No',\n",
       "   'Q4': 'No',\n",
       "   'Q5': 'No'},\n",
       "  'asohmyvu52c60rn'),\n",
       " ({'Q0': '9',\n",
       "   'Q1': '7',\n",
       "   'Q2': 'No',\n",
       "   'Q3': 'Yes',\n",
       "   'Q4': 'No',\n",
       "   'Q5': 'I changed my own answers on images that were repeated.'},\n",
       "  'mx04bg0m1mtlyau'),\n",
       " ({'Q0': '10',\n",
       "   'Q1': '4',\n",
       "   'Q2': 'no',\n",
       "   'Q3': 'no',\n",
       "   'Q4': 'the photos with better quality allowed me to come up  with a conclusion sooner.',\n",
       "   'Q5': 'no'},\n",
       "  'ztwcw8nx3nzjc46'),\n",
       " ({'Q0': '10', 'Q1': '7', 'Q2': 'No', 'Q3': 'No', 'Q4': 'No', 'Q5': 'No'},\n",
       "  '52705m7syl22tvh'),\n",
       " ({'Q0': '10',\n",
       "   'Q1': '2',\n",
       "   'Q2': 'nope',\n",
       "   'Q3': 'nope',\n",
       "   'Q4': 'how defined the picture was and the orientation of it',\n",
       "   'Q5': ''},\n",
       "  'dzbawx3speqeoax'),\n",
       " ({'Q0': '6',\n",
       "   'Q1': '5',\n",
       "   'Q2': 'To an extent of what looked best.',\n",
       "   'Q3': 'Not really.',\n",
       "   'Q4': 'Nothing that I would say so.',\n",
       "   'Q5': 'I hope I did this correctly.'},\n",
       "  'nd01o399s8qmwmb'),\n",
       " ({'Q0': '10', 'Q1': '3', 'Q2': 'No', 'Q3': 'No', 'Q4': 'No', 'Q5': 'N/A'},\n",
       "  'jjrjaubyvm8cxgb'),\n",
       " ({'Q0': '10',\n",
       "   'Q1': '7',\n",
       "   'Q2': 'I have seen every image very carefully, and then determined the most probable class.',\n",
       "   'Q3': 'No.',\n",
       "   'Q4': 'No.',\n",
       "   'Q5': 'No.'},\n",
       "  'uygt0t1bj4zev1y'),\n",
       " ({'Q0': '10',\n",
       "   'Q1': '6',\n",
       "   'Q2': 'Just tried to look closely at the picture',\n",
       "   'Q3': 'No',\n",
       "   'Q4': 'Just tried to make out the overall shape of the image and go from there. ',\n",
       "   'Q5': 'Everything worked great'},\n",
       "  'bhk825uau65txmb'),\n",
       " ({'Q0': '10',\n",
       "   'Q1': '6',\n",
       "   'Q2': 'Not really, just tried to guess what it was',\n",
       "   'Q3': 'No',\n",
       "   'Q4': 'I look to see if it was organic (rounded lines) vs artificial (hard lines)',\n",
       "   'Q5': 'NA'},\n",
       "  'hc8gfwjd0npbw6v'),\n",
       " ({'Q0': '9',\n",
       "   'Q1': '7',\n",
       "   'Q2': 'I just went with what I personally felt it looked like.',\n",
       "   'Q3': 'No',\n",
       "   'Q4': 'No',\n",
       "   'Q5': ''},\n",
       "  '9ahbqwl8o515khk'),\n",
       " ({'Q0': '9',\n",
       "   'Q1': '7',\n",
       "   'Q2': 'no',\n",
       "   'Q3': 'no',\n",
       "   'Q4': 'no',\n",
       "   'Q5': 'no. Thank you'},\n",
       "  '02w4858vb8jeoep'),\n",
       " ({'Q0': '10',\n",
       "   'Q1': '1',\n",
       "   'Q2': 'no',\n",
       "   'Q3': 'yes',\n",
       "   'Q4': 'no, just what it looked like',\n",
       "   'Q5': 'the first one should probably have put 100% instead of 0% for alternative for the automobile'},\n",
       "  'tuh5agqxtnvcr78'),\n",
       " ({'Q0': '9',\n",
       "   'Q1': '2',\n",
       "   'Q2': 'For animals, I looked at the image context and determined whether it was an indoor or outdoor animal. For objects, it was more straightforward to identify the shape.',\n",
       "   'Q3': 'No',\n",
       "   'Q4': 'It was only really difficult to tell in one or two of the images what the object was; this was due to the fact that these images were incredibly blurry.',\n",
       "   'Q5': 'None'},\n",
       "  'srooe28oc3fadp5'),\n",
       " ({'Q0': '8',\n",
       "   'Q1': '9',\n",
       "   'Q2': \"assume people can't see or are rushing\",\n",
       "   'Q3': 'yes very much so',\n",
       "   'Q4': 'backgrounds, silhouettes, colors lots of things',\n",
       "   'Q5': 'Not sure what to do when items were not within the categories listed like 1 picture looked a lot like a bear and was unsure what to do'},\n",
       "  '7nlbw3zs7758l41'),\n",
       " ({'Q0': '10', 'Q1': '5', 'Q2': 'no', 'Q3': 'no', 'Q4': 'no', 'Q5': 'no'},\n",
       "  'x3nooe2hqy1zz0r'),\n",
       " ({'Q0': '9', 'Q1': '2', 'Q2': 'No', 'Q3': 'No', 'Q4': 'No', 'Q5': 'No'},\n",
       "  'ox27136n8b8fdrp'),\n",
       " ({'Q0': '10',\n",
       "   'Q1': '7',\n",
       "   'Q2': 'I went with my gut on most pictures and then thought about whether or not that would be a common response.',\n",
       "   'Q3': 'There were a few that gave me pause when I thought about the color of the photo and what other possibilities might be that were different than my gut reaction.',\n",
       "   'Q4': 'I tried to pay attention to size of what I was seeing and whether or not the item had fur or feathers or was smooth and clean.',\n",
       "   'Q5': 'Thank you'},\n",
       "  '31wsfgg305nty3y'),\n",
       " ({'Q0': '10',\n",
       "   'Q1': '2',\n",
       "   'Q2': 'No real specific strategy',\n",
       "   'Q3': 'no',\n",
       "   'Q4': 'No',\n",
       "   'Q5': ''},\n",
       "  't0bkf9yn4dff79b'),\n",
       " ({'Q0': '8',\n",
       "   'Q1': '5',\n",
       "   'Q2': 'yes',\n",
       "   'Q3': 'yes',\n",
       "   'Q4': \"Although I could tell most images, I'm not sure everyone could so the blurriest images I left to a higher chance of the 100 people to get it wrong.\",\n",
       "   'Q5': 'The questions were clear and the pages loaded quickly. Thanks!'},\n",
       "  'dbs2o442g0p84e6'),\n",
       " ({'Q0': '10', 'Q1': '5', 'Q2': 'no', 'Q3': 'no', 'Q4': '', 'Q5': ''},\n",
       "  'p5rab6z0c7hxgxt'),\n",
       " ({'Q0': '10',\n",
       "   'Q1': '3',\n",
       "   'Q2': 'Go with the obvious, then account for the users who are not wearing their glasses. I looked at the image with my glasses on and off to gain extra perspective. ',\n",
       "   'Q3': 'No, I felt very confident in my selections at the time of submission. ',\n",
       "   'Q4': 'I was not aware of the specific different between an automobile and a truck, so I had to adjust for the possible outcome where truck may be used as a more generic term for anything work ready and automobile may be more geared toward a go-kart or scooter. \\n\\nI felt birds were the only item capable of standing of two legs, but frogs could be mid-leap.  \\n\\nI was not confident that all the crowdworkers would recognize the ostrich as a bird, so I added some wiggle room there with the categories. ',\n",
       "   'Q5': 'I sided with caution on most examples to add some extra categories for the outlier guesses. But I felt most of my selections were quite firm in the primary category. '},\n",
       "  'ynx8t8g1p4uwg0b'),\n",
       " ({'Q0': '10',\n",
       "   'Q1': '6',\n",
       "   'Q2': 'I looked at what it looked like ',\n",
       "   'Q3': 'No',\n",
       "   'Q4': 'The scale and size of shapes',\n",
       "   'Q5': 'Fun survey, thanks.'},\n",
       "  'eaomq5k4mm7ar4l'),\n",
       " ({'Q0': '9', 'Q1': '8', 'Q2': 'No', 'Q3': 'No', 'Q4': 'No', 'Q5': ''},\n",
       "  '0qh1suhv6kfofxk'),\n",
       " ({'Q0': '10',\n",
       "   'Q1': '6',\n",
       "   'Q2': 'I thought about the clarity of the image and if I could imagine interpreting it as something other than what I initially see,',\n",
       "   'Q3': 'No',\n",
       "   'Q4': 'How the colors and quality of the image looked.',\n",
       "   'Q5': 'None, thanks'},\n",
       "  'zzngoeqba6fb5gs'),\n",
       " ({'Q0': '10', 'Q1': '3', 'Q2': 'na', 'Q3': 'no', 'Q4': 'no', 'Q5': ''},\n",
       "  'qu8d5nw73quxwlq'),\n",
       " ({'Q0': '10',\n",
       "   'Q1': 'most seemed straight forward but a few were tough',\n",
       "   'Q2': 'shape then background',\n",
       "   'Q3': \"not really, there was one that just looked like a rock or something which wasn't an option\",\n",
       "   'Q4': 'I think color, background, shape',\n",
       "   'Q5': 'The last two images were duplicates, seen earlier in the series. The 2nd to the last I accidentally hit the enter key before choosing which items I thought it had zero chance of being so those items would have been automobile, ship, airplane, frog, cat, truck, bird'},\n",
       "  'd1kmrek6wf0bb4a'),\n",
       " ({'Q0': '9', 'Q1': '5', 'Q2': 'No.', 'Q3': 'No.', 'Q4': 'No.', 'Q5': 'No.'},\n",
       "  '5aj4wql8jp0ah3n'),\n",
       " ({'Q0': '10',\n",
       "   'Q1': '3',\n",
       "   'Q2': 'looking at the image ',\n",
       "   'Q3': 'no',\n",
       "   'Q4': 'no',\n",
       "   'Q5': 'no'},\n",
       "  'sh84y5101yhqhqo'),\n",
       " ({'Q0': '10',\n",
       "   'Q1': '1',\n",
       "   'Q2': 'no',\n",
       "   'Q3': 'maybe a couple',\n",
       "   'Q4': 'outlines, shapes, positioning, perspective',\n",
       "   'Q5': 'no'},\n",
       "  'xtbtd9mbc5vo93s'),\n",
       " ({'Q0': '9', 'Q1': '7', 'Q2': 'no', 'Q3': 'no', 'Q4': 'no', 'Q5': 'no'},\n",
       "  '7ujs43n0eezcz94'),\n",
       " ({'Q0': '10', 'Q1': '7', 'Q2': 'no', 'Q3': 'no', 'Q4': '', 'Q5': ''},\n",
       "  '7q7kjttjak1ztx0'),\n",
       " ({'Q0': '10', 'Q1': '8', 'Q2': 'no', 'Q3': 'no', 'Q4': 'no', 'Q5': 'no'},\n",
       "  '2clomz81vys7ny4'),\n",
       " ({'Q0': '10',\n",
       "   'Q1': '7',\n",
       "   'Q2': 'I tried to concentrate and take my time.',\n",
       "   'Q3': 'No',\n",
       "   'Q4': 'Just shape and color.',\n",
       "   'Q5': 'Nope, this was a great study.'},\n",
       "  '68yyc9fxa4owl6k'),\n",
       " ({'Q0': '10',\n",
       "   'Q1': '6',\n",
       "   'Q2': 'No, I just tried to estimate what the most apparent characteristic was',\n",
       "   'Q3': 'no',\n",
       "   'Q4': 'I used other objects in and around the main object to try to determine what each picture was.',\n",
       "   'Q5': ''},\n",
       "  '2ve7f09kxbv2xmm'),\n",
       " ({'Q0': 'yes',\n",
       "   'Q1': '1',\n",
       "   'Q2': 'what it looked like most',\n",
       "   'Q3': 'no',\n",
       "   'Q4': 'they were all blurry',\n",
       "   'Q5': 'no'},\n",
       "  'crnv4u26rfg6ome'),\n",
       " ({'Q0': '8',\n",
       "   'Q1': '1',\n",
       "   'Q2': 'Just common sense. A lot of the stuff was obvious and I would find it hard to believe people could view those images as what they are not even out of 100 people.',\n",
       "   'Q3': 'Once or twice maybe yeah.',\n",
       "   'Q4': 'Not really',\n",
       "   'Q5': 'None'},\n",
       "  'raehpsu6jzolmld'),\n",
       " ({'Q0': '10',\n",
       "   'Q1': '3',\n",
       "   'Q2': 'no i just looked at the image and put it where i thought it would go',\n",
       "   'Q3': '',\n",
       "   'Q4': 'no i just said what i thought it looked like',\n",
       "   'Q5': 'everything was good in the study i enjoyed taking it'},\n",
       "  'znnourlullt9e26'),\n",
       " ({'Q0': '10', 'Q1': '6', 'Q2': 'none', 'Q3': 'none', 'Q4': 'none', 'Q5': ''},\n",
       "  'mtpa2uwy8g4mh3a'),\n",
       " ({'Q0': '10',\n",
       "   'Q1': '2',\n",
       "   'Q2': 'Just from what I saw in the image that other people were likely to see the same thing.',\n",
       "   'Q3': 'No',\n",
       "   'Q4': 'How blurry or clear the image was',\n",
       "   'Q5': 'No'},\n",
       "  'kzt2a244zlc6m4u'),\n",
       " ({'Q0': '10',\n",
       "   'Q1': '8',\n",
       "   'Q2': 'I just tried to think what would fit best.',\n",
       "   'Q3': 'Not really.',\n",
       "   'Q4': 'I tried to think of what they looked like. I think I did better once I got going. ',\n",
       "   'Q5': \"Thank you, I hope I did alright. I've never done anything quite like this before. \"},\n",
       "  '85onbeuf0ywrqpw'),\n",
       " ({'Q0': 'yes', 'Q1': '4', 'Q2': 'no', 'Q3': 'no', 'Q4': 'no', 'Q5': 'no'},\n",
       "  'xb22orgnzhs1hxu'),\n",
       " ({'Q0': '10', 'Q1': '2', 'Q2': 'No', 'Q3': 'No', 'Q4': 'No', 'Q5': ''},\n",
       "  'vb9qyn5jfl8dscf'),\n",
       " ({'Q0': 'yes',\n",
       "   'Q1': 'not hard',\n",
       "   'Q2': 'no',\n",
       "   'Q3': 'few times',\n",
       "   'Q4': 'no',\n",
       "   'Q5': 'have a good day'},\n",
       "  '904uu2f7j3fzpoe'),\n",
       " ({'Q0': '7',\n",
       "   'Q1': '8',\n",
       "   'Q2': 'Yes',\n",
       "   'Q3': 'Yes',\n",
       "   'Q4': 'How clearly I could make out the images and then what the image might also be seen as.',\n",
       "   'Q5': ''},\n",
       "  'xcz0pybznro67ha'),\n",
       " ({'Q0': '9', 'Q1': '6', 'Q2': 'no', 'Q3': 'no', 'Q4': 'no', 'Q5': 'no'},\n",
       "  'p4wxpto352rc7l9'),\n",
       " ({'Q0': '8',\n",
       "   'Q1': '7',\n",
       "   'Q2': 'nono',\n",
       "   'Q3': 'no',\n",
       "   'Q4': 'Nope',\n",
       "   'Q5': 'It did take me longer than expected.'},\n",
       "  'yxdk2eh50gy0z2g'),\n",
       " ({'Q0': '10',\n",
       "   'Q1': '6',\n",
       "   'Q2': 'If I had a difficult time resolving the image, it sometimes would become clear if I looked away and came back to it.',\n",
       "   'Q3': 'Yes',\n",
       "   'Q4': 'Overall shape, color',\n",
       "   'Q5': ''},\n",
       "  'puzt8w7vdfs1xgn'),\n",
       " ({'Q0': '9',\n",
       "   'Q1': '2',\n",
       "   'Q2': 'no',\n",
       "   'Q3': 'no',\n",
       "   'Q4': 'Indoors vs. outdoors,  in air vs. on ground',\n",
       "   'Q5': 'no'},\n",
       "  '1f9mfj6vgbxsz0k'),\n",
       " ({'Q0': '10', 'Q1': '25', 'Q2': 'no', 'Q3': 'no', 'Q4': 'no', 'Q5': ''},\n",
       "  'ctqd1rndstcptvb'),\n",
       " ({'Q0': '108',\n",
       "   'Q1': '8',\n",
       "   'Q2': 'When an image appeared clearly at first glance, and I was sure what it was, I marked accordingly. If that did not occur I used the image that seemed closest, then thought about how the other people would respond.',\n",
       "   'Q3': 'no',\n",
       "   'Q4': 'Most of the time the images were clear enough for me. In a few cases they were so unclear I had to keep staring at them until an image appeared',\n",
       "   'Q5': 'I enjoyed your study, thank you'},\n",
       "  'ojsljf7b67nmgyq'),\n",
       " ({'Q0': '10',\n",
       "   'Q1': '7',\n",
       "   'Q2': 'yes',\n",
       "   'Q3': 'yes',\n",
       "   'Q4': 'The environment in the background helps a lot in finding out the probable class. ',\n",
       "   'Q5': 'I very much enjoyed taking this study!'},\n",
       "  'h2ec5hcw0esb3oy'),\n",
       " ({'Q0': '10',\n",
       "   'Q1': '3',\n",
       "   'Q2': 'no',\n",
       "   'Q3': 'no',\n",
       "   'Q4': 'no',\n",
       "   'Q5': 'nothing else to add'},\n",
       "  'epen6m0qns7larv'),\n",
       " ({'Q0': '10',\n",
       "   'Q1': '2',\n",
       "   'Q2': 'I tired to identify the actual object, or look at the size/shape of it. ',\n",
       "   'Q3': 'no',\n",
       "   'Q4': 'clarity, size of the object, inside vs outside, and if there was water (eg ship) or sky (plane) ',\n",
       "   'Q5': ''},\n",
       "  '2bmhrvoun7mmz1z'),\n",
       " ({'Q0': '', 'Q1': '', 'Q2': '', 'Q3': '', 'Q4': '', 'Q5': ''},\n",
       "  '20xafdv0ohqogaw'),\n",
       " ({'Q0': '10',\n",
       "   'Q1': '5',\n",
       "   'Q2': 'no, other than trying to figure out what was in the image',\n",
       "   'Q3': 'no',\n",
       "   'Q4': 'no',\n",
       "   'Q5': 'nothing at this time, thank you'},\n",
       "  'kvoh2sqp67y98bg'),\n",
       " ({'Q0': '8', 'Q1': '1', 'Q2': 'No', 'Q3': 'No', 'Q4': 'No', 'Q5': ''},\n",
       "  'xvhwlxdlwfwd25f'),\n",
       " ({'Q0': '10',\n",
       "   'Q1': '1',\n",
       "   'Q2': 'Just looking at not only the \"main\" part of the image, but the environment as well. Sometimes could see water, sometimes could see it\\'s outdoors, etc.',\n",
       "   'Q3': 'No',\n",
       "   'Q4': 'Not really, just taking into account everything in the picture, and using it all to determine what made the most sense. Sometimes you could obviously tell the object was inanimate, and sometimes you could tell it was a living thing, so that would rule out potential classes, etc.',\n",
       "   'Q5': 'There were 2 repeats in the images, not sure if this was done on purpose to gauge our initial answers versus the duplicate or not.'},\n",
       "  'mdmbskh6r9nbnqk'),\n",
       " ({'Q0': '10',\n",
       "   'Q1': '7',\n",
       "   'Q2': 'no',\n",
       "   'Q3': 'yes',\n",
       "   'Q4': 'only if I could see the item or not',\n",
       "   'Q5': ''},\n",
       "  '88pd3q9dqoaetlq'),\n",
       " ({'Q0': '10',\n",
       "   'Q1': '4',\n",
       "   'Q2': 'I first determined whether it looked like an animal or machine to narrow it down. If it was more obvious then I gave it a higher probability but if it was harder to tell what it was I chose a lower probability.',\n",
       "   'Q3': 'No, there were some that were close and hard to tell between two but I went with the one that I thought it looked a little more like.',\n",
       "   'Q4': 'I tried to look at legs and head shape to differentiate the animals. For vehicles I tried to look at the back of it to see if it looked more like a truck or other vehicle.',\n",
       "   'Q5': ''},\n",
       "  'y7ftxaylosays2u'),\n",
       " ({'Q0': '9', 'Q1': '4', 'Q2': 'Yes', 'Q3': 'Yes', 'Q4': 'Yes', 'Q5': 'No'},\n",
       "  'jph3bd1byculrb3'),\n",
       " ({'Q0': '9',\n",
       "   'Q1': '8',\n",
       "   'Q2': 'Background clues',\n",
       "   'Q3': 'No',\n",
       "   'Q4': 'Fur-like colors for animals',\n",
       "   'Q5': ''},\n",
       "  'm7m4anm1pz4wqxo'),\n",
       " ({'Q0': '9',\n",
       "   'Q1': '8',\n",
       "   'Q2': 'I usually went with my first instinct.',\n",
       "   'Q3': \"Just one picture, but I wasn't too sure on it.\",\n",
       "   'Q4': \"I looked for the background. If it was in a tree I was fairly confident it wasn't a horse.\",\n",
       "   'Q5': 'Noting in particular, thank you.'},\n",
       "  'f0ss65leo42msrn'),\n",
       " ({'Q0': '10', 'Q1': '8', 'Q2': 'no', 'Q3': 'no', 'Q4': 'no', 'Q5': 'np'},\n",
       "  'a4e7rg1zm6jce43'),\n",
       " ({'Q0': '10',\n",
       "   'Q1': '4',\n",
       "   'Q2': '',\n",
       "   'Q3': \"what somebody would think they saw if they didn't see well\",\n",
       "   'Q4': 'eyes for animals',\n",
       "   'Q5': 'that was fun!'},\n",
       "  '3xdnp36ahql50br'),\n",
       " ({'Q0': '8',\n",
       "   'Q1': '6',\n",
       "   'Q2': 'yes - process of elimination',\n",
       "   'Q3': 'no',\n",
       "   'Q4': \"don't understand the question\",\n",
       "   'Q5': ''},\n",
       "  'arjn462gqkpqvsj'),\n",
       " ({'Q0': '9', 'Q1': '9', 'Q2': 'looks', 'Q3': 'mo', 'Q4': 'no', 'Q5': ''},\n",
       "  'vpudnc88o27z2ob'),\n",
       " ({'Q0': '10',\n",
       "   'Q1': '3',\n",
       "   'Q2': 'My gut feel',\n",
       "   'Q3': 'No',\n",
       "   'Q4': 'No',\n",
       "   'Q5': 'No'},\n",
       "  '3graumwrzbbnfo7'),\n",
       " ({'Q0': '10', 'Q1': '10', 'Q2': '', 'Q3': '', 'Q4': '', 'Q5': ''},\n",
       "  'tycmoes46hu4xje'),\n",
       " ({'Q0': '10',\n",
       "   'Q1': '3',\n",
       "   'Q2': 'yes, was it alive with curved edges or sharp edges probably not alive',\n",
       "   'Q3': 'no',\n",
       "   'Q4': 'colors and background',\n",
       "   'Q5': 'no'},\n",
       "  '8hw0kbgrl5j664g'),\n",
       " ({'Q0': '10',\n",
       "   'Q1': '5',\n",
       "   'Q2': 'I felt like a lot of people would see it as I did, so I went with how I saw it',\n",
       "   'Q3': \"I don't think so\",\n",
       "   'Q4': 'Colors of the main item and the background, shapes of the main item',\n",
       "   'Q5': ''},\n",
       "  '599q8orrqybs17m'),\n",
       " ({'Q0': '8', 'Q1': '7', 'Q2': '8', 'Q3': '2', 'Q4': 'N/A', 'Q5': 'N/A'},\n",
       "  'g8sz6r4gx42nnd8'),\n",
       " ({'Q0': '10',\n",
       "   'Q1': '8',\n",
       "   'Q2': 'In this case I have tried to understand the image better and be able to identify the appropriate section.',\n",
       "   'Q3': \"No, I can't remember at the moment.\",\n",
       "   'Q4': 'In this case I have tried to identify the images as clearly as possible and have identified them by finding specific sections. Also I matched and marked the images with their specific sections.',\n",
       "   'Q5': 'This study was very Nice. I like to participate in such studies. In this study I have tried my best to make a good contribution. Even then, I hope you will forgive me if I make any mistakes in this study. Thank you for sharing this study with me and good luck you.'},\n",
       "  'ernjzr86pc7qlaj'),\n",
       " ({'Q0': '10',\n",
       "   'Q1': '10',\n",
       "   'Q2': 'Just looking at them for myself. I figured if I could see what it is most others would be able to as well',\n",
       "   'Q3': 'Yes',\n",
       "   'Q4': \"I'm not sure I understand this question. Some were definitely more difficult to see and figure out than others is that's what you mean. \",\n",
       "   'Q5': 'Interesting. '},\n",
       "  'pr2dxgj7yuu8lj4'),\n",
       " ({'Q0': '10',\n",
       "   'Q1': '7',\n",
       "   'Q2': 'i tried to look at the settings. If i saw water, I assumed it was likely a ship.  some things like the planes were obvious.  If something was sitting on a chair, I assumed it was a cat or a dog.  ',\n",
       "   'Q3': 'no',\n",
       "   'Q4': 'n/a',\n",
       "   'Q5': 'n/a '},\n",
       "  '5uy7znjsr428jpw'),\n",
       " ({'Q0': '10',\n",
       "   'Q1': '7',\n",
       "   'Q2': 'If one of the options was a similar size, shape, color, or category (like animal or vehicle.)',\n",
       "   'Q3': 'Not that I recall.',\n",
       "   'Q4': 'Yes, I assumed because many were low quality the responses of others could vary greatly. Some had much worse quality than others so I felt less confident that people would have the same answers.',\n",
       "   'Q5': 'No, thank you.'},\n",
       "  'ny0ce0d76rf4e36'),\n",
       " ({'Q0': '10',\n",
       "   'Q1': '6',\n",
       "   'Q2': 'no just paid attention to the picture',\n",
       "   'Q3': 'no',\n",
       "   'Q4': 'just tried to define what was in the picture',\n",
       "   'Q5': 'Interesting survey, thank you. Some pictures were easier to identify than others. '},\n",
       "  '67gddutq3mvdmsf'),\n",
       " ({'Q0': '10', 'Q1': '6', 'Q2': 'no', 'Q3': 'yes', 'Q4': 'no', 'Q5': 'no'},\n",
       "  'lr1yabq0k6r0nxg'),\n",
       " ({'Q0': '10',\n",
       "   'Q1': '3',\n",
       "   'Q2': 'just my best judgement',\n",
       "   'Q3': 'yes',\n",
       "   'Q4': 'no',\n",
       "   'Q5': 'no'},\n",
       "  'nhjqph59g21rqz5'),\n",
       " ({'Q0': '4',\n",
       "   'Q1': '5',\n",
       "   'Q2': 'Just intuition',\n",
       "   'Q3': 'No',\n",
       "   'Q4': '\"What does this look like. Easy. Okay, what COULD someone else think this looks like?\"',\n",
       "   'Q5': ''},\n",
       "  '5ywtqh57kgs7ckk'),\n",
       " ({'Q0': '10', 'Q1': '1', 'Q2': 'no', 'Q3': 'no', 'Q4': 'no', 'Q5': 'no'},\n",
       "  'gs1jb3q1mdqeoag'),\n",
       " ({'Q0': '9', 'Q1': '4', 'Q2': 'No', 'Q3': 'No', 'Q4': 'yes', 'Q5': ''},\n",
       "  'h93s97ef7a4pmuc'),\n",
       " ({'Q0': '9',\n",
       "   'Q1': '3',\n",
       "   'Q2': 'I did not have a particular strategy, I just went with what I saw.',\n",
       "   'Q3': 'No.',\n",
       "   'Q4': 'Sometimes I considered the background of an image and how probable it was that one of the categories would be in that setting.',\n",
       "   'Q5': 'I accidentally left an extra box unticked on one of the images I gave 100% in the first category to.'},\n",
       "  'lt29gdb37pds0mn'),\n",
       " ({'Q0': '10',\n",
       "   'Q1': '2',\n",
       "   'Q2': 'I just tried my best to identify what the image was and how obvious it seemed.',\n",
       "   'Q3': 'N/A',\n",
       "   'Q4': 'Outline, coloring',\n",
       "   'Q5': ''},\n",
       "  's6yat9c8ryj3r1y'),\n",
       " ({'Q0': '8',\n",
       "   'Q1': '3',\n",
       "   'Q2': 'Thought about the thickness of limbs and necks and snouts quite a bit, to rule things out.',\n",
       "   'Q3': 'There was a bird you showed twice which im not sure i gave the exact same probability for.',\n",
       "   'Q4': 'Um, it was just a little more difficult the more blurry it was. If it was tremendously blurry, I had to just go by size and thickness.',\n",
       "   'Q5': 'Nope!'},\n",
       "  'vpy9x2f9enjq5b7'),\n",
       " ({'Q0': '10',\n",
       "   'Q1': '2',\n",
       "   'Q2': 'No particular strategy',\n",
       "   'Q3': 'No',\n",
       "   'Q4': 'no',\n",
       "   'Q5': 'no'},\n",
       "  'a7jw93f4y7evqr8'),\n",
       " ({'Q0': '9', 'Q1': '7', 'Q2': 'no', 'Q3': 'no', 'Q4': 'no', 'Q5': 'n/a'},\n",
       "  'lvu6hnq8fbh6pua'),\n",
       " ({'Q0': '10', 'Q1': '8', 'Q2': 'squint', 'Q3': 'no', 'Q4': 'no', 'Q5': 'no'},\n",
       "  'un7xhycsz3f1hrw'),\n",
       " ({'Q0': '9', 'Q1': '8', 'Q2': 'No', 'Q3': 'Yes', 'Q4': '', 'Q5': ''},\n",
       "  'kpr7q4s1kauy47k'),\n",
       " ({'Q0': '8',\n",
       "   'Q1': '4',\n",
       "   'Q2': 'no',\n",
       "   'Q3': 'no',\n",
       "   'Q4': 'I considered whether they looked organic or not',\n",
       "   'Q5': 'no'},\n",
       "  'xczuose0madg37z'),\n",
       " ({'Q0': '10',\n",
       "   'Q1': '7',\n",
       "   'Q2': 'I went with my first impression',\n",
       "   'Q3': 'No',\n",
       "   'Q4': 'I considered the background as well as the subject of the photo',\n",
       "   'Q5': ''},\n",
       "  'lkrasaakw12l3nx'),\n",
       " ({'Q0': '10',\n",
       "   'Q1': '6',\n",
       "   'Q2': 'Just tried to envision what most people would think the object was.',\n",
       "   'Q3': 'No',\n",
       "   'Q4': '',\n",
       "   'Q5': ''},\n",
       "  '4zrrboyj799smus'),\n",
       " ({'Q0': '10',\n",
       "   'Q1': '4',\n",
       "   'Q2': 'knowledge of american exposure to imagery; culture',\n",
       "   'Q3': 'no',\n",
       "   'Q4': 'no',\n",
       "   'Q5': 'Please consider me for future research participation as I give my full diligence and attention. Thank you and it was great to meet you on Prolific.co.'},\n",
       "  'u6szavxdec3ggvb'),\n",
       " ({'Q0': '7',\n",
       "   'Q1': '3',\n",
       "   'Q2': 'I tried to imagine what mistakes other people might make.',\n",
       "   'Q3': 'No.',\n",
       "   'Q4': 'Could it be possible to not recognize the image? What else could it be mistaken for?',\n",
       "   'Q5': ''},\n",
       "  '5geswf6bz9mxrdo'),\n",
       " ({'Q0': '9',\n",
       "   'Q1': '5',\n",
       "   'Q2': 'Somewhat the shape of the object.',\n",
       "   'Q3': \"Yes, on one page I pressed enter by mistake and hadn't finished all my questions yet, but the page advanced.\",\n",
       "   'Q4': 'Sometimes jagged edges were indicative of fur I felt like.',\n",
       "   'Q5': ''},\n",
       "  'nhdlnmu2uaw4lyq'),\n",
       " ({'Q0': '10',\n",
       "   'Q1': '2',\n",
       "   'Q2': 'I assessed what I thought most people would be familiar with',\n",
       "   'Q3': 'no',\n",
       "   'Q4': 'There was one picture that what I considered to be a \"giveaway\" was located close to the corner, while the main body of the image was largely unclear. I considered (not only for this one image) what I thought others might notice/miss.',\n",
       "   'Q5': ''},\n",
       "  'ddnc1kkmnrq4u0k'),\n",
       " ({'Q0': 'Yes', 'Q1': '4', 'Q2': 'No', 'Q3': 'No', 'Q4': 'No', 'Q5': 'No'},\n",
       "  'rozrlrfobnbstaf'),\n",
       " ({'Q0': '10', 'Q1': '3', 'Q2': 'no', 'Q3': 'no', 'Q4': 'no', 'Q5': 'none'},\n",
       "  'w0tyym56ov51sax'),\n",
       " ({'Q0': 'yes', 'Q1': '2', 'Q2': 'no', 'Q3': 'no', 'Q4': 'no', 'Q5': ''},\n",
       "  'z1712nc6mqz2o15'),\n",
       " ({'Q0': '10',\n",
       "   'Q1': '5',\n",
       "   'Q2': 'No, just my eye sight',\n",
       "   'Q3': 'Not really',\n",
       "   'Q4': 'No',\n",
       "   'Q5': ''},\n",
       "  '93153g1jcjdfkv7'),\n",
       " ({'Q0': '9',\n",
       "   'Q1': '3',\n",
       "   'Q2': 'None',\n",
       "   'Q3': 'None',\n",
       "   'Q4': 'Not that I can think of',\n",
       "   'Q5': 'none'},\n",
       "  'o1fopzmj69r4u24'),\n",
       " ({'Q0': '10',\n",
       "   'Q1': '2',\n",
       "   'Q2': 'I did my best to visualize the possible options when the object was not 100% known to me.',\n",
       "   'Q3': 'No',\n",
       "   'Q4': 'No',\n",
       "   'Q5': 'This was an interesting and fun study.  Thank you!'},\n",
       "  '9nfha6low9ndjz7'),\n",
       " ({'Q0': '9',\n",
       "   'Q1': '8',\n",
       "   'Q2': 'no',\n",
       "   'Q3': 'no',\n",
       "   'Q4': 'backgrounds, colors',\n",
       "   'Q5': 'none'},\n",
       "  'ucr4b7v0n9pow5d'),\n",
       " ({'Q0': '9',\n",
       "   'Q1': '6',\n",
       "   'Q2': 'Just tried to look at the features and guess the best I could',\n",
       "   'Q3': 'No probably not',\n",
       "   'Q4': 'Yes quality was not great',\n",
       "   'Q5': 'No '},\n",
       "  'eyvm4f2nhfr92j4'),\n",
       " ({'Q0': '8',\n",
       "   'Q1': '8',\n",
       "   'Q2': 'I followed my own instincts when it was a clearer picture, and picked the category it had at least one thing it slightly resembled if the picture was not clear enough, with a lower probability',\n",
       "   'Q3': 'No',\n",
       "   'Q4': 'Color or the object, if we could see a face/eyes, if it was clearly animal or man made (shapr edges, straight lines...)',\n",
       "   'Q5': 'No, thank you'},\n",
       "  'vyza81z5a8rx65m'),\n",
       " ({'Q0': '10',\n",
       "   'Q1': '4',\n",
       "   'Q2': \"The pictures mostly jumped out to me immediately, but on the few where I wasn't immediately sure, I tried identifying key features like ears, eyes, and legs and seeing whether I could better parse the image.\",\n",
       "   'Q3': 'No',\n",
       "   'Q4': 'No - even though I think I could have selected differently for some of the blurry or more abstract images, I was confident in my judgments.',\n",
       "   'Q5': 'I accidentally selected the opposite answers for the final question on the very first image because I misread the prompt.  From then on I did that section correctly, but if you would like to inverse my checkboxes for that one then it would accurately reflect the answers I would have given.'},\n",
       "  '5rquuhlq9u1gyq5')]"
      ]
     },
     "execution_count": 58,
     "metadata": {},
     "output_type": "execute_result"
    }
   ],
   "source": [
    "'''\n",
    "Analyze final survey respone\n",
    "'''\n",
    "survey_df = df[(df.trial_type == 'survey-text')].reset_index()\n",
    "responses = [(json.loads(response), subj_id) for (response, subj_id) in zip(survey_df.response, survey_df[id_col])]\n",
    "\n",
    "responses\n"
   ]
  },
  {
   "cell_type": "code",
   "execution_count": 36,
   "id": "0a139dbf",
   "metadata": {},
   "outputs": [
    {
     "data": {
      "text/plain": [
       "(539910,\n",
       " Index(['annotator_id', 'trial_index', 'is_attn_check', 'true_category',\n",
       "        'chosen_category', 'true_label', 'chosen_label', 'correct_guess',\n",
       "        'cifar10_test_test_idx', 'image_filename', 'subcategory',\n",
       "        'reaction_time', 'time_elapsed'],\n",
       "       dtype='object'))"
      ]
     },
     "execution_count": 36,
     "metadata": {},
     "output_type": "execute_result"
    }
   ],
   "source": [
    "cifar10h_raw = pd.read_csv(\"../Downloads/cifar10h-raw.csv\")\n",
    "cifar10h_raw[\"image_filename\"]\n",
    "len(cifar10h_raw), cifar10h_raw.columns"
   ]
  },
  {
   "cell_type": "code",
   "execution_count": 38,
   "id": "e0367f92",
   "metadata": {},
   "outputs": [
    {
     "data": {
      "text/plain": [
       "(51336, 2517.283115162849)"
      ]
     },
     "execution_count": 38,
     "metadata": {},
     "output_type": "execute_result"
    }
   ],
   "source": [
    "cifar10h_raw = cifar10h_raw.loc[cifar10h_raw['cifar10_test_test_idx'].isin(all_elicitation_per_example.keys())]\n",
    "len(cifar10h_raw), np.mean(cifar10h_raw['reaction_time'])"
   ]
  },
  {
   "cell_type": "code",
   "execution_count": null,
   "id": "c5081f00",
   "metadata": {},
   "outputs": [],
   "source": []
  }
 ],
 "metadata": {
  "kernelspec": {
   "display_name": "Python 3",
   "language": "python",
   "name": "python3"
  },
  "language_info": {
   "codemirror_mode": {
    "name": "ipython",
    "version": 3
   },
   "file_extension": ".py",
   "mimetype": "text/x-python",
   "name": "python",
   "nbconvert_exporter": "python",
   "pygments_lexer": "ipython3",
   "version": "3.8.8"
  }
 },
 "nbformat": 4,
 "nbformat_minor": 5
}
